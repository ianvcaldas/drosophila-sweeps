{
 "cells": [
  {
   "cell_type": "markdown",
   "id": "f03a68d2-9ed8-4220-8ed5-a4274337e99b",
   "metadata": {},
   "source": [
    "## Resistant lines"
   ]
  },
  {
   "cell_type": "markdown",
   "id": "53b3c172-8555-4cc9-b761-2212d842cd02",
   "metadata": {
    "tags": []
   },
   "source": [
    "This notebook extracts the IDs of lines (which are our \"individuals\") from the DGRP2 that have a resistant allele for any of the loci of interest."
   ]
  },
  {
   "cell_type": "code",
   "execution_count": 1,
   "id": "7cfacaf0-150b-4b9a-9226-22646c5ef989",
   "metadata": {},
   "outputs": [],
   "source": [
    "from pathlib import Path\n",
    "\n",
    "import pandas as pd"
   ]
  },
  {
   "cell_type": "markdown",
   "id": "419b002f-2cc0-4717-b825-182ce8ac8f11",
   "metadata": {},
   "source": [
    "### Ace and Cyp6g1"
   ]
  },
  {
   "cell_type": "code",
   "execution_count": 2,
   "id": "807c7165-4ef4-4567-83fa-cd5be2b437f1",
   "metadata": {},
   "outputs": [
    {
     "name": "stdout",
     "output_type": "stream",
     "text": [
      "cyp-genotype: 155/205 (75.609756%) resistant\n",
      "ace-genotype: 78/205 (38.048780%) resistant\n"
     ]
    }
   ],
   "source": [
    "for pref in Path('output/resistant-lines/').glob('*.012'):\n",
    "    with open(str(pref) + '.indv', 'r') as f:\n",
    "        lines = [line.strip() for line in f]\n",
    "    with open(str(pref) + '.pos', 'r') as f:\n",
    "        pos = [line.strip().replace('\\t', '-') for line in f]\n",
    "    data = pd.read_table(pref, index_col=0, header=None)\n",
    "    data.index = lines\n",
    "    data.columns = pos\n",
    "    resistant = data.loc[data.eq(2).any(axis='columns')]\n",
    "    identifier = pref.name.split('.')[0]\n",
    "    with open(pref.parent / (identifier.split('-')[0] + '-resistant-lines.txt'), 'w') as f:\n",
    "        f.write('\\n'.join(line for line in resistant.index.tolist()) + '\\n')\n",
    "    print(f\"{identifier}: {len(resistant)}/{len(data)} ({len(resistant)/len(data):%}) resistant\")"
   ]
  },
  {
   "cell_type": "markdown",
   "id": "b9265fc5-dc59-4deb-bab5-c6a5cd2558c0",
   "metadata": {},
   "source": [
    "For CHKoV, we use the data from Frank Jiggins. Since that was done for the DGRP1 and we're working with DGRP2, we need to...\n",
    "\n",
    "### Compare DGRP1 and DGRP2 line names"
   ]
  },
  {
   "cell_type": "code",
   "execution_count": 3,
   "id": "894f9c23-a179-4cbf-aced-029f94988d2c",
   "metadata": {},
   "outputs": [],
   "source": [
    "data = pd.read_table(snakemake.input['jiggins'], sep=' ', skiprows=3)"
   ]
  },
  {
   "cell_type": "code",
   "execution_count": 4,
   "id": "f960a2dd-c31c-4580-896b-1587da5daf28",
   "metadata": {},
   "outputs": [],
   "source": [
    "lines1 = sorted(list(data.id.str.replace('X', 'line_')))"
   ]
  },
  {
   "cell_type": "code",
   "execution_count": 5,
   "id": "e6f5c42c-b99f-49c7-85af-ff5357498beb",
   "metadata": {},
   "outputs": [
    {
     "data": {
      "text/plain": [
       "189"
      ]
     },
     "execution_count": 5,
     "metadata": {},
     "output_type": "execute_result"
    }
   ],
   "source": [
    "len(lines1)"
   ]
  },
  {
   "cell_type": "code",
   "execution_count": 6,
   "id": "957e32d6-232c-4c1b-afa6-b3b8195734ae",
   "metadata": {},
   "outputs": [],
   "source": [
    "with open(Path('output/resistant-lines/ace-genotype.012.indv'), 'r') as f:\n",
    "    lines2 = sorted(list(line.strip() for line in f))"
   ]
  },
  {
   "cell_type": "code",
   "execution_count": 7,
   "id": "039988fe-e7ec-4df7-a9be-80a3816d6bbb",
   "metadata": {},
   "outputs": [
    {
     "data": {
      "text/plain": [
       "205"
      ]
     },
     "execution_count": 7,
     "metadata": {},
     "output_type": "execute_result"
    }
   ],
   "source": [
    "len(lines2)"
   ]
  },
  {
   "cell_type": "code",
   "execution_count": 8,
   "id": "7f572d38-edd0-482e-b434-58ecf36c95c7",
   "metadata": {},
   "outputs": [],
   "source": [
    "with open(Path('output/resistant-lines/dgrp1-dgrp2-lines-comparison.txt'), 'w') as f:\n",
    "    i = 0\n",
    "    j = 0\n",
    "    f.write('DGRP1\\t\\tDGRP2\\n')\n",
    "    while (i < len(lines1)) and (j < len(lines2)):\n",
    "        if lines1[i] == lines2[j]:\n",
    "            f.write(f'{lines1[i]:8s}\\t{lines2[j]:8s}\\n')\n",
    "            i += 1\n",
    "            j += 1\n",
    "        elif lines1[i] < lines2[j]:\n",
    "            f.write(lines1[i] + '\\n')\n",
    "            i += 1\n",
    "        elif lines1[i] > lines2[j]:\n",
    "            f.write('\\t\\t' + lines2[j] + '\\n')\n",
    "            j += 1"
   ]
  },
  {
   "cell_type": "markdown",
   "id": "98229921-1194-495c-85ca-ab4f348a0a31",
   "metadata": {},
   "source": [
    "### CHKoV1"
   ]
  },
  {
   "cell_type": "code",
   "execution_count": 9,
   "id": "02d1ec75-11b3-4ddf-931f-9a532fda1e30",
   "metadata": {},
   "outputs": [],
   "source": [
    "resistant = data.loc[data.doc.eq(1)].id"
   ]
  },
  {
   "cell_type": "code",
   "execution_count": 10,
   "id": "2955efc0-e491-44e8-8b3b-8008b601fcce",
   "metadata": {},
   "outputs": [],
   "source": [
    "resistant = sorted(resistant.str.replace('X', 'line_').tolist())\n",
    "chkov_in_dgrp2 = set(resistant) & set(lines2)"
   ]
  },
  {
   "cell_type": "code",
   "execution_count": 11,
   "id": "0edf7889-abda-4930-b193-4556a0abc460",
   "metadata": {},
   "outputs": [
    {
     "name": "stdout",
     "output_type": "stream",
     "text": [
      "CHKoV1: 139/205 (67.804878%) resistant\n"
     ]
    }
   ],
   "source": [
    "with open('output/resistant-lines/chkov-resistant-lines.txt', 'w') as f:\n",
    "    f.write('\\n'.join(line for line in list(chkov_in_dgrp2)) + '\\n')\n",
    "print(f\"CHKoV1: {len(chkov_in_dgrp2)}/205 ({len(chkov_in_dgrp2)/205:%}) resistant\")"
   ]
  }
 ],
 "metadata": {
  "kernelspec": {
   "display_name": "Python 3",
   "language": "python",
   "name": "python3"
  },
  "language_info": {
   "codemirror_mode": {
    "name": "ipython",
    "version": 3
   },
   "file_extension": ".py",
   "mimetype": "text/x-python",
   "name": "python",
   "nbconvert_exporter": "python",
   "pygments_lexer": "ipython3",
   "version": "3.9.5"
  }
 },
 "nbformat": 4,
 "nbformat_minor": 5
}
