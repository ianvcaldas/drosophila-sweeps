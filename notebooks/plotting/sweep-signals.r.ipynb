{
 "cells": [
  {
   "cell_type": "code",
   "execution_count": 1,
   "metadata": {},
   "outputs": [
    {
     "name": "stderr",
     "output_type": "stream",
     "text": [
      "── \u001b[1mAttaching packages\u001b[22m ─────────────────────────────────────────────────────────────────────────────────────────────────────── tidyverse 1.3.1 ──\n",
      "\n",
      "\u001b[32m✔\u001b[39m \u001b[34mggplot2\u001b[39m 3.3.3     \u001b[32m✔\u001b[39m \u001b[34mpurrr  \u001b[39m 0.3.4\n",
      "\u001b[32m✔\u001b[39m \u001b[34mtibble \u001b[39m 3.1.2     \u001b[32m✔\u001b[39m \u001b[34mdplyr  \u001b[39m 1.0.6\n",
      "\u001b[32m✔\u001b[39m \u001b[34mtidyr  \u001b[39m 1.1.3     \u001b[32m✔\u001b[39m \u001b[34mstringr\u001b[39m 1.4.0\n",
      "\u001b[32m✔\u001b[39m \u001b[34mreadr  \u001b[39m 1.4.0     \u001b[32m✔\u001b[39m \u001b[34mforcats\u001b[39m 0.5.1\n",
      "\n",
      "── \u001b[1mConflicts\u001b[22m ────────────────────────────────────────────────────────────────────────────────────────────────────────── tidyverse_conflicts() ──\n",
      "\u001b[31m✖\u001b[39m \u001b[34mdplyr\u001b[39m::\u001b[32mfilter()\u001b[39m masks \u001b[34mstats\u001b[39m::filter()\n",
      "\u001b[31m✖\u001b[39m \u001b[34mdplyr\u001b[39m::\u001b[32mlag()\u001b[39m    masks \u001b[34mstats\u001b[39m::lag()\n",
      "\n"
     ]
    }
   ],
   "source": [
    "library(tidyverse)"
   ]
  },
  {
   "cell_type": "code",
   "execution_count": 2,
   "metadata": {},
   "outputs": [],
   "source": [
    "df <- read_delim('../output/signals/signals.csv', delim='\\t', col_types=cols()) %>%\n",
    "    mutate(str_ws=paste(window_size, 'bp subwindows', sep='')) %>%\n",
    "    mutate(str_ws=factor(str_ws, levels=str_sort(unique(str_ws), numeric=TRUE)),\n",
    "           case = recode_factor(\n",
    "               case,\n",
    "               'Ace'='Ace',\n",
    "               'CHKoV'='CHKoV',\n",
    "               'Cyp'='Cyp',\n",
    "               'Average hard sweep\\n(s=0.01)'='Average hard sweep\\n(s=0.01)',\n",
    "               'Hard sweep example 1\\n(s=0.01)'='Hard sweep example 1\\n(s=0.01)',\n",
    "               'Hard sweep example 2\\n(s=0.01)'='Hard sweep example 2\\n(s=0.01)',\n",
    "               'Average hard sweep\\n(s=100)'='Average hard sweep\\n(s=100)',\n",
    "               'Hard sweep example 1\\n(s=100)'='Hard sweep example 1\\n(s=100)',\n",
    "               'Hard sweep example 2\\n(s=100)'='Hard sweep example 2\\n(s=100)'\n",
    "           ),\n",
    "           feature_full = recode_factor(\n",
    "               feature,\n",
    "               pi='Pi',\n",
    "               snps='# SNPs',\n",
    "               haps='# Haplotypes',\n",
    "               `H1`=\"H1\",\n",
    "               `H12`=\"H12\",\n",
    "               `H2overH1`=\"H2/H1\",\n",
    "               tajD=\"Tajima's D\"\n",
    "           )\n",
    "          ) "
   ]
  },
  {
   "cell_type": "code",
   "execution_count": 3,
   "metadata": {},
   "outputs": [],
   "source": [
    "# Pick 5 window sizes to use\n",
    "acceptable_ws <- quantile(df$window_size, probs=c(0, 0.25, 0.5, 0.75, 1))\n",
    "df <- df %>%\n",
    "    filter(window_size %in% acceptable_ws)"
   ]
  },
  {
   "cell_type": "markdown",
   "metadata": {},
   "source": [
    "### Empirical sweeps"
   ]
  },
  {
   "cell_type": "code",
   "execution_count": 43,
   "metadata": {},
   "outputs": [],
   "source": [
    "data <- df %>%\n",
    "    filter(case %in% c('Ace', 'Cyp', 'CHKoV')) %>%\n",
    "    mutate(\n",
    "        position = position - 10,\n",
    "        posinbp = position*(window_size/2)\n",
    "    )\n",
    "\n",
    "fig <- ggplot(data) +\n",
    "        geom_line(aes(x=posinbp/1000, y=value, colour=feature_full)) +\n",
    "        facet_grid(rows=vars(case), cols=vars(str_ws), switch='y', scales='free_x') +\n",
    "        labs(\n",
    "            x='Position (kb)',\n",
    "            y='Normalized statistic'\n",
    "        ) +\n",
    "        scale_colour_brewer(palette='Dark2', name='Statistic') +\n",
    "        theme_minimal() +\n",
    "        theme(\n",
    "            panel.grid.minor = element_blank(),\n",
    "            panel.grid.major.y = element_blank(),\n",
    "            axis.text.y = element_blank(),\n",
    "            axis.title.y = element_blank(),\n",
    "            strip.text.y.left = element_text(angle = 0),\n",
    "            panel.border = element_rect(colour='grey', fill=NA)\n",
    "        )\n",
    "\n",
    "    ggsave('../fig/methods/empirical-signals.pdf', width=10, height=4, plot=fig)"
   ]
  },
  {
   "cell_type": "markdown",
   "metadata": {},
   "source": [
    "### Averages and examples of sweeps"
   ]
  },
  {
   "cell_type": "code",
   "execution_count": 41,
   "metadata": {},
   "outputs": [],
   "source": [
    "\n",
    "data <- df %>%\n",
    "    filter(str_detect(case, 'ard sweep')) %>%\n",
    "    mutate(\n",
    "        isAverage = str_detect(case, 'Average'),\n",
    "        position = position - 10,\n",
    "        posinbp = position*(window_size/2)\n",
    "    )\n",
    "\n",
    "fig <- ggplot(data) +\n",
    "        geom_line(aes(x=posinbp/1000, y=value, colour=feature_full, size=isAverage)) +\n",
    "        scale_size_manual(values=c(0.5, 0.8), guide='none') +\n",
    "        facet_grid(rows=vars(case), cols=vars(str_ws), switch='y', scales='free_x') +\n",
    "        labs(\n",
    "            x='Position (kb)',\n",
    "            y='Normalized statistic'\n",
    "        ) +\n",
    "        scale_colour_brewer(palette='Dark2', name='Statistic') +\n",
    "        theme_minimal() +\n",
    "        theme(\n",
    "            panel.grid.minor = element_blank(),\n",
    "            panel.grid.major.y = element_blank(),\n",
    "            axis.text.y = element_blank(),\n",
    "            axis.title.y = element_blank(),\n",
    "            strip.text.y.left = element_text(angle = 0),\n",
    "            panel.border = element_rect(colour='grey', fill=NA)\n",
    "        )\n",
    "\n",
    "    ggsave('../fig/methods/averages-and-examples.pdf', width=10, height=6, plot=fig)"
   ]
  },
  {
   "cell_type": "markdown",
   "metadata": {},
   "source": [
    "### Internal: 21x21x7 heatmap"
   ]
  },
  {
   "cell_type": "code",
   "execution_count": 6,
   "metadata": {},
   "outputs": [],
   "source": [
    "library(cowplot)"
   ]
  },
  {
   "cell_type": "code",
   "execution_count": 7,
   "metadata": {},
   "outputs": [],
   "source": [
    "data <- read_tsv('../output/signals/signals.csv', col_types=cols()) %>%\n",
    "    filter(case == 'Cyp') %>%\n",
    "    mutate(ws_id=as.numeric(as.factor(window_size)))\n",
    "\n",
    "figs <- list()"
   ]
  },
  {
   "cell_type": "code",
   "execution_count": 8,
   "metadata": {},
   "outputs": [],
   "source": [
    "for (feat in unique(data$feature)) {\n",
    "    x <- data %>% filter(feature == feat)\n",
    "    \n",
    "    signfig <- ggplot(x) +\n",
    "        geom_tile(aes(x=position, y=ws_id, fill=value)) +\n",
    "        scale_fill_gradient(low='lightgrey', high='black') +\n",
    "        scale_x_continuous(expand=c(0, 0)) +\n",
    "        scale_y_continuous(expand=c(0, 0)) +\n",
    "        theme_void() +\n",
    "        theme(\n",
    "            legend.position='none'\n",
    "        )\n",
    "    \n",
    "    figs[[feat]] <- signfig\n",
    "}\n",
    "\n",
    "fig <- ggdraw()\n",
    "for (ix in seq(1, length(figs))) {\n",
    "    j <- length(figs) - ix\n",
    "    scale <- 0.6\n",
    "    step <- (1 - scale)/(length(figs) - 1)\n",
    "    x <- step*j\n",
    "    y <- step*j\n",
    "    fig <- fig + draw_plot(figs[[ix]], x=x, y=y, scale=scale, halign=0, valign=0)\n",
    "}\n",
    "ggsave('../fig/internal/data-representation.pdf', width=4, height=4, plot=fig)"
   ]
  },
  {
   "cell_type": "code",
   "execution_count": null,
   "metadata": {},
   "outputs": [],
   "source": []
  }
 ],
 "metadata": {
  "kernelspec": {
   "display_name": "R",
   "language": "R",
   "name": "ir"
  },
  "language_info": {
   "codemirror_mode": "r",
   "file_extension": ".r",
   "mimetype": "text/x-r-source",
   "name": "R",
   "pygments_lexer": "r",
   "version": "4.1.0"
  }
 },
 "nbformat": 4,
 "nbformat_minor": 4
}
