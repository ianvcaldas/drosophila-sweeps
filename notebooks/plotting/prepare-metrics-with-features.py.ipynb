{
 "cells": [
  {
   "cell_type": "code",
   "execution_count": 2,
   "id": "fa5ee638",
   "metadata": {},
   "outputs": [],
   "source": [
    "from pathlib import Path\n",
    "\n",
    "import pandas as pd\n",
    "from sklearn.metrics import accuracy_score, mean_squared_error\n",
    "\n",
    "from utils.prepare_data import read_data, save_data\n",
    "from utils.project_parameters import summary_statistic_order"
   ]
  },
  {
   "cell_type": "markdown",
   "id": "0425c795",
   "metadata": {},
   "outputs": [],
   "source": [
    "### Get performance metrics for each feature subset"
   ]
  },
  {
   "cell_type": "code",
   "execution_count": 7,
   "id": "acdad0a2",
   "metadata": {},
   "outputs": [],
   "source": [
    "def get_validation_metric(filename, df, is_baseline=False):\n",
    "    if is_baseline:\n",
    "        target, _, _ = Path(filename).stem.split('_')\n",
    "        feature_subset = '1111111'\n",
    "    else:\n",
    "        target, _, features, _ = Path(filename).stem.split('_')\n",
    "        feature_subset = features.split('-')[1]\n",
    "    if 'true_log_selection_coefficient' in df.columns:\n",
    "        metric = \"rmse\"\n",
    "        value = mean_squared_error(\n",
    "            y_true = df.true_log_selection_coefficient,\n",
    "            y_pred = df.predicted_log_selection_coefficient,\n",
    "            squared=False\n",
    "        )\n",
    "    else:\n",
    "        metric = \"accuracy\"\n",
    "        value = accuracy_score(\n",
    "            y_true=df.true_ix,\n",
    "            y_pred=df.predicted_ix\n",
    "        )\n",
    "    return (feature_subset, target, metric, value)"
   ]
  },
  {
   "cell_type": "code",
   "execution_count": 18,
   "id": "3c1e4be3",
   "metadata": {},
   "outputs": [],
   "source": [
    "feature_analysis = pd.DataFrame.from_records(\n",
    "    (get_validation_metric(filename, read_data(filename)) for filename in snakemake.input[\"feature_subsets\"]),\n",
    "    columns=['feature_subset', 'target', 'metric', 'value']\n",
    ")\n",
    "\n",
    "baseline = pd.DataFrame.from_records(\n",
    "    (get_validation_metric(filename, read_data(filename), is_baseline=True) for filename in snakemake.input[\"baseline\"]),\n",
    "    columns=['feature_subset', 'target', 'metric', 'value']\n",
    ")\n",
    "\n",
    "feature_analysis = pd.concat([feature_analysis, baseline])"
   ]
  },
  {
   "cell_type": "code",
   "execution_count": 20,
   "id": "4c839211",
   "metadata": {},
   "outputs": [],
   "source": [
    "save_data(feature_analysis, snakemake.output[\"feature_analysis\"])"
   ]
  },
  {
   "cell_type": "markdown",
   "id": "04b4edab",
   "metadata": {},
   "outputs": [],
   "source": [
    "### Get grid of feature subsets"
   ]
  },
  {
   "cell_type": "code",
   "execution_count": 21,
   "id": "849f9c21",
   "metadata": {},
   "outputs": [],
   "source": [
    "subsets = feature_analysis.feature_subset.unique()"
   ]
  },
  {
   "cell_type": "code",
   "execution_count": 23,
   "id": "d65f9dd3",
   "metadata": {},
   "outputs": [],
   "source": [
    "def subset_to_features(subset):\n",
    "    results = [int(i) for i in subset]\n",
    "    return (subset, *results)"
   ]
  },
  {
   "cell_type": "code",
   "execution_count": 24,
   "id": "6898818f",
   "metadata": {},
   "outputs": [],
   "source": [
    "grid = pd.DataFrame.from_records(\n",
    "    (subset_to_features(subset) for subset in subsets),\n",
    "    columns=[\"feature_subset\", *summary_statistic_order]\n",
    ")"
   ]
  },
  {
   "cell_type": "code",
   "execution_count": 26,
   "id": "adf2cbb5",
   "metadata": {},
   "outputs": [],
   "source": [
    "save_data(grid, snakemake.output[\"feature_analysis_code\"])"
   ]
  },
  {
   "cell_type": "code",
   "execution_count": null,
   "id": "f68d8cfd",
   "metadata": {},
   "outputs": [],
   "source": []
  }
 ],
 "metadata": {
  "kernelspec": {
   "display_name": "Python 3 (ipykernel)",
   "language": "python",
   "name": "python3"
  },
  "language_info": {
   "codemirror_mode": {
    "name": "ipython",
    "version": 3
   },
   "file_extension": ".py",
   "mimetype": "text/x-python",
   "name": "python",
   "nbconvert_exporter": "python",
   "pygments_lexer": "ipython3",
   "version": "3.9.7"
  }
 },
 "nbformat": 4,
 "nbformat_minor": 5
}
