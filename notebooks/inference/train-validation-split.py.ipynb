{
 "cells": [
  {
   "cell_type": "code",
   "execution_count": 2,
   "id": "8b5cb85b",
   "metadata": {},
   "outputs": [],
   "source": [
    "from sklearn.model_selection import train_test_split\n",
    "\n",
    "from utils.prepare_data import read_data, save_data, target_columns"
   ]
  },
  {
   "cell_type": "code",
   "execution_count": 21,
   "id": "37ab3ef9",
   "metadata": {},
   "outputs": [],
   "source": [
    "try:\n",
    "    seed = snakemake.params[\"random_seed\"]\n",
    "except AttributeError: # No random seed given\n",
    "    seed = None"
   ]
  },
  {
   "cell_type": "code",
   "execution_count": 9,
   "id": "f274b997",
   "metadata": {},
   "outputs": [],
   "source": [
    "raw = read_data(snakemake.input[\"sim_params\"])\n",
    "df = raw.loc[raw.sweep_mode.isin((\"hard\", \"rnm (true)\", \"sgv (true)\"))]"
   ]
  },
  {
   "cell_type": "code",
   "execution_count": 23,
   "id": "0e12c586",
   "metadata": {},
   "outputs": [],
   "source": [
    "sims_per_regime = min(df.sweep_mode.value_counts().min(), snakemake.config[\"sims_per_regime\"])\n",
    "downsampled = df.groupby(\"sweep_mode\").sample(n=sims_per_regime, random_state=seed)"
   ]
  },
  {
   "cell_type": "code",
   "execution_count": 27,
   "id": "9d27ac56",
   "metadata": {},
   "outputs": [],
   "source": [
    "train, valid = train_test_split(\n",
    "    downsampled,\n",
    "    test_size=snakemake.config[\"validation_percentage\"],\n",
    "    random_state=seed,\n",
    "    shuffle=True,\n",
    "    stratify=downsampled.sweep_mode\n",
    ")"
   ]
  },
  {
   "cell_type": "code",
   "execution_count": 8,
   "id": "accf27fb",
   "metadata": {},
   "outputs": [],
   "source": [
    "save_data(train, snakemake.output[\"training\"])\n",
    "save_data(valid, snakemake.output[\"validation\"])"
   ]
  }
 ],
 "metadata": {
  "kernelspec": {
   "display_name": "Python 3 (ipykernel)",
   "language": "python",
   "name": "python3"
  },
  "language_info": {
   "codemirror_mode": {
    "name": "ipython",
    "version": 3
   },
   "file_extension": ".py",
   "mimetype": "text/x-python",
   "name": "python",
   "nbconvert_exporter": "python",
   "pygments_lexer": "ipython3",
   "version": "3.9.7"
  }
 },
 "nbformat": 4,
 "nbformat_minor": 5
}
