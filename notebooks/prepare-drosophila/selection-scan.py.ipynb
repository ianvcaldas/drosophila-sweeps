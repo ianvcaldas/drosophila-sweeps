{
 "cells": [
  {
   "cell_type": "code",
   "execution_count": 3,
   "id": "00bf6efb-d259-4af0-b366-21b1edcd05a7",
   "metadata": {},
   "outputs": [],
   "source": [
    "NAME = snakemake.wildcards['chrom']\n",
    "\n",
    "genotype_file = snakemake.input['genotypes']\n",
    "ms_file = snakemake.output['ms']\n",
    "feature_file = snakemake.output['features']\n",
    "stats_file = snakemake.output['stats']"
   ]
  },
  {
   "cell_type": "markdown",
   "id": "35bf417f-ca50-40e1-be7e-a59d4dd03278",
   "metadata": {},
   "source": [
    "### Convert to ms format"
   ]
  },
  {
   "cell_type": "code",
   "execution_count": 5,
   "id": "fc310c7c-bc22-4084-b4a5-0c371a104b7a",
   "metadata": {},
   "outputs": [],
   "source": [
    "from utils.conversion import vcftools_to_ms"
   ]
  },
  {
   "cell_type": "code",
   "execution_count": 6,
   "id": "5e8cf04d-efa5-4335-a4a2-d02fd95e8ffa",
   "metadata": {},
   "outputs": [],
   "source": [
    "vcftools_to_ms(genotype_file, ms_file)"
   ]
  },
  {
   "cell_type": "markdown",
   "id": "99ccd53b-c5e6-49cb-b10b-8fbe03656444",
   "metadata": {},
   "source": [
    "### Selection scan from windowed statistics"
   ]
  },
  {
   "cell_type": "code",
   "execution_count": 7,
   "id": "3b753efe-15d5-48ba-92f1-2265db3a6ad6",
   "metadata": {},
   "outputs": [],
   "source": [
    "from utils.feature_calculation import calculate_features\n",
    "from utils.project_parameters import default_summary_statistics"
   ]
  },
  {
   "cell_type": "code",
   "execution_count": null,
   "id": "061f7624-8e8a-46b9-8325-7a9184a353cd",
   "metadata": {},
   "outputs": [],
   "source": [
    "snp_window_size = 400\n",
    "snp_window_step = 50"
   ]
  },
  {
   "cell_type": "code",
   "execution_count": 9,
   "id": "aa34636c-fb42-4021-9ed3-c107031abed4",
   "metadata": {},
   "outputs": [],
   "source": [
    "calculate_features(\n",
    "    ms_file=ms_file,\n",
    "    summary_statistics=default_summary_statistics,\n",
    "    snp_window_size=snp_window_size,\n",
    "    snp_window_step=snp_window_step,\n",
    "    output_file=feature_file,\n",
    "    output_stats=stats_file,\n",
    ")"
   ]
  }
 ],
 "metadata": {
  "kernelspec": {
   "display_name": "Python 3",
   "language": "python",
   "name": "python3"
  },
  "language_info": {
   "codemirror_mode": {
    "name": "ipython",
    "version": 3
   },
   "file_extension": ".py",
   "mimetype": "text/x-python",
   "name": "python",
   "nbconvert_exporter": "python",
   "pygments_lexer": "ipython3",
   "version": "3.9.5"
  }
 },
 "nbformat": 4,
 "nbformat_minor": 5
}
