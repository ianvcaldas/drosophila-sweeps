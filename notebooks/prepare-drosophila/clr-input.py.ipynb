{
 "cells": [
  {
   "cell_type": "code",
   "execution_count": null,
   "id": "58b97167",
   "metadata": {},
   "outputs": [],
   "source": [
    "from pathlib import Path\n",
    "\n",
    "import numpy as np\n",
    "import pandas as pd\n",
    "import allel"
   ]
  },
  {
   "cell_type": "markdown",
   "id": "be30020f",
   "metadata": {},
   "source": [
    "### Genotypes"
   ]
  },
  {
   "cell_type": "code",
   "execution_count": null,
   "id": "54f1d2ba",
   "metadata": {},
   "outputs": [],
   "source": [
    "vcf = allel.read_vcf(snakemake.input[\"vcf\"])"
   ]
  },
  {
   "cell_type": "code",
   "execution_count": null,
   "id": "9745e4ea",
   "metadata": {},
   "outputs": [],
   "source": [
    "records = list()\n",
    "\n",
    "for position, haps, chrom in zip(vcf[\"variants/POS\"], vcf[\"calldata/GT\"], vcf[\"variants/CHROM\"]):\n",
    "    haploid = haps[:, 0]\n",
    "    genotypes = haploid.ravel()\n",
    "    records.append((chrom, position, genotypes.sum(), len(genotypes), 1))\n",
    "\n",
    "variants = pd.DataFrame.from_records(records, columns=[\"chrom\", \"position\", \"x\", \"n\", \"folded\"])"
   ]
  },
  {
   "cell_type": "code",
   "execution_count": null,
   "id": "fc2a03e2",
   "metadata": {},
   "outputs": [],
   "source": [
    "save_folder = Path(snakemake.output[\"input_per_chrom\"][0]).parent\n",
    "for chrom in variants.chrom.unique():\n",
    "    chrom_data = variants.loc[variants.chrom == chrom].drop(\"chrom\", axis=\"columns\")\n",
    "    chrom_data.to_csv(save_folder/f\"clr_{chrom}.tsv\", sep=\"\\t\", index=False)"
   ]
  },
  {
   "cell_type": "markdown",
   "id": "09c54b3d",
   "metadata": {},
   "source": [
    "### Genome-wide SFS"
   ]
  },
  {
   "cell_type": "code",
   "execution_count": null,
   "id": "87e9f220",
   "metadata": {},
   "outputs": [],
   "source": [
    "variants = allel.GenotypeArray(vcf[\"calldata/GT\"])"
   ]
  },
  {
   "cell_type": "code",
   "execution_count": null,
   "id": "99e1c3c5",
   "metadata": {},
   "outputs": [],
   "source": [
    "folded_sfs = allel.sfs_folded(variants.count_alleles())"
   ]
  },
  {
   "cell_type": "code",
   "execution_count": null,
   "id": "aaa743b2",
   "metadata": {},
   "outputs": [],
   "source": [
    "sfs_df = pd.DataFrame({\n",
    "    \"num_minor\": range(len(folded_sfs)),\n",
    "    \"num_sites\": folded_sfs\n",
    "})"
   ]
  },
  {
   "cell_type": "markdown",
   "id": "2a5e3487",
   "metadata": {},
   "source": [
    "At this point, each SNP can have between 0 and 205 minor alleles in our total sample of 410 haploid genomes. However, our real sample is 205 haploid genomes, since every individual is supposed to be homozygous. Therefore, any SNP with an odd number of minor allele counts has heterozygosity, and therefore is less trustworthy. We get rid of all of them. In the end, we produce a folded SFS designed for a haploid sample of size 205, where each SNP can have between 0 and 102 minor allele copies.\n",
    "\n",
    "Finally, for SweepFinder, the number of sites has to be the proportion of all sites. It also requires a row for 0 minor alleles with 0 sites in it."
   ]
  },
  {
   "cell_type": "code",
   "execution_count": null,
   "id": "4ca4f465",
   "metadata": {},
   "outputs": [],
   "source": [
    "sfs_df = (\n",
    "    sfs_df.loc[sfs_df.num_minor % 2 == 0]\n",
    "    .assign(\n",
    "        num_minor=lambda df: df.num_minor/2,\n",
    "        num_sites=lambda df: df.num_sites/df.num_sites.sum()\n",
    "    )\n",
    "    .reset_index(drop=True)\n",
    ")\n",
    "\n",
    "sfs_df[\"num_minor\"] = sfs_df[\"num_minor\"].astype(int)"
   ]
  },
  {
   "cell_type": "code",
   "execution_count": null,
   "id": "a48e2e1f",
   "metadata": {},
   "outputs": [],
   "source": [
    "sfs_df.to_csv(snakemake.output[\"genomewide_sfs\"], header=False, index=False, sep=\"\\t\")"
   ]
  },
  {
   "cell_type": "code",
   "execution_count": null,
   "id": "0e36369e",
   "metadata": {},
   "outputs": [],
   "source": []
  }
 ],
 "metadata": {
  "kernelspec": {
   "display_name": "Python 3 (ipykernel)",
   "language": "python",
   "name": "python3"
  },
  "language_info": {
   "codemirror_mode": {
    "name": "ipython",
    "version": 3
   },
   "file_extension": ".py",
   "mimetype": "text/x-python",
   "name": "python",
   "nbconvert_exporter": "python",
   "pygments_lexer": "ipython3",
   "version": "3.9.16"
  }
 },
 "nbformat": 4,
 "nbformat_minor": 5
}
