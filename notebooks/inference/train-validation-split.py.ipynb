{
 "cells": [
  {
   "cell_type": "code",
   "execution_count": 2,
   "id": "8b5cb85b",
   "metadata": {},
   "outputs": [],
   "source": [
    "from sklearn.model_selection import train_test_split\n",
    "\n",
    "from utils.prepare_data import read_data, save_data, target_columns"
   ]
  },
  {
   "cell_type": "code",
   "execution_count": 3,
   "id": "f274b997",
   "metadata": {},
   "outputs": [],
   "source": [
    "df = read_data(snakemake.input[\"sim_params\"])"
   ]
  },
  {
   "cell_type": "code",
   "execution_count": 5,
   "id": "9d27ac56",
   "metadata": {},
   "outputs": [],
   "source": [
    "train, valid = train_test_split(\n",
    "    df,\n",
    "    test_size=snakemake.config[\"validation_percentage\"],\n",
    "    random_state=snakemake.params[\"random_seed\"],\n",
    "    shuffle=True,\n",
    "    stratify=df.regime\n",
    ")"
   ]
  },
  {
   "cell_type": "code",
   "execution_count": 12,
   "id": "accf27fb",
   "metadata": {},
   "outputs": [],
   "source": [
    "save_data(train, snakemake.output[\"training\"])\n",
    "save_data(valid, snakemake.output[\"validation\"])"
   ]
  }
 ],
 "metadata": {
  "kernelspec": {
   "display_name": "Python 3",
   "language": "python",
   "name": "python3"
  },
  "language_info": {
   "codemirror_mode": {
    "name": "ipython",
    "version": 3
   },
   "file_extension": ".py",
   "mimetype": "text/x-python",
   "name": "python",
   "nbconvert_exporter": "python",
   "pygments_lexer": "ipython3",
   "version": "3.9.5"
  }
 },
 "nbformat": 4,
 "nbformat_minor": 5
}
