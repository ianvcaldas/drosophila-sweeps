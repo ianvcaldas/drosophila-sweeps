{
 "cells": [
  {
   "cell_type": "code",
   "execution_count": 2,
   "id": "0e3c5d7e-eed5-4975-a7aa-03ee60ecb79c",
   "metadata": {},
   "outputs": [],
   "source": [
    "from pathlib import Path\n",
    "import tarfile\n",
    "\n",
    "import pandas as pd\n",
    "\n",
    "import fastai.basics\n",
    "\n",
    "from utils.prepare_data import target_columns, read_data, add_regime_kind_column\n",
    "from utils.project_parameters import neural_network_batch_size\n",
    "import utils.deeplearning"
   ]
  },
  {
   "cell_type": "code",
   "execution_count": 3,
   "id": "bd3d392a-1f7b-45f8-81a5-19c21a1532e3",
   "metadata": {},
   "outputs": [],
   "source": [
    "target_col = target_columns[snakemake.wildcards[\"target\"]]\n",
    "\n",
    "if snakemake.params[\"application_type\"] == \"testing\":\n",
    "    df = read_data(snakemake.input[\"sim_parameters\"])\n",
    "    if target_col == \"regime_kind\":\n",
    "        df = add_regime_kind_column(df)\n",
    "elif snakemake.params[\"application_type\"] == \"empirical\": \n",
    "    with tarfile.open(snakemake.input[\"data\"]) as t:\n",
    "        names = [name.replace(\".npy\", \"\") for name in t.getnames() if name.endswith(\".npy\")]\n",
    "    df = pd.DataFrame({\"uuid\": names, target_col: None})  \n",
    "    \n",
    "dataset = utils.deeplearning.SweepsDataset(\n",
    "    snakemake.input[\"data\"], df, None\n",
    ")"
   ]
  },
  {
   "cell_type": "code",
   "execution_count": 4,
   "id": "7ab47274-622c-4c39-a609-b488468d6236",
   "metadata": {},
   "outputs": [],
   "source": [
    "with open(snakemake.input[\"model_labels\"]) as f:\n",
    "    labels = [line.strip() for line in f]"
   ]
  },
  {
   "cell_type": "code",
   "execution_count": 5,
   "id": "8215ec93-2604-47af-bef8-5d5ff60695d1",
   "metadata": {},
   "outputs": [],
   "source": [
    "model = fastai.basics.load_learner(fname=str(Path(snakemake.input[\"model_object\"])))\n",
    "model = model.load(str(Path(snakemake.input[\"fit_model\"]).stem))"
   ]
  },
  {
   "cell_type": "code",
   "execution_count": 6,
   "id": "b9cedb7f",
   "metadata": {},
   "outputs": [],
   "source": [
    "results = utils.deeplearning.get_application_inferences(model, dataset, neural_network_batch_size, labels, target_col)\n",
    "results.to_csv(snakemake.output[\"inferences\"], index=True, sep='\\t')"
   ]
  },
  {
   "cell_type": "code",
   "execution_count": null,
   "id": "00fa9453",
   "metadata": {},
   "outputs": [],
   "source": []
  }
 ],
 "metadata": {
  "kernelspec": {
   "display_name": "Python 3 (ipykernel)",
   "language": "python",
   "name": "python3"
  },
  "language_info": {
   "codemirror_mode": {
    "name": "ipython",
    "version": 3
   },
   "file_extension": ".py",
   "mimetype": "text/x-python",
   "name": "python",
   "nbconvert_exporter": "python",
   "pygments_lexer": "ipython3",
   "version": "3.9.7"
  }
 },
 "nbformat": 4,
 "nbformat_minor": 5
}
