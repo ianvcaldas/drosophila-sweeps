{
 "cells": [
  {
   "cell_type": "code",
   "execution_count": 2,
   "id": "af706f40",
   "metadata": {},
   "outputs": [],
   "source": [
    "import pandas as pd\n",
    "from pathlib import Path\n",
    "from collections import defaultdict\n",
    "import re\n",
    "\n",
    "from utils.prepare_data import save_data, read_data"
   ]
  },
  {
   "cell_type": "code",
   "execution_count": 17,
   "id": "3519aafa",
   "metadata": {},
   "outputs": [],
   "source": [
    "results = [Path(p) for p in snakemake.input]\n",
    "result_dfs = []\n",
    "\n",
    "for res in results:\n",
    "    this_df = pd.read_table(res)\n",
    "    target, training, _, rep_str = res.stem.split('_')\n",
    "    replicate = int(rep_str.split('-')[-1])\n",
    "    this_df = this_df.assign(replicate=replicate)\n",
    "    result_dfs.append(this_df)"
   ]
  },
  {
   "cell_type": "code",
   "execution_count": 18,
   "id": "636369df",
   "metadata": {},
   "outputs": [],
   "source": [
    "def get_locus(s):\n",
    "    match = re.search(r\"sweep-(.+?)_\", s)\n",
    "    if match:\n",
    "        return match.groups()[0]\n",
    "    else:\n",
    "        return None"
   ]
  },
  {
   "cell_type": "code",
   "execution_count": 19,
   "id": "b63edda9",
   "metadata": {},
   "outputs": [],
   "source": [
    "df = pd.concat(result_dfs)\n",
    "df['locus'] = [get_locus(i) for i in df.uuid]\n",
    "df = df.dropna(axis='rows', how='any', subset=['locus'])\n",
    "df = df.sort_values(by='locus').drop('uuid', axis='columns').dropna(axis='columns', how='all')\n",
    "if 'predicted_log_selection_coefficient' in df.columns:\n",
    "    df = (\n",
    "        df\n",
    "        .assign(predicted_selection_coefficient=10**df.predicted_log_selection_coefficient)\n",
    "        .drop('predicted_log_selection_coefficient', axis='columns')\n",
    "    )\n",
    "df = df.pivot(index='replicate', columns='locus').reset_index()"
   ]
  },
  {
   "cell_type": "code",
   "execution_count": 21,
   "id": "c78850fe",
   "metadata": {},
   "outputs": [],
   "source": [
    "save_data(df, snakemake.output[\"replicates_results\"])\n",
    "save_data(df.describe(), snakemake.output[\"replicates_statistics\"])"
   ]
  },
  {
   "cell_type": "code",
   "execution_count": null,
   "id": "4eecf443",
   "metadata": {},
   "outputs": [],
   "source": []
  }
 ],
 "metadata": {
  "kernelspec": {
   "display_name": "Python 3",
   "language": "python",
   "name": "python3"
  },
  "language_info": {
   "codemirror_mode": {
    "name": "ipython",
    "version": 3
   },
   "file_extension": ".py",
   "mimetype": "text/x-python",
   "name": "python",
   "nbconvert_exporter": "python",
   "pygments_lexer": "ipython3",
   "version": "3.9.5"
  }
 },
 "nbformat": 4,
 "nbformat_minor": 5
}
