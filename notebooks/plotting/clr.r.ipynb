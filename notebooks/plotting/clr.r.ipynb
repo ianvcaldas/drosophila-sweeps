{
 "cells": [
  {
   "cell_type": "code",
   "execution_count": null,
   "id": "8d4d3e16",
   "metadata": {},
   "outputs": [],
   "source": [
    "source(\"utils/plot.R\")"
   ]
  },
  {
   "cell_type": "code",
   "execution_count": null,
   "id": "44942d28",
   "metadata": {},
   "outputs": [],
   "source": [
    "read_data <- function(filename) {\n",
    "    df <- read_tsv(filename, col_types=cols(), skip=2) %>%\n",
    "        filter(percent_rank(Position) > 0.01, percent_rank(Position) < 0.99)\n",
    "    return(df)\n",
    "}"
   ]
  },
  {
   "cell_type": "code",
   "execution_count": null,
   "id": "00839e72",
   "metadata": {},
   "outputs": [],
   "source": [
    "known_sweeps <- tibble(\n",
    "    locus=c(\"ace\", \"chkov\", \"cyp\"),\n",
    "    pos=c(9069408, 21150000, 8072884),\n",
    "    chrom=c(\"3R\", \"3R\", \"2R\")\n",
    ")"
   ]
  },
  {
   "cell_type": "code",
   "execution_count": null,
   "id": "79930107",
   "metadata": {},
   "outputs": [],
   "source": [
    "known_sweeps"
   ]
  },
  {
   "cell_type": "code",
   "execution_count": null,
   "id": "da3530e2",
   "metadata": {},
   "outputs": [],
   "source": [
    "find_proximity <- function(df, bp_distance, known_sweeps) {\n",
    "    result <- c()\n",
    "    for (row in 1:nrow(df)) {\n",
    "        x <- df$Position[row]\n",
    "        res <- NA\n",
    "        for (ix in 1:nrow(known_sweeps)) {\n",
    "            right_chrom <- known_sweeps$chrom[ix]\n",
    "            if ((df$chrom[row] == right_chrom) && (between(x, known_sweeps$pos[ix] - bp_distance/2, known_sweeps$pos[ix] + bp_distance/2))) {\n",
    "                res <- known_sweeps$locus[ix]\n",
    "            }\n",
    "        }\n",
    "        result <- c(result, res)\n",
    "    }\n",
    "    return(result)\n",
    "}"
   ]
  },
  {
   "cell_type": "code",
   "execution_count": null,
   "id": "06f56e8b",
   "metadata": {},
   "outputs": [],
   "source": [
    "input_dfs <- lapply(snakemake@input, read_data)\n",
    "names(input_dfs) <- snakemake@input\n",
    "\n",
    "df <- bind_rows(input_dfs, .id=\"path\") %>%\n",
    "    separate(path, into=c(NA, NA, NA, \"filename\"), sep=\"/\") %>%\n",
    "    separate(filename, into=c(NA, \"chrom\", NA), sep=c(4, 6))\n",
    "\n",
    "df <- mutate(df, proximity=find_proximity(df, 1e6, known_sweeps))"
   ]
  },
  {
   "cell_type": "code",
   "execution_count": null,
   "id": "8712113a",
   "metadata": {
    "scrolled": true
   },
   "outputs": [],
   "source": [
    "best_likelihood_near_loci <- df %>%\n",
    "    filter(!is.na(proximity)) %>%\n",
    "    group_by(proximity) %>%\n",
    "    top_n(1, Likelihood) %>%\n",
    "    mutate(AlphaLabel=paste0(\"alpha = \", signif(Alpha, 2)))"
   ]
  },
  {
   "cell_type": "code",
   "execution_count": null,
   "id": "af268ce8",
   "metadata": {},
   "outputs": [],
   "source": [
    "fig <- ggplot(df) +\n",
    "    geom_point(aes(x=Position/1e6, y=Likelihood), size=0.5) +\n",
    "    geom_vline(\n",
    "        data=known_sweeps,\n",
    "        aes(xintercept=pos/1e6),\n",
    "        linetype=\"dashed\",\n",
    "        colour=\"darkgrey\"\n",
    "    ) +\n",
    "    geom_point(\n",
    "        data=best_likelihood_near_loci,\n",
    "        aes(x=Position/1e6, y=Likelihood),\n",
    "        colour=\"darkred\",\n",
    "        size=1\n",
    "    ) +\n",
    "    geom_label(\n",
    "        data=best_likelihood_near_loci,\n",
    "        aes(x=Position/1e6, y=Likelihood, label=AlphaLabel),\n",
    "        hjust=0,\n",
    "        nudge_x=1,\n",
    "        size=1.5\n",
    "    ) +\n",
    "    facet_wrap(vars(chrom), scales=\"free_x\") +\n",
    "    labs(\n",
    "        x=\"Position (Mb)\",\n",
    "        y=\"Likelihood\"\n",
    "    ) +\n",
    "    sweeps_theme +\n",
    "    theme(\n",
    "        axis.text.y=element_blank()\n",
    "    )\n",
    "\n",
    "sweeps_save(snakemake@output[[1]], fig)"
   ]
  },
  {
   "cell_type": "code",
   "execution_count": null,
   "id": "d6c33432",
   "metadata": {},
   "outputs": [],
   "source": []
  }
 ],
 "metadata": {
  "kernelspec": {
   "display_name": "R",
   "language": "R",
   "name": "ir"
  },
  "language_info": {
   "codemirror_mode": "r",
   "file_extension": ".r",
   "mimetype": "text/x-r-source",
   "name": "R",
   "pygments_lexer": "r",
   "version": "3.6.1"
  }
 },
 "nbformat": 4,
 "nbformat_minor": 5
}
