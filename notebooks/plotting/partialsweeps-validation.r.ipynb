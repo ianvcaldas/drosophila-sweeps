{
 "cells": [
  {
   "cell_type": "code",
   "execution_count": 2,
   "id": "edd65aa1",
   "metadata": {
    "scrolled": true
   },
   "outputs": [],
   "source": [
    "source(\"utils/plot.R\")"
   ]
  },
  {
   "cell_type": "code",
   "execution_count": 3,
   "id": "1ef01ae6",
   "metadata": {},
   "outputs": [],
   "source": [
    "options(repr.plot.width=4, repr.plot.height=3, jupyter.plot_scale=1)"
   ]
  },
  {
   "cell_type": "code",
   "execution_count": 4,
   "id": "463313b7",
   "metadata": {},
   "outputs": [],
   "source": [
    "params <- read_tsv(snakemake@input$parameters, col_types=cols()) %>% select(uuid, sweep_mode)"
   ]
  },
  {
   "cell_type": "markdown",
   "id": "91b5b15b",
   "metadata": {},
   "outputs": [],
   "source": [
    "### Selection strength regressions"
   ]
  },
  {
   "cell_type": "code",
   "execution_count": 5,
   "id": "54f1e29d",
   "metadata": {},
   "outputs": [],
   "source": [
    "selstrength <- read_tsv(snakemake@input$selstrength, col_types=cols()) %>%\n",
    "    inner_join(params, on=\"uuid\") %>%\n",
    "    mutate(sweep_mode=sweepmode_factor(sweep_mode))"
   ]
  },
  {
   "cell_type": "code",
   "execution_count": 6,
   "id": "149bc0fa",
   "metadata": {},
   "outputs": [],
   "source": [
    "slice_sample(selstrength, n=10)"
   ]
  },
  {
   "cell_type": "code",
   "execution_count": 7,
   "id": "c525f426",
   "metadata": {},
   "outputs": [],
   "source": [
    "selstrength_fig <- ggplot(selstrength) +\n",
    "    geom_point(aes(x=true_log_selection_coefficient, y=predicted_log_selection_coefficient, colour=sweep_mode)) +\n",
    "    geom_abline(linetype='dashed') +\n",
    "    facet_wrap(vars(sweep_mode)) +\n",
    "    scale_x_continuous(labels=function(x){10**x}) +\n",
    "    scale_y_continuous(labels=function(x){10**x}) +\n",
    "    labs(\n",
    "        x = \"True sel. coefficient\",\n",
    "        y = \"Predicted sel. coefficient\"\n",
    "    ) +\n",
    "    sweeps_colour +\n",
    "    sweeps_theme +\n",
    "    theme(\n",
    "        legend.position=\"none\"\n",
    "    )"
   ]
  },
  {
   "cell_type": "code",
   "execution_count": 8,
   "id": "f232af9a",
   "metadata": {},
   "outputs": [],
   "source": [
    "selstrength_fig"
   ]
  },
  {
   "cell_type": "markdown",
   "id": "eb408ead",
   "metadata": {},
   "outputs": [],
   "source": [
    "### Sweep mode confusion matrices"
   ]
  },
  {
   "cell_type": "code",
   "execution_count": 20,
   "id": "ae23c4fc",
   "metadata": {},
   "outputs": [],
   "source": [
    "sweepmode_raw <- read_tsv(snakemake@input$sweepmode, col_types=cols()) %>%\n",
    "    select(true_label, predicted_label)"
   ]
  },
  {
   "cell_type": "code",
   "execution_count": 21,
   "id": "9bf737ea",
   "metadata": {},
   "outputs": [],
   "source": [
    "sweepmode_confmat <- sweepmode_raw %>%\n",
    "    table %>%\n",
    "    as_tibble %>%\n",
    "    mutate(\n",
    "        true_label=sweepmode_factor_short(true_label),\n",
    "        predicted_label=sweepmode_factor_short(predicted_label)\n",
    "    ) %>%\n",
    "    group_by(true_label) %>%\n",
    "    mutate(\n",
    "        percent=n/sum(n),\n",
    "        percent_label=paste0(round(percent*100, 2), '%')\n",
    "    )"
   ]
  },
  {
   "cell_type": "code",
   "execution_count": 10,
   "id": "e1bd49a0",
   "metadata": {},
   "outputs": [],
   "source": [
    "sweepmode_confmat"
   ]
  },
  {
   "cell_type": "code",
   "execution_count": 11,
   "id": "aed50891",
   "metadata": {},
   "outputs": [],
   "source": [
    "confmat_fig <- ggplot(sweepmode_confmat) +\n",
    "    geom_tile(aes(x=true_label, y=predicted_label, fill=percent)) +\n",
    "    geom_text(aes(x=true_label, y=predicted_label, label=percent_label, colour=percent<0.5)) +\n",
    "    scale_colour_manual(values=c('black', 'white')) +\n",
    "    scale_y_discrete(limits=rev) +\n",
    "    scale_fill_distiller(palette=3, direction=-1) +\n",
    "    sweeps_theme +\n",
    "    labs(x='True', y='Predicted') +\n",
    "    theme(\n",
    "        legend.position='none',\n",
    "        panel.grid=element_blank(),\n",
    "        panel.spacing=unit(0.3, \"in\")\n",
    "    )"
   ]
  },
  {
   "cell_type": "code",
   "execution_count": 12,
   "id": "f0f52130",
   "metadata": {
    "scrolled": false
   },
   "outputs": [],
   "source": [
    "confmat_fig"
   ]
  },
  {
   "cell_type": "markdown",
   "id": "84fb6a47",
   "metadata": {},
   "outputs": [],
   "source": [
    "### Sweep mode ROC curves"
   ]
  },
  {
   "cell_type": "code",
   "execution_count": 13,
   "id": "e756e030",
   "metadata": {},
   "outputs": [],
   "source": [
    "sweepmode_roc <- read_tsv(snakemake@input$sweepmode_roc, col_types=cols()) %>%\n",
    "    mutate(reference_label=sweepmode_factor_short(reference_label))"
   ]
  },
  {
   "cell_type": "code",
   "execution_count": 14,
   "id": "36a9334c",
   "metadata": {},
   "outputs": [],
   "source": [
    "roc_fig <- ggplot(sweepmode_roc) +\n",
    "    geom_line(aes(x=false_positive_rate, y=true_positive_rate, colour=reference_label)) +\n",
    "    geom_abline(linetype='dashed') +\n",
    "    guides(colour=guide_legend(title='Reference')) +\n",
    "    labs(\n",
    "        x='False positive rate',\n",
    "        y='True positive rate'\n",
    "    ) +\n",
    "    sweeps_colour +\n",
    "    sweeps_theme +\n",
    "    theme(\n",
    "        legend.position=c(1, 0),\n",
    "        legend.justification=c(1, 0),\n",
    "        legend.background=element_rect(colour='white')\n",
    "    )"
   ]
  },
  {
   "cell_type": "code",
   "execution_count": 15,
   "id": "82d48528",
   "metadata": {},
   "outputs": [],
   "source": [
    "roc_fig"
   ]
  },
  {
   "cell_type": "markdown",
   "id": "3251685c",
   "metadata": {},
   "outputs": [],
   "source": [
    "### Plot it all together"
   ]
  },
  {
   "cell_type": "code",
   "execution_count": 16,
   "id": "108a30d7",
   "metadata": {},
   "outputs": [],
   "source": [
    "classification_fig <- plot_grid(\n",
    "    confmat_fig + theme(plot.margin = unit(c(1, 1, 1, 1), \"lines\")),\n",
    "    roc_fig + theme(plot.margin = unit(c(1, 1, 1, 1), \"lines\")),\n",
    "    labels=c('B', 'C'))"
   ]
  },
  {
   "cell_type": "code",
   "execution_count": 17,
   "id": "fec124f0",
   "metadata": {},
   "outputs": [],
   "source": [
    "all_fig <- plot_grid(\n",
    "    selstrength_fig,\n",
    "    classification_fig,\n",
    "    nrow=2, labels=c('A', NA))"
   ]
  },
  {
   "cell_type": "code",
   "execution_count": 18,
   "id": "e4c63b79",
   "metadata": {},
   "outputs": [],
   "source": [
    "sweeps_save(snakemake@output$figure, all_fig, width=6, asp=4/3)"
   ]
  },
  {
   "cell_type": "markdown",
   "id": "4f38235a",
   "metadata": {},
   "outputs": [],
   "source": [
    "## Get metrics"
   ]
  },
  {
   "cell_type": "code",
   "execution_count": 23,
   "id": "a679eed4",
   "metadata": {},
   "outputs": [],
   "source": [
    "metrics <- tibble(\n",
    "    selstrength_rmse=rmse(selstrength$true_log_selection_coefficient, selstrength$predicted_log_selection_coefficient),\n",
    "    selstrength_mre=mean_relative_error(selstrength$true_log_selection_coefficient, selstrength$predicted_log_selection_coefficient),\n",
    "    sweepmode_accuracy=accuracy(sweepmode_raw$true_label, sweepmode_raw$predicted_label)\n",
    ")"
   ]
  },
  {
   "cell_type": "code",
   "execution_count": 25,
   "id": "3571c9f1",
   "metadata": {},
   "outputs": [],
   "source": [
    "write_tsv(metrics, snakemake@output$metrics)"
   ]
  },
  {
   "cell_type": "code",
   "execution_count": null,
   "id": "7f43c537",
   "metadata": {},
   "outputs": [],
   "source": []
  }
 ],
 "metadata": {
  "kernelspec": {
   "display_name": "R",
   "language": "R",
   "name": "ir"
  },
  "language_info": {
   "codemirror_mode": "r",
   "file_extension": ".r",
   "mimetype": "text/x-r-source",
   "name": "R",
   "pygments_lexer": "r",
   "version": "4.1.0"
  }
 },
 "nbformat": 4,
 "nbformat_minor": 5
}
