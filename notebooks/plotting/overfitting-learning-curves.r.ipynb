{
 "cells": [
  {
   "cell_type": "code",
   "execution_count": 2,
   "id": "68586fc2",
   "metadata": {
    "scrolled": true
   },
   "outputs": [],
   "source": [
    "source('utils/plot.R')"
   ]
  },
  {
   "cell_type": "code",
   "execution_count": 3,
   "id": "e2d0e955",
   "metadata": {},
   "outputs": [],
   "source": [
    "tables <- lapply(snakemake@input, read_tsv, col_types=cols())\n",
    "data <- bind_rows(tables) %>%\n",
    "    separate('replicate', sep='_', into=c('target', 'training', 'replicate')) %>%\n",
    "    separate('replicate', sep='-', into=c(NA, 'replicate'), convert=TRUE) %>%\n",
    "    pivot_longer(c('train_loss', 'valid_loss'), names_to='loss_name', values_to='loss') %>%\n",
    "    group_by(target, epoch, loss_name) %>%\n",
    "    summarize(loss=mean(loss)) %>%\n",
    "    mutate(\n",
    "        target=target_factor(target),\n",
    "        loss_name=str_replace_all(loss_name, c('valid_loss'='Validation loss', 'train_loss'='Training loss'))\n",
    "    ) %>%\n",
    "    filter(epoch >= 3) # helps visualize better"
   ]
  },
  {
   "cell_type": "code",
   "execution_count": 4,
   "id": "05c397d8",
   "metadata": {},
   "outputs": [],
   "source": [
    "fig <- ggplot(data) +\n",
    "    geom_vline(xintercept=snakemake@config$epochs_for_model_training, linetype='dashed', size=0.3) +\n",
    "    geom_line(aes(x=epoch, y=loss, colour=loss_name)) +\n",
    "    facet_wrap(vars(target), scales='free_y') +\n",
    "    sweeps_colour +\n",
    "    labs(\n",
    "        x='Epoch',\n",
    "        y='Loss value'\n",
    "    ) +\n",
    "    sweeps_theme +\n",
    "    theme(\n",
    "        axis.text.y=element_blank(),\n",
    "        axis.title.y=element_blank(),\n",
    "        legend.position='top',\n",
    "        legend.title=element_blank(),\n",
    "        legend.justification=c(0, 0),\n",
    "        legend.box.spacing=unit(0.1, \"cm\"),\n",
    "    )"
   ]
  },
  {
   "cell_type": "code",
   "execution_count": 5,
   "id": "243bb3f8",
   "metadata": {},
   "outputs": [],
   "source": [
    "sweeps_save(snakemake@output[[1]], fig)"
   ]
  },
  {
   "cell_type": "code",
   "execution_count": null,
   "id": "472ec8fd",
   "metadata": {},
   "outputs": [],
   "source": []
  }
 ],
 "metadata": {
  "kernelspec": {
   "display_name": "R",
   "language": "R",
   "name": "ir"
  },
  "language_info": {
   "codemirror_mode": "r",
   "file_extension": ".r",
   "mimetype": "text/x-r-source",
   "name": "R",
   "pygments_lexer": "r",
   "version": "4.1.0"
  }
 },
 "nbformat": 4,
 "nbformat_minor": 5
}
