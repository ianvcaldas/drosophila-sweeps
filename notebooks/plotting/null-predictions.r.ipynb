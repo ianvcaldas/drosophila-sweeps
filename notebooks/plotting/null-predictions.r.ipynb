{
 "cells": [
  {
   "cell_type": "code",
   "execution_count": 2,
   "id": "bedfbbe1",
   "metadata": {
    "scrolled": true
   },
   "outputs": [],
   "source": [
    "source(\"utils/plot.R\")"
   ]
  },
  {
   "cell_type": "code",
   "execution_count": 3,
   "id": "30a56548",
   "metadata": {},
   "outputs": [],
   "source": [
    "read_inference <- function(fname) {\n",
    "    result <- read_tsv(fname, col_types=cols()) %>%\n",
    "    mutate(\n",
    "        filename=basename(fname),\n",
    "        dirname=dirname(fname)\n",
    "    ) %>%\n",
    "    separate('filename', sep='_', into=c('target', 'training', NA)) %>%\n",
    "    separate('dirname', sep='\\\\-', into=c(NA, 'dataset'))\n",
    "    return(result)\n",
    "}"
   ]
  },
  {
   "cell_type": "code",
   "execution_count": 4,
   "id": "bbeb5bb6",
   "metadata": {},
   "outputs": [],
   "source": [
    "data <- bind_rows(lapply(snakemake@input, read_inference)) %>%\n",
    "    mutate(\n",
    "        training = str_replace_all(training, c(\"main-fixedsweeps\"=\"Fixed sweeps\", \"main-partialsweeps\"=\"Partial sweeps\")),\n",
    "        training = factor(training, levels=c(\"Fixed sweeps\", \"Partial sweeps\")),\n",
    "        dataset = str_replace_all(dataset, c(\"empirical\"=\"Genome-wide\", \"neutral\"=\"Neutral simulations\")),\n",
    "        dataset = factor(dataset, levels=c(\"Genome-wide\", \"Neutral simulations\"))\n",
    "    ) %>%\n",
    "    filter(!str_detect(uuid, 'sweep'))"
   ]
  },
  {
   "cell_type": "code",
   "execution_count": 5,
   "id": "d24c9408",
   "metadata": {},
   "outputs": [],
   "source": [
    "selstren <- data %>%\n",
    "    filter(target == \"log-sel-strength\")"
   ]
  },
  {
   "cell_type": "code",
   "execution_count": 6,
   "id": "93d12096",
   "metadata": {},
   "outputs": [],
   "source": [
    "selstren"
   ]
  },
  {
   "cell_type": "code",
   "execution_count": 7,
   "id": "6b41cd5c",
   "metadata": {},
   "outputs": [],
   "source": [
    "selstren_fig <- ggplot(selstren) +\n",
    "    geom_violin(aes(x=training, y=predicted_log_selection_coefficient, fill=training)) +\n",
    "    scale_y_continuous(labels = function(x) {10^x}, limits=c(NA, 2)) +\n",
    "    facet_wrap(vars(dataset)) +\n",
    "    sweeps_fill +\n",
    "    sweeps_theme +\n",
    "    labs(y='Predicted s') +\n",
    "    theme(\n",
    "        legend.position='none',\n",
    "        axis.title.x=element_blank(),\n",
    "        axis.text.x=element_blank(),\n",
    "        panel.grid.major.x=element_blank()\n",
    "    )\n",
    "\n"
   ]
  },
  {
   "cell_type": "code",
   "execution_count": 8,
   "id": "3c506390",
   "metadata": {
    "scrolled": false
   },
   "outputs": [],
   "source": [
    "sweepmode <- data %>%\n",
    "    filter(target == \"sweep-mode\") %>%\n",
    "    mutate(\n",
    "        predicted_labels=sweepmode_factor_short(predicted_labels),\n",
    "        `Trained on`=training\n",
    "    )"
   ]
  },
  {
   "cell_type": "code",
   "execution_count": 9,
   "id": "01c746b6",
   "metadata": {},
   "outputs": [],
   "source": [
    "sweepmode_fig <- ggplot(sweepmode) +\n",
    "    geom_bar(aes(x=predicted_labels, fill=`Trained on`), position='dodge') +\n",
    "    facet_wrap(vars(dataset), scales='free_y') +\n",
    "    labs(y='Count') +\n",
    "    sweeps_fill +\n",
    "    sweeps_theme +\n",
    "    theme(\n",
    "        legend.position='bottom',\n",
    "        axis.title.x=element_blank(),\n",
    "        axis.text.y=element_blank()\n",
    "    )"
   ]
  },
  {
   "cell_type": "code",
   "execution_count": 10,
   "id": "49a6649c",
   "metadata": {},
   "outputs": [],
   "source": [
    "combined <- plot_grid(selstren_fig, sweepmode_fig, labels=c(\"A\", \"B\"), nrow=2)\n",
    "sweeps_save(snakemake@output[[1]], combined, asp=1.25)"
   ]
  },
  {
   "cell_type": "code",
   "execution_count": null,
   "id": "544b588b",
   "metadata": {},
   "outputs": [],
   "source": []
  }
 ],
 "metadata": {
  "kernelspec": {
   "display_name": "R",
   "language": "R",
   "name": "ir"
  },
  "language_info": {
   "codemirror_mode": "r",
   "file_extension": ".r",
   "mimetype": "text/x-r-source",
   "name": "R",
   "pygments_lexer": "r",
   "version": "4.1.0"
  }
 },
 "nbformat": 4,
 "nbformat_minor": 5
}
