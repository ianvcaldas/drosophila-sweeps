{
 "cells": [
  {
   "cell_type": "code",
   "execution_count": 8,
   "id": "13c8bdc9",
   "metadata": {},
   "outputs": [],
   "source": [
    "import pandas as pd\n",
    "from pandas.api.types import is_numeric_dtype\n",
    "\n",
    "from utils.prepare_data import read_data, save_data"
   ]
  },
  {
   "cell_type": "code",
   "execution_count": 29,
   "id": "6a336783",
   "metadata": {},
   "outputs": [],
   "source": [
    "def get_distribution(s):\n",
    "    always_unique = [\"demography\", \"seed\", \"swept_frequencies\"]\n",
    "    if s.name in always_unique:\n",
    "        x = f\"{s.nunique()} unique values.\"\n",
    "    elif is_numeric_dtype(s):\n",
    "        if s.nunique() == 0:\n",
    "            x = f\"{len(s)}x NaN\"\n",
    "        elif s.nunique() == 1:\n",
    "            x = f\"{s.notna().sum()}x {s.loc[s.notna()].unique()[0]}\"\n",
    "        else:\n",
    "            x = s.describe().to_string()\n",
    "    elif s.loc[s.notna()].is_unique:\n",
    "        x = f\"{s.nunique()} unique values.\"\n",
    "    else:\n",
    "        if s.nunique() == 1:\n",
    "            x = f\"{s.notna().sum()}x {s.loc[s.notna()].unique()[0]}\"\n",
    "        else:\n",
    "            x = s.value_counts().to_string()\n",
    "    return x"
   ]
  },
  {
   "cell_type": "code",
   "execution_count": 30,
   "id": "3effedd3",
   "metadata": {},
   "outputs": [],
   "source": [
    "def get_columns_report(df):\n",
    "    lines = []\n",
    "    for column in sorted(df.columns):\n",
    "        lines.append(column)\n",
    "        lines.append(get_distribution(df[column]))\n",
    "        lines.append(\"\")\n",
    "    return \"\\n\".join(lines)"
   ]
  },
  {
   "cell_type": "code",
   "execution_count": 31,
   "id": "b082f955",
   "metadata": {},
   "outputs": [],
   "source": [
    "def get_df_report(df, name):\n",
    "    lines = []\n",
    "    title = f\"{name} simulations\"\n",
    "    lines.append(title.upper())\n",
    "    lines.append(\"-\"*len(title))\n",
    "    lines.append(\"\")\n",
    "    lines.append(get_columns_report(df))\n",
    "    lines.append(\"\")\n",
    "    return lines"
   ]
  },
  {
   "cell_type": "code",
   "execution_count": 62,
   "id": "75cea70b",
   "metadata": {},
   "outputs": [],
   "source": [
    "def make_data_report(df):\n",
    "    lines = []\n",
    "    constant_cols = df.columns[data.nunique(dropna=False) == 1].tolist()\n",
    "    title = \"CONSTANT PARAMETERS\"\n",
    "    lines.append(title)\n",
    "    lines.append(\"-\"*len(title))\n",
    "    lines.append(\"\")\n",
    "    for col in constant_cols:\n",
    "        lines.append(col)\n",
    "        s = df[col]\n",
    "        lines.append(f\"{len(s)}x {s.unique()[0]}\")\n",
    "        lines.append(\"\")\n",
    "        df = df.drop(col, axis='columns')\n",
    "    lines.append(\"\")\n",
    "    modes = {\n",
    "        sm: df.loc[df.sweep_mode == sm] for sm in sorted(df.sweep_mode.unique())\n",
    "    }\n",
    "\n",
    "    lines.extend(get_df_report(df, \"All\"))\n",
    "    for mode, this_df in modes.items():\n",
    "        lines.extend(get_df_report(this_df, mode))\n",
    "    return \"\\n\".join(lines)"
   ]
  },
  {
   "cell_type": "code",
   "execution_count": 63,
   "id": "7c86bdd5",
   "metadata": {},
   "outputs": [],
   "source": [
    "data = read_data(snakemake.input[0])\n",
    "report_text = make_data_report(data)"
   ]
  },
  {
   "cell_type": "code",
   "execution_count": 64,
   "id": "11f629d9",
   "metadata": {},
   "outputs": [],
   "source": [
    "print(report_text)"
   ]
  },
  {
   "cell_type": "code",
   "execution_count": 47,
   "id": "17e64b87",
   "metadata": {},
   "outputs": [],
   "source": [
    "with open(snakemake.output[0], \"w\") as f:\n",
    "    f.write(text)"
   ]
  },
  {
   "cell_type": "code",
   "execution_count": 48,
   "id": "d6a503ad",
   "metadata": {},
   "outputs": [],
   "source": []
  },
  {
   "cell_type": "code",
   "execution_count": 49,
   "id": "ef6a35b9",
   "metadata": {},
   "outputs": [],
   "source": []
  },
  {
   "cell_type": "code",
   "execution_count": 11,
   "id": "1fe555f4",
   "metadata": {},
   "outputs": [],
   "source": []
  },
  {
   "cell_type": "code",
   "execution_count": null,
   "id": "11843c72",
   "metadata": {},
   "outputs": [],
   "source": []
  }
 ],
 "metadata": {
  "kernelspec": {
   "display_name": "Python 3 (ipykernel)",
   "language": "python",
   "name": "python3"
  },
  "language_info": {
   "codemirror_mode": {
    "name": "ipython",
    "version": 3
   },
   "file_extension": ".py",
   "mimetype": "text/x-python",
   "name": "python",
   "nbconvert_exporter": "python",
   "pygments_lexer": "ipython3",
   "version": "3.9.7"
  }
 },
 "nbformat": 4,
 "nbformat_minor": 5
}
