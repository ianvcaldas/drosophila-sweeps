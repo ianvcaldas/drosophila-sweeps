{
 "cells": [
  {
   "cell_type": "code",
   "execution_count": 2,
   "id": "0e3c5d7e-eed5-4975-a7aa-03ee60ecb79c",
   "metadata": {},
   "outputs": [],
   "source": [
    "from pathlib import Path\n",
    "\n",
    "import pandas as pd\n",
    "\n",
    "import fastai.basics\n",
    "\n",
    "from utils.prepare_data import target_columns, read_data\n",
    "from utils.project_parameters import neural_network_batch_size\n",
    "import utils.deeplearning"
   ]
  },
  {
   "cell_type": "code",
   "execution_count": 3,
   "id": "f6b513f1",
   "metadata": {},
   "outputs": [],
   "source": [
    "dataset = utils.deeplearning.SweepsDataset(\n",
    "    snakemake.input[\"data\"], read_data(snakemake.input[\"sim_parameters\"]), None\n",
    ")"
   ]
  },
  {
   "cell_type": "code",
   "execution_count": 4,
   "id": "8215ec93-2604-47af-bef8-5d5ff60695d1",
   "metadata": {},
   "outputs": [],
   "source": [
    "model = fastai.basics.load_learner(fname=str(Path(snakemake.input[\"model_object\"])))\n",
    "model = model.load(str(Path(snakemake.input[\"fit_model\"]).stem))"
   ]
  },
  {
   "cell_type": "code",
   "execution_count": 5,
   "id": "dd712ebd",
   "metadata": {},
   "outputs": [],
   "source": [
    "loader = fastai.data.core.DataLoader(dataset, bs=64)"
   ]
  },
  {
   "cell_type": "code",
   "execution_count": 6,
   "id": "26c953c4",
   "metadata": {},
   "outputs": [],
   "source": [
    "with open(snakemake.input[\"model_labels\"]) as f:\n",
    "    labels = [line.strip() for line in f]"
   ]
  },
  {
   "cell_type": "code",
   "execution_count": 7,
   "id": "5bec1789",
   "metadata": {},
   "outputs": [],
   "source": [
    "target_col = target_columns[snakemake.wildcards[\"target\"]]"
   ]
  },
  {
   "cell_type": "code",
   "execution_count": 19,
   "id": "b9cedb7f",
   "metadata": {},
   "outputs": [],
   "source": [
    "results = utils.deeplearning.get_application_inferences(model, dataset, neural_network_batch_size, labels, target_col)\n",
    "results.to_csv(snakemake.output[\"inferences\"], index=True, sep='\\t')"
   ]
  }
 ],
 "metadata": {
  "kernelspec": {
   "display_name": "Python 3 (ipykernel)",
   "language": "python",
   "name": "python3"
  },
  "language_info": {
   "codemirror_mode": {
    "name": "ipython",
    "version": 3
   },
   "file_extension": ".py",
   "mimetype": "text/x-python",
   "name": "python",
   "nbconvert_exporter": "python",
   "pygments_lexer": "ipython3",
   "version": "3.9.7"
  }
 },
 "nbformat": 4,
 "nbformat_minor": 5
}
