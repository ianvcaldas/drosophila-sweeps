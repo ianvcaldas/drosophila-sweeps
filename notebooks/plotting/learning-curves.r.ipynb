{
 "cells": [
  {
   "cell_type": "code",
   "execution_count": 2,
   "id": "68586fc2",
   "metadata": {
    "scrolled": true
   },
   "outputs": [],
   "source": [
    "source('utils/plot.R')"
   ]
  },
  {
   "cell_type": "code",
   "execution_count": 3,
   "id": "c8c064c4",
   "metadata": {},
   "outputs": [],
   "source": [
    "read_learning_curves <- function(filename) {\n",
    "    result <- read_tsv(filename, col_types=cols()) %>%\n",
    "    mutate(filename=basename(filename)) %>%\n",
    "    separate('filename', sep='_', into=c('target', NA, NA))\n",
    "    return(result)\n",
    "}"
   ]
  },
  {
   "cell_type": "code",
   "execution_count": 4,
   "id": "e2d0e955",
   "metadata": {},
   "outputs": [],
   "source": [
    "data <- bind_rows(lapply(snakemake@input, read_learning_curves)) %>%\n",
    "    pivot_longer(c('train_loss', 'valid_loss'), names_to='loss_name', values_to='loss') %>%\n",
    "    mutate(\n",
    "        target=target_factor(target),\n",
    "        loss_name=str_replace_all(loss_name, c('valid_loss'='Validation loss', 'train_loss'='Training loss'))\n",
    "    ) %>%\n",
    "    filter(epoch >= 10)"
   ]
  },
  {
   "cell_type": "code",
   "execution_count": 5,
   "id": "05c397d8",
   "metadata": {},
   "outputs": [],
   "source": [
    "fig <- ggplot(data) +\n",
    "    geom_line(aes(x=epoch, y=loss, colour=loss_name)) +\n",
    "    facet_wrap(vars(target), scales='free_y') +\n",
    "    sweeps_colour +\n",
    "    labs(\n",
    "        x='Epoch',\n",
    "        y='Loss'\n",
    "    ) +\n",
    "    sweeps_theme +\n",
    "    theme(\n",
    "        legend.position='top',\n",
    "        legend.title=element_blank(),\n",
    "        legend.justification=c(0, 0),\n",
    "        legend.box.spacing=unit(0.1, \"cm\"),\n",
    "        panel.spacing=unit(0.2, \"cm\"),\n",
    "        axis.title.y=element_text(hjust=1)\n",
    "    )"
   ]
  },
  {
   "cell_type": "code",
   "execution_count": 6,
   "id": "b23e0c58",
   "metadata": {},
   "outputs": [],
   "source": [
    "# Add labels to plot\n",
    "labeled_fig <- ggdraw(fig) +\n",
    "    draw_label('A', x=0.07, y=0.8, hjust=0, vjust=0, fontface='bold', size=11) +\n",
    "    draw_label('B', x=0.55, y=0.8, hjust=0, vjust=0, fontface='bold', size=11) +\n",
    "    draw_label('C', x=0.07, y=0.43, hjust=0, vjust=0, fontface='bold', size=11) +\n",
    "    draw_label('D', x=0.55, y=0.43, hjust=0, vjust=0, fontface='bold', size=11)"
   ]
  },
  {
   "cell_type": "code",
   "execution_count": 7,
   "id": "243bb3f8",
   "metadata": {},
   "outputs": [],
   "source": [
    "sweeps_save(snakemake@output[[1]], labeled_fig)"
   ]
  },
  {
   "cell_type": "code",
   "execution_count": null,
   "id": "472ec8fd",
   "metadata": {},
   "outputs": [],
   "source": []
  }
 ],
 "metadata": {
  "kernelspec": {
   "display_name": "R",
   "language": "R",
   "name": "ir"
  },
  "language_info": {
   "codemirror_mode": "r",
   "file_extension": ".r",
   "mimetype": "text/x-r-source",
   "name": "R",
   "pygments_lexer": "r",
   "version": "4.1.0"
  }
 },
 "nbformat": 4,
 "nbformat_minor": 5
}
