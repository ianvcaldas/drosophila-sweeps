{
 "cells": [
  {
   "cell_type": "code",
   "execution_count": 2,
   "id": "edd65aa1",
   "metadata": {
    "scrolled": true
   },
   "outputs": [],
   "source": [
    "source(\"utils/plot.R\")"
   ]
  },
  {
   "cell_type": "code",
   "execution_count": 3,
   "id": "1ef01ae6",
   "metadata": {},
   "outputs": [],
   "source": [
    "options(repr.plot.width=4, repr.plot.height=3, jupyter.plot_scale=1)"
   ]
  },
  {
   "cell_type": "code",
   "execution_count": 4,
   "id": "085a1984",
   "metadata": {},
   "outputs": [],
   "source": [
    "col_spec = cols(\n",
    "    swept_mutations=col_character(),\n",
    "    adaptive_mutation_rate=col_number(),\n",
    "    selection_region_size=col_number(),\n",
    "    swept_frequencies=col_character(),\n",
    "    actual_frequency_at_selection=col_number(),\n",
    "    num_starting_lineages=col_number(),\n",
    "    num_surviving_lineages=col_number(),\n",
    "    frequency_at_selection=col_number(),\n",
    "    num_restarts=col_number(),\n",
    "    actual_frequency_at_sampling=col_number(),\n",
    "    dominance_coefficient=col_number(),\n",
    "    frequency_at_sampling=col_number(),\n",
    "    selection_coefficient=col_number(),\n",
    "    selection_coordinate=col_number(),\n",
    "    selection_generation=col_number(),\n",
    "    log_selection_coefficient=col_number(),\n",
    "    selection_coordinate=col_number(),\n",
    "    selection_generation=col_number()\n",
    ")"
   ]
  },
  {
   "cell_type": "code",
   "execution_count": 5,
   "id": "ef64c975",
   "metadata": {},
   "outputs": [],
   "source": [
    "parameters <- read_tsv(snakemake@input[[1]], col_types=col_spec) %>%\n",
    "    filter(sweep_mode %in% c('hard', 'rnm (true)', 'sgv (true)')) %>%\n",
    "    select(uuid, actual_frequency_at_sampling)"
   ]
  },
  {
   "cell_type": "markdown",
   "id": "91b5b15b",
   "metadata": {},
   "source": [
    "### Selection strength regression"
   ]
  },
  {
   "cell_type": "code",
   "execution_count": 6,
   "id": "85f6ed80",
   "metadata": {},
   "outputs": [],
   "source": [
    "selstrength <- read_tsv(snakemake@input$selstrength, col_types=cols()) %>%\n",
    "    right_join(parameters, by='uuid')"
   ]
  },
  {
   "cell_type": "code",
   "execution_count": 7,
   "id": "c525f426",
   "metadata": {},
   "outputs": [],
   "source": [
    "selstrength_fig <- ggplot(selstrength) +\n",
    "    geom_point(aes(\n",
    "        x=true_log_selection_coefficient,\n",
    "        y=predicted_log_selection_coefficient,\n",
    "        colour=actual_frequency_at_sampling\n",
    "    ), size=0.5) +\n",
    "    scale_colour_gradient(low='darkred', high='grey', name='Freq.') +\n",
    "    geom_abline(linetype='dashed') +\n",
    "    scale_x_continuous(labels=function(x){10**x}) +\n",
    "    scale_y_continuous(labels=function(x){10**x}) +\n",
    "    labs(\n",
    "        x = \"True s\",\n",
    "        y = \"Predicted s\"\n",
    "    ) +\n",
    "    sweeps_theme +\n",
    "    theme(\n",
    "        legend.position='top'\n",
    "    )"
   ]
  },
  {
   "cell_type": "code",
   "execution_count": 8,
   "id": "f232af9a",
   "metadata": {},
   "outputs": [],
   "source": [
    "selstrength_fig"
   ]
  },
  {
   "cell_type": "markdown",
   "id": "eb408ead",
   "metadata": {},
   "source": [
    "### Sweep mode confusion matrix"
   ]
  },
  {
   "cell_type": "code",
   "execution_count": 9,
   "id": "4f352338",
   "metadata": {},
   "outputs": [],
   "source": [
    "sweepmode_raw <- read_tsv(snakemake@input$sweepmode, col_types=cols()) %>%\n",
    "    select(uuid, true_labels, predicted_labels) %>%\n",
    "    right_join(parameters, by='uuid') %>%\n",
    "    select(actual_frequency_at_sampling, true_labels, predicted_labels)"
   ]
  },
  {
   "cell_type": "code",
   "execution_count": 10,
   "id": "9bf737ea",
   "metadata": {},
   "outputs": [],
   "source": [
    "sweepmode_confmat <- sweepmode_raw %>%\n",
    "    select(true_labels, predicted_labels) %>%\n",
    "    table %>%\n",
    "    as_tibble %>%\n",
    "    mutate(\n",
    "        true_labels=sweepmode_factor_short(true_labels),\n",
    "        predicted_labels=sweepmode_factor_short(predicted_labels)\n",
    "    ) %>%\n",
    "    group_by(true_labels) %>%\n",
    "    mutate(\n",
    "        percent=n/sum(n),\n",
    "        percent_label=paste0(round(percent*100, 1), '%')\n",
    "    )"
   ]
  },
  {
   "cell_type": "code",
   "execution_count": 11,
   "id": "aed50891",
   "metadata": {},
   "outputs": [],
   "source": [
    "confmat_fig <- ggplot(sweepmode_confmat) +\n",
    "    geom_tile(aes(x=true_labels, y=predicted_labels, fill=percent)) +\n",
    "    geom_text(aes(x=true_labels, y=predicted_labels, label=percent_label, colour=percent<0.5)) +\n",
    "    scale_colour_manual(values=c('white', 'black')) +\n",
    "    scale_y_discrete(limits=rev) +\n",
    "    scale_fill_distiller(palette=3, direction=1) +\n",
    "    sweeps_theme +\n",
    "    labs(x='True', y='Predicted') +\n",
    "    theme(\n",
    "        legend.position='none',\n",
    "        panel.grid=element_blank(),\n",
    "        panel.spacing=unit(0.3, \"in\")\n",
    "    )"
   ]
  },
  {
   "cell_type": "code",
   "execution_count": 12,
   "id": "f0f52130",
   "metadata": {},
   "outputs": [],
   "source": [
    "confmat_fig"
   ]
  },
  {
   "cell_type": "markdown",
   "id": "34602de6",
   "metadata": {},
   "source": [
    "### Selection strength by frequency bracket"
   ]
  },
  {
   "cell_type": "code",
   "execution_count": 13,
   "id": "19dcc1a8",
   "metadata": {},
   "outputs": [],
   "source": [
    "freq_breaks <- c(0, 0.2, 0.4, 0.6, 0.8, 1.0)"
   ]
  },
  {
   "cell_type": "code",
   "execution_count": 14,
   "id": "87e68584",
   "metadata": {},
   "outputs": [],
   "source": [
    "selstrength_freq <- selstrength %>%\n",
    "    mutate(freq_bracket=cut(actual_frequency_at_sampling, breaks=freq_breaks, dig.lab=3)) %>%\n",
    "    group_by(freq_bracket) %>%\n",
    "    summarize(\n",
    "        rmse=rmse(true_log_selection_coefficient, predicted_log_selection_coefficient),\n",
    "        mean_relative_error=mean_relative_error(true_log_selection_coefficient, predicted_log_selection_coefficient),\n",
    "    )\n",
    "freq_bracket_levels <- levels(selstrength_freq$freq_bracket)\n",
    "baseline <- tibble(\n",
    "    rmse=rmse(selstrength$true_log_selection_coefficient, selstrength$predicted_log_selection_coefficient),\n",
    "    mean_relative_error=mean_relative_error(selstrength$true_log_selection_coefficient, selstrength$predicted_log_selection_coefficient),\n",
    "    freq_bracket='All'\n",
    ")\n",
    "selstrength_freq <- bind_rows(selstrength_freq, baseline) %>%\n",
    "    mutate(\n",
    "        freq_bracket=factor(freq_bracket, levels=c(freq_bracket_levels, 'All')),\n",
    "        freq_bracket_label=str_replace_all(freq_bracket, c(\n",
    "            \"\\\\(\"=\"\",\n",
    "            \"\\\\]\"=\"\",\n",
    "            \",\"=\"-\"\n",
    "        )),\n",
    "        freq_bracket_label=fct_reorder(freq_bracket_label, as.integer(freq_bracket))\n",
    "    )"
   ]
  },
  {
   "cell_type": "code",
   "execution_count": 15,
   "id": "67e62637",
   "metadata": {},
   "outputs": [],
   "source": [
    "selstrength_freq"
   ]
  },
  {
   "cell_type": "code",
   "execution_count": 16,
   "id": "d18b6f60",
   "metadata": {},
   "outputs": [],
   "source": [
    "selstren_freq_fig <- ggplot(selstrength_freq) +\n",
    "    geom_col(aes(x=freq_bracket_label, y=mean_relative_error)) +\n",
    "    labs(\n",
    "        x='Sweep frequency',\n",
    "        y='Mean relative error'\n",
    "    ) +\n",
    "    sweeps_theme +\n",
    "    theme(\n",
    "        axis.text.x=element_text(angle=45, hjust=1)\n",
    "    )"
   ]
  },
  {
   "cell_type": "code",
   "execution_count": 17,
   "id": "793b0757",
   "metadata": {},
   "outputs": [],
   "source": [
    "selstren_freq_fig"
   ]
  },
  {
   "cell_type": "markdown",
   "id": "772d1361",
   "metadata": {},
   "source": [
    "### Sweep mode by frequency bracket"
   ]
  },
  {
   "cell_type": "code",
   "execution_count": 18,
   "id": "4809d3b8",
   "metadata": {},
   "outputs": [],
   "source": [
    "sweepmode_freq <- sweepmode_raw %>%\n",
    "    mutate(freq_bracket=cut(actual_frequency_at_sampling, breaks=freq_breaks, dig.lab=3)) %>%\n",
    "    group_by(freq_bracket) %>%\n",
    "    summarize(\n",
    "        accuracy=accuracy(true_labels, predicted_labels)\n",
    "    )\n",
    "baseline <- tibble(\n",
    "    accuracy=accuracy(sweepmode_raw$true_labels, sweepmode_raw$predicted_labels),\n",
    "    freq_bracket='All'\n",
    ")\n",
    "sweepmode_freq <- bind_rows(sweepmode_freq, baseline) %>%\n",
    "    mutate(\n",
    "        freq_bracket=factor(freq_bracket, levels=c(freq_bracket_levels, 'All')),\n",
    "        freq_bracket_label=str_replace_all(freq_bracket, c(\n",
    "            \"\\\\(\"=\"\",\n",
    "            \"\\\\]\"=\"\",\n",
    "            \",\"=\"-\"\n",
    "        )),\n",
    "        freq_bracket_label=fct_reorder(freq_bracket_label, as.integer(freq_bracket))\n",
    "    )"
   ]
  },
  {
   "cell_type": "code",
   "execution_count": 19,
   "id": "6a105f73",
   "metadata": {},
   "outputs": [],
   "source": [
    "sweepmode_freq"
   ]
  },
  {
   "cell_type": "code",
   "execution_count": 20,
   "id": "3a4b0b64",
   "metadata": {},
   "outputs": [],
   "source": [
    "sweepmode_freq_fig <- ggplot(sweepmode_freq) +\n",
    "    geom_col(aes(x=freq_bracket_label, y=accuracy)) +\n",
    "    ylim(0, 1) +\n",
    "    labs(\n",
    "        x='Sweep frequency',\n",
    "        y='Accuracy'\n",
    "    ) +\n",
    "    sweeps_theme +\n",
    "    theme(\n",
    "        axis.text.x=element_text(angle=45, hjust=1)\n",
    "    )"
   ]
  },
  {
   "cell_type": "code",
   "execution_count": 21,
   "id": "5ed0b6ff",
   "metadata": {},
   "outputs": [],
   "source": [
    "sweepmode_freq_fig"
   ]
  },
  {
   "cell_type": "markdown",
   "id": "3251685c",
   "metadata": {},
   "source": [
    "### Plot it all together"
   ]
  },
  {
   "cell_type": "code",
   "execution_count": 22,
   "id": "fec124f0",
   "metadata": {},
   "outputs": [],
   "source": [
    "top_part <- plot_grid(selstrength_fig, confmat_fig, nrow=1, labels=c('A', 'B'))\n",
    "freq_brackets <- plot_grid(selstren_freq_fig, sweepmode_freq_fig, axis='tb', align='t', nrow=1, labels=c('C', 'D'), label_y=1.1)\n",
    "all_fig <- plot_grid(\n",
    "    top_part,\n",
    "    freq_brackets,\n",
    "    nrow=2,\n",
    "    axis='lr', align='l')"
   ]
  },
  {
   "cell_type": "code",
   "execution_count": 23,
   "id": "e4c63b79",
   "metadata": {},
   "outputs": [],
   "source": [
    "sweeps_save(snakemake@output$figure, all_fig, width=6, asp=4/3)"
   ]
  },
  {
   "cell_type": "markdown",
   "id": "656174f7",
   "metadata": {},
   "source": [
    "## Get metrics"
   ]
  },
  {
   "cell_type": "code",
   "execution_count": 24,
   "id": "1ca09098",
   "metadata": {},
   "outputs": [],
   "source": [
    "metrics <- inner_join(selstrength_freq, select(sweepmode_freq, freq_bracket, accuracy), by='freq_bracket') %>%\n",
    "    rename(selstrength_rmse=rmse, selstrength_mre=mean_relative_error, sweepmode_accuracy=accuracy)"
   ]
  },
  {
   "cell_type": "code",
   "execution_count": 25,
   "id": "23f91cc5",
   "metadata": {},
   "outputs": [],
   "source": [
    "metrics"
   ]
  },
  {
   "cell_type": "code",
   "execution_count": 26,
   "id": "2b21f76a",
   "metadata": {},
   "outputs": [],
   "source": [
    "write_tsv(metrics, snakemake@output$metrics)"
   ]
  },
  {
   "cell_type": "code",
   "execution_count": null,
   "id": "5c247d5b",
   "metadata": {},
   "outputs": [],
   "source": []
  }
 ],
 "metadata": {
  "kernelspec": {
   "display_name": "R",
   "language": "R",
   "name": "ir"
  },
  "language_info": {
   "codemirror_mode": "r",
   "file_extension": ".r",
   "mimetype": "text/x-r-source",
   "name": "R",
   "pygments_lexer": "r",
   "version": "4.1.0"
  }
 },
 "nbformat": 4,
 "nbformat_minor": 5
}
