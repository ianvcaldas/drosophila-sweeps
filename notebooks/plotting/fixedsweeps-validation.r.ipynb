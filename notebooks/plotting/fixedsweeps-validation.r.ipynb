{
 "cells": [
  {
   "cell_type": "code",
   "execution_count": 2,
   "id": "edd65aa1",
   "metadata": {
    "scrolled": true
   },
   "outputs": [],
   "source": [
    "source(\"utils/plot.R\")"
   ]
  },
  {
   "cell_type": "code",
   "execution_count": 3,
   "id": "1ef01ae6",
   "metadata": {},
   "outputs": [],
   "source": [
    "options(repr.plot.width=4, repr.plot.height=3, jupyter.plot_scale=1)"
   ]
  },
  {
   "cell_type": "code",
   "execution_count": 4,
   "id": "463313b7",
   "metadata": {},
   "outputs": [],
   "source": [
    "params <- read_tsv(snakemake@input$parameters, col_types=cols()) %>% select(uuid, sweep_mode)"
   ]
  },
  {
   "cell_type": "markdown",
   "id": "91b5b15b",
   "metadata": {},
   "source": [
    "### Selection strength regressions"
   ]
  },
  {
   "cell_type": "code",
   "execution_count": 5,
   "id": "54f1e29d",
   "metadata": {},
   "outputs": [],
   "source": [
    "selstrength <- read_tsv(snakemake@input$selstrength, col_types=cols()) %>%\n",
    "    inner_join(params, on=\"uuid\") %>%\n",
    "    mutate(sweep_mode=sweepmode_factor(sweep_mode))"
   ]
  },
  {
   "cell_type": "code",
   "execution_count": 6,
   "id": "149bc0fa",
   "metadata": {},
   "outputs": [],
   "source": [
    "slice_sample(selstrength, n=10)"
   ]
  },
  {
   "cell_type": "code",
   "execution_count": 7,
   "id": "c525f426",
   "metadata": {},
   "outputs": [],
   "source": [
    "selstrength_fig <- ggplot(selstrength) +\n",
    "    geom_point(aes(x=true_log_selection_coefficient, y=predicted_log_selection_coefficient, colour=sweep_mode), size=0.5) +\n",
    "    geom_abline(linetype='dashed') +\n",
    "    facet_wrap(vars(sweep_mode)) +\n",
    "    scale_x_continuous(labels=function(x){10**x}) +\n",
    "    scale_y_continuous(labels=function(x){10**x}) +\n",
    "    labs(\n",
    "        x = \"True s\",\n",
    "        y = \"Predicted s\"\n",
    "    ) +\n",
    "    sweeps_colour +\n",
    "    sweeps_theme +\n",
    "    theme(\n",
    "        legend.position=\"none\"\n",
    "    )"
   ]
  },
  {
   "cell_type": "code",
   "execution_count": 8,
   "id": "f232af9a",
   "metadata": {},
   "outputs": [],
   "source": [
    "selstrength_fig"
   ]
  },
  {
   "cell_type": "markdown",
   "id": "eb408ead",
   "metadata": {},
   "source": [
    "### Sweep mode confusion matrices"
   ]
  },
  {
   "cell_type": "code",
   "execution_count": 9,
   "id": "1472692b-f08a-43f2-bd36-be3881123a2a",
   "metadata": {},
   "outputs": [],
   "source": [
    "sweepmode_raw <- read_tsv(snakemake@input$sweepmode, col_types=cols()) %>%\n",
    "    select(true_label, predicted_label)  \n",
    "\n",
    "\n",
    "sweepmode_confmat <- sweepmode_raw %>%\n",
    "    table %>%\n",
    "    as_tibble %>%\n",
    "    mutate(\n",
    "        true_label=sweepmode_factor_short(true_label),\n",
    "        predicted_label=sweepmode_factor_short(predicted_label)\n",
    "    ) %>%\n",
    "    group_by(true_label) %>%\n",
    "    mutate(\n",
    "        percent=n/sum(n),\n",
    "        percent_label=paste0(round(percent*100, 1), '%')\n",
    "    )"
   ]
  },
  {
   "cell_type": "code",
   "execution_count": 10,
   "id": "aed50891",
   "metadata": {},
   "outputs": [],
   "source": [
    "confmat_fig <- ggplot(sweepmode_confmat) +\n",
    "    geom_tile(aes(x=true_label, y=predicted_label, fill=percent)) +\n",
    "    geom_text(aes(x=true_label, y=predicted_label, label=percent_label, colour=percent<0.5)) +\n",
    "    scale_colour_manual(values=c('white', 'black')) +\n",
    "    scale_y_discrete(limits=rev) +\n",
    "    scale_fill_distiller(palette=3, direction=1) +\n",
    "    sweeps_theme +\n",
    "    labs(x='True', y='Predicted') +\n",
    "    theme(\n",
    "        legend.position='none',\n",
    "        panel.grid=element_blank(),\n",
    "        panel.spacing=unit(0.3, \"in\")\n",
    "    )"
   ]
  },
  {
   "cell_type": "code",
   "execution_count": 11,
   "id": "f0f52130",
   "metadata": {},
   "outputs": [],
   "source": [
    "confmat_fig"
   ]
  },
  {
   "cell_type": "markdown",
   "id": "84fb6a47",
   "metadata": {},
   "source": [
    "### Sweep mode ROC curves"
   ]
  },
  {
   "cell_type": "code",
   "execution_count": 12,
   "id": "e756e030",
   "metadata": {},
   "outputs": [],
   "source": [
    "sweepmode_roc <- read_tsv(snakemake@input$sweepmode_roc, col_types=cols()) %>%\n",
    "    mutate(reference_label=sweepmode_factor_short(reference_label))"
   ]
  },
  {
   "cell_type": "code",
   "execution_count": 13,
   "id": "36a9334c",
   "metadata": {},
   "outputs": [],
   "source": [
    "roc_fig <- ggplot(sweepmode_roc) +\n",
    "    geom_line(aes(x=false_positive_rate, y=true_positive_rate, colour=reference_label)) +\n",
    "    geom_abline(linetype='dashed') +\n",
    "    guides(colour=guide_legend(title='Reference')) +\n",
    "    labs(\n",
    "        x='False positive rate',\n",
    "        y='True positive rate'\n",
    "    ) +\n",
    "    sweeps_colour +\n",
    "    sweeps_theme +\n",
    "    theme(\n",
    "        legend.position=c(1, 0),\n",
    "        legend.justification=c(1, 0),\n",
    "        legend.background=element_rect(colour='white')\n",
    "    )"
   ]
  },
  {
   "cell_type": "code",
   "execution_count": 14,
   "id": "82d48528",
   "metadata": {},
   "outputs": [],
   "source": [
    "roc_fig"
   ]
  },
  {
   "cell_type": "markdown",
   "id": "fdfe683e",
   "metadata": {},
   "source": [
    "### Feature analysis results"
   ]
  },
  {
   "cell_type": "code",
   "execution_count": 15,
   "id": "d6de8bbc",
   "metadata": {},
   "outputs": [],
   "source": [
    "feat_factor <- function(v) {\n",
    "    result <- str_replace_all(v, c(\n",
    "        \"pi\"=\"Pi\",\n",
    "        \"num_snps\"=\"# SNPs\",\n",
    "        \"num_haps\"=\"# Haplotypes\",\n",
    "        \"taj_D\"=\"Tajima's D\"\n",
    "    ))\n",
    "    result <- factor(result, levels=c(\"Pi\", \"# SNPs\", \"# Haplotypes\", \"H1\", \"H12\", \"H2/H1\", \"Tajima's D\"))\n",
    "    return(result)\n",
    "}\n",
    "\n",
    "feature_subset_factor <- function(v) {\n",
    "    result <- factor(v, levels=c(\n",
    "        \"1000000\", \"0100000\", \"0010000\", \"0001000\", \"0000100\", \"0000010\", \"0000001\",\n",
    "        \"0111111\", \"1011111\", \"1101111\", \"1110111\", \"1111011\", \"1111101\", \"1111110\", \"1111111\"\n",
    "    ))\n",
    "    return(result)\n",
    "}"
   ]
  },
  {
   "cell_type": "code",
   "execution_count": 16,
   "id": "fb465e8b",
   "metadata": {},
   "outputs": [],
   "source": [
    "feat_grid <- read_tsv(snakemake@input$feature_analysis_code, col_types=cols()) %>%\n",
    "    pivot_longer(cols=!feature_subset) %>%\n",
    "    mutate(name=feat_factor(name), feature_subset=feature_subset_factor(feature_subset))"
   ]
  },
  {
   "cell_type": "code",
   "execution_count": 17,
   "id": "e33e3006",
   "metadata": {},
   "outputs": [],
   "source": [
    "feat_grid$value[feat_grid$feature_subset == \"1111111\"] = 2"
   ]
  },
  {
   "cell_type": "code",
   "execution_count": 18,
   "id": "55a47339",
   "metadata": {},
   "outputs": [],
   "source": [
    "feat_grid_fig <- ggplot(feat_grid) +\n",
    "    geom_point(aes(x=name, y=feature_subset, colour=as.factor(value)), shape=4) +\n",
    "    scale_colour_manual(values=c('white', \"black\", \"darkred\")) +\n",
    "    scale_y_discrete(limits=rev) +\n",
    "    labs(y='Feature subset') +\n",
    "    sweeps_theme +\n",
    "    theme(\n",
    "        axis.title.x=element_blank(),\n",
    "        axis.text.x=element_text(angle=45, hjust=1),\n",
    "        legend.position='none',\n",
    "        axis.text.y=element_blank(),\n",
    "        panel.grid.major.x=element_blank()\n",
    "    )"
   ]
  },
  {
   "cell_type": "code",
   "execution_count": 19,
   "id": "52cf0fb0",
   "metadata": {},
   "outputs": [],
   "source": [
    "feat_grid_fig"
   ]
  },
  {
   "cell_type": "code",
   "execution_count": 20,
   "id": "e302346c",
   "metadata": {},
   "outputs": [],
   "source": [
    "feats <- read_tsv(snakemake@input$feature_analysis, col_types=cols()) %>%\n",
    "    mutate(feature_subset=feature_subset_factor(feature_subset)) %>%\n",
    "    filter(target %in% c(\"log-sel-strength\", \"sweep-mode\")) %>%\n",
    "    mutate(\n",
    "        target=target_factor(target),\n",
    "        is_baseline=feature_subset==\"1111111\"\n",
    "    )"
   ]
  },
  {
   "cell_type": "code",
   "execution_count": 21,
   "id": "bbd26132",
   "metadata": {},
   "outputs": [],
   "source": [
    "selstrength_feat_plot <- ggplot(filter(feats, target==\"Sel. strength\", metric==\"mean_relative_error\")) +\n",
    "    geom_segment(x=0, aes(xend=value, y=feature_subset, yend=feature_subset, colour=is_baseline)) +\n",
    "    geom_point(aes(x=value, y=feature_subset, colour=is_baseline)) +\n",
    "    scale_colour_manual(values=c('black', 'darkred')) +\n",
    "    scale_y_discrete(limits=rev) +\n",
    "    labs(x=\"Mean relative error\", title='Sel. strength') +\n",
    "    sweeps_theme +\n",
    "    theme(\n",
    "        axis.title.y=element_blank(),\n",
    "        axis.text.y=element_blank(),\n",
    "        legend.position='none'\n",
    "    )"
   ]
  },
  {
   "cell_type": "code",
   "execution_count": 22,
   "id": "5707d552",
   "metadata": {},
   "outputs": [],
   "source": [
    "selstrength_feat_plot"
   ]
  },
  {
   "cell_type": "code",
   "execution_count": 23,
   "id": "490763f0",
   "metadata": {},
   "outputs": [],
   "source": [
    "sweepmode_feat_plot <- ggplot(filter(feats, target==\"Sweep mode\")) +\n",
    "    geom_segment(x=0, aes(xend=value, y=feature_subset, yend=feature_subset, colour=is_baseline)) +\n",
    "    geom_point(aes(x=value, y=feature_subset, colour=is_baseline)) +\n",
    "    scale_colour_manual(values=c('black', 'darkred')) +\n",
    "    scale_y_discrete(limits=rev) +\n",
    "    labs(x=\"Accuracy\", title='Sweep mode') +\n",
    "    xlim(0, 1) +\n",
    "    sweeps_theme +\n",
    "    theme(\n",
    "        axis.title.y=element_blank(),\n",
    "        axis.text.y=element_blank(),\n",
    "        legend.position='none'\n",
    "    )"
   ]
  },
  {
   "cell_type": "code",
   "execution_count": 24,
   "id": "6d56ae8f",
   "metadata": {},
   "outputs": [],
   "source": [
    "sweepmode_feat_plot"
   ]
  },
  {
   "cell_type": "markdown",
   "id": "3251685c",
   "metadata": {},
   "source": [
    "### Plot it all together"
   ]
  },
  {
   "cell_type": "code",
   "execution_count": 25,
   "id": "fec124f0",
   "metadata": {},
   "outputs": [],
   "source": [
    "aligned <- align_plots(\n",
    "    selstrength_fig,\n",
    "    confmat_fig + theme(plot.margin = unit(c(1, 1, 1, 1), \"lines\")),\n",
    "    align='v', axis='lr')\n",
    "classification_fig <- plot_grid(\n",
    "    aligned[[2]],\n",
    "    roc_fig + theme(plot.margin = unit(c(1, 1, 1, 1), \"lines\")),\n",
    "    labels=c('B', 'C'))\n",
    "feature_analysis_fig <- plot_grid(\n",
    "    feat_grid_fig + theme(plot.margin = unit(c(0, 0, 1, 1), \"lines\")),\n",
    "    selstrength_feat_plot,\n",
    "    sweepmode_feat_plot + theme(plot.margin = unit(c(0, 1, 0, 0), \"lines\")),\n",
    "    nrow=1, align='h', axis='tb', labels=c(\"D\", NA)\n",
    ")\n",
    "all_fig <- plot_grid(aligned[[1]], classification_fig, feature_analysis_fig, nrow=3, labels=c('A', NA, NA))"
   ]
  },
  {
   "cell_type": "code",
   "execution_count": 26,
   "id": "e4c63b79",
   "metadata": {},
   "outputs": [],
   "source": [
    "sweeps_save(snakemake@output$figure, all_fig, width=7, asp=1)"
   ]
  },
  {
   "cell_type": "markdown",
   "id": "d180b87b-9e0b-455f-b87d-55735f0e9ce4",
   "metadata": {},
   "source": [
    "### Get metrics"
   ]
  },
  {
   "cell_type": "code",
   "execution_count": 14,
   "id": "bd82c847-c9e3-4a42-b065-a813be217f28",
   "metadata": {},
   "outputs": [],
   "source": [
    "metrics_sel_by_sm <- selstrength %>%\n",
    "    group_by(sweep_mode) %>%\n",
    "    summarize(\n",
    "        selstrength_rmse=rmse(true_log_selection_coefficient, predicted_log_selection_coefficient),\n",
    "        selstrength_mre=mean_relative_error(true_log_selection_coefficient, predicted_log_selection_coefficient)\n",
    "    ) %>%\n",
    "    pivot_longer(!sweep_mode, names_to='metric', values_to='value')\n",
    "\n",
    "metrics_sweepmode <- tibble(\n",
    "    sweep_mode='All',\n",
    "    metric='accuracy',\n",
    "    value=accuracy(sweepmode_raw$true_label, sweepmode_raw$predicted_label)\n",
    ")\n",
    "\n",
    "metrics_all_sel <- tibble(\n",
    "    sweep_mode=c('All', 'All'),\n",
    "    metric=c('selstrength_rsme', 'selstrength_mre'),\n",
    "    value=c(\n",
    "        rmse(selstrength$true_log_selection_coefficient, selstrength$predicted_log_selection_coefficient),\n",
    "        mean_relative_error(selstrength$true_log_selection_coefficient, selstrength$predicted_log_selection_coefficient)\n",
    "    )\n",
    ")\n",
    "\n",
    "metrics <- bind_rows(metrics_sel_by_sm, metrics_all_sel, metrics_sweepmode)"
   ]
  },
  {
   "cell_type": "code",
   "execution_count": 15,
   "id": "9b2a4645-2542-4471-b957-bf7223d2a053",
   "metadata": {},
   "outputs": [],
   "source": [
    "write_tsv(metrics, snakemake@output$metrics)"
   ]
  },
  {
   "cell_type": "code",
   "execution_count": null,
   "id": "7c208958",
   "metadata": {},
   "outputs": [],
   "source": []
  }
 ],
 "metadata": {
  "kernelspec": {
   "display_name": "R",
   "language": "R",
   "name": "ir"
  },
  "language_info": {
   "codemirror_mode": "r",
   "file_extension": ".r",
   "mimetype": "text/x-r-source",
   "name": "R",
   "pygments_lexer": "r",
   "version": "4.1.0"
  }
 },
 "nbformat": 4,
 "nbformat_minor": 5
}
