{
 "cells": [
  {
   "cell_type": "code",
   "execution_count": 2,
   "id": "ba504e20",
   "metadata": {},
   "outputs": [],
   "source": [
    "import tarfile\n",
    "from pathlib import Path\n",
    "from io import BytesIO\n",
    "import re\n",
    "\n",
    "import numpy as np\n",
    "import pandas as pd\n",
    "import tqdm.notebook"
   ]
  },
  {
   "cell_type": "code",
   "execution_count": 3,
   "id": "2730a1af",
   "metadata": {},
   "outputs": [],
   "source": [
    "sweeps = dict()"
   ]
  },
  {
   "cell_type": "markdown",
   "id": "8105f391",
   "metadata": {},
   "outputs": [],
   "source": [
    "Get all empirical control sweeps:"
   ]
  },
  {
   "cell_type": "code",
   "execution_count": 4,
   "id": "ef821cd8",
   "metadata": {},
   "outputs": [],
   "source": [
    "with tarfile.open(snakemake.input[\"empirical\"]) as tar:\n",
    "    members = tar.getmembers()\n",
    "    for member in members:\n",
    "        if member.isdir():\n",
    "            continue\n",
    "        array_file = BytesIO()\n",
    "        array_file.write(tar.extractfile(member).read())\n",
    "        array_file.seek(0)\n",
    "        sweeps[Path(member.name).stem] = np.load(array_file)"
   ]
  },
  {
   "cell_type": "markdown",
   "id": "dbe0e0ae",
   "metadata": {},
   "outputs": [],
   "source": [
    "Get averages of simulated sweeps:"
   ]
  },
  {
   "cell_type": "code",
   "execution_count": 5,
   "id": "5de9dd8f",
   "metadata": {},
   "outputs": [],
   "source": [
    "s_pattern = re.compile(r\"hard_s(.+)-\")\n",
    "hard_sweeps = dict()"
   ]
  },
  {
   "cell_type": "code",
   "execution_count": 6,
   "id": "5d2b0e11",
   "metadata": {},
   "outputs": [],
   "source": [
    "for p in Path(snakemake.config[\"additional_sim_folder\"]).iterdir():\n",
    "    match = s_pattern.search(p.name)\n",
    "    if match is None:\n",
    "        continue\n",
    "    selstren = float(s_pattern.search(p.name).groups()[0])\n",
    "    data_files = (p / \"data\").glob(\"*.tar\")\n",
    "    arrays = list()\n",
    "    for file in tqdm.notebook.tqdm(data_files):\n",
    "        with tarfile.open(file) as f:    \n",
    "            members = f.getmembers()\n",
    "            for member in members:\n",
    "                if member.isdir():\n",
    "                    continue\n",
    "                array_file = BytesIO()\n",
    "                array_file.write(f.extractfile(member).read())\n",
    "                array_file.seek(0)\n",
    "                arrays.append(np.load(array_file))\n",
    "    hard_sweeps[selstren] = np.stack(arrays).mean(axis=0)"
   ]
  },
  {
   "cell_type": "markdown",
   "id": "da2b7770",
   "metadata": {},
   "outputs": [],
   "source": [
    "### Turn signals into tidy tables"
   ]
  },
  {
   "cell_type": "code",
   "execution_count": 15,
   "id": "0e9ae388",
   "metadata": {},
   "outputs": [],
   "source": [
    "from utils.project_parameters import summary_statistic_order, smallest_window, locus_size, data_dimension\n",
    "from utils.prepare_data import save_data\n",
    "from utils.feature_calculation import get_windows\n",
    "\n",
    "window_sizes, center_pos_dict = get_windows(\n",
    "    locus_size,\n",
    "    data_dimension,\n",
    "    start_pos=1,\n",
    "    smallest_window=smallest_window,\n",
    ")\n",
    "window_sizes = list(reversed(window_sizes)) # Due to the way Numpy assigns dimension labels"
   ]
  },
  {
   "cell_type": "code",
   "execution_count": 16,
   "id": "3ea86f0f",
   "metadata": {},
   "outputs": [],
   "source": [
    "def tidify(signal, name, s=None):\n",
    "    coords, values = zip(*np.ndenumerate(signal))\n",
    "    df = (\n",
    "        pd\n",
    "        .DataFrame(coords, columns=['window_size', 'position', 'feature'])\n",
    "        .assign(value=values)\n",
    "    )\n",
    "    df = df.assign(\n",
    "        window_size=[window_sizes[i] for i in df.window_size],\n",
    "        feature=[summary_statistic_order[i] for i in df.feature],\n",
    "        dataset=name,\n",
    "        selection_coefficient=s\n",
    "    )\n",
    "    return df"
   ]
  },
  {
   "cell_type": "code",
   "execution_count": 17,
   "id": "50370004",
   "metadata": {},
   "outputs": [],
   "source": [
    "final_dataframes = []\n",
    "final_dataframes.extend([tidify(data, name) for name, data in sweeps.items()])\n",
    "final_dataframes.extend([tidify(data, 'simulated-hard-sweep', s) for s, data in hard_sweeps.items()])\n",
    "result = pd.concat(final_dataframes)"
   ]
  },
  {
   "cell_type": "code",
   "execution_count": 19,
   "id": "50415122",
   "metadata": {},
   "outputs": [],
   "source": [
    "save_data(result, snakemake.output[0])"
   ]
  },
  {
   "cell_type": "code",
   "execution_count": null,
   "id": "6641450f",
   "metadata": {},
   "outputs": [],
   "source": []
  }
 ],
 "metadata": {
  "kernelspec": {
   "display_name": "Python 3 (ipykernel)",
   "language": "python",
   "name": "python3"
  },
  "language_info": {
   "codemirror_mode": {
    "name": "ipython",
    "version": 3
   },
   "file_extension": ".py",
   "mimetype": "text/x-python",
   "name": "python",
   "nbconvert_exporter": "python",
   "pygments_lexer": "ipython3",
   "version": "3.9.7"
  }
 },
 "nbformat": 4,
 "nbformat_minor": 5
}
