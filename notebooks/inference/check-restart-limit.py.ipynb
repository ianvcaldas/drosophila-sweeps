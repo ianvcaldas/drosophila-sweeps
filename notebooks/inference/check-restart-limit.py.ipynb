{
 "cells": [
  {
   "cell_type": "code",
   "execution_count": 5,
   "id": "13c8bdc9",
   "metadata": {},
   "outputs": [],
   "source": [
    "import pandas as pd"
   ]
  },
  {
   "cell_type": "code",
   "execution_count": 8,
   "id": "e80525e2",
   "metadata": {},
   "outputs": [],
   "source": [
    "data = pd.read_table(snakemake.input[0], dtype={'swept_frequencies': str})"
   ]
  },
  {
   "cell_type": "code",
   "execution_count": 31,
   "id": "2278f111",
   "metadata": {},
   "outputs": [],
   "source": [
    "x = data[[\"data_id\", \"frequency_at_sampling\", \"frequency_at_sampling.1\", \"regime\"]]"
   ]
  },
  {
   "cell_type": "code",
   "execution_count": 35,
   "id": "83181658",
   "metadata": {},
   "outputs": [],
   "source": [
    "s1 = x[\"frequency_at_sampling\"]\n",
    "s2 = x[\"frequency_at_sampling.1\"]"
   ]
  },
  {
   "cell_type": "code",
   "execution_count": null,
   "id": "6a336783",
   "metadata": {},
   "outputs": [],
   "source": []
  }
 ],
 "metadata": {
  "kernelspec": {
   "display_name": "Python 3 (ipykernel)",
   "language": "python",
   "name": "python3"
  },
  "language_info": {
   "codemirror_mode": {
    "name": "ipython",
    "version": 3
   },
   "file_extension": ".py",
   "mimetype": "text/x-python",
   "name": "python",
   "nbconvert_exporter": "python",
   "pygments_lexer": "ipython3",
   "version": "3.9.7"
  }
 },
 "nbformat": 4,
 "nbformat_minor": 5
}
