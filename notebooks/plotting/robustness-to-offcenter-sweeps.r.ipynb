{
 "cells": [
  {
   "cell_type": "code",
   "execution_count": 2,
   "id": "edd65aa1",
   "metadata": {
    "scrolled": true
   },
   "outputs": [],
   "source": [
    "source(\"utils/plot.R\")"
   ]
  },
  {
   "cell_type": "code",
   "execution_count": 3,
   "id": "1ef01ae6",
   "metadata": {},
   "outputs": [],
   "source": [
    "options(repr.plot.width=4, repr.plot.height=3, jupyter.plot_scale=1)"
   ]
  },
  {
   "cell_type": "code",
   "execution_count": 4,
   "id": "085a1984",
   "metadata": {},
   "outputs": [],
   "source": [
    "col_spec = cols(\n",
    "    swept_mutations=col_character(),\n",
    "    adaptive_mutation_rate=col_number(),\n",
    "    selection_region_size=col_number(),\n",
    "    swept_frequencies=col_character(),\n",
    "    actual_frequency_at_selection=col_number(),\n",
    "    num_starting_lineages=col_number(),\n",
    "    num_surviving_lineages=col_number(),\n",
    "    frequency_at_selection=col_number(),\n",
    "    num_restarts=col_number(),\n",
    "    actual_frequency_at_sampling=col_number(),\n",
    "    dominance_coefficient=col_number(),\n",
    "    frequency_at_sampling=col_number(),\n",
    "    selection_coefficient=col_number(),\n",
    "    selection_coordinate=col_number(),\n",
    "    selection_generation=col_number(),\n",
    "    log_selection_coefficient=col_number(),\n",
    "    selection_coordinate=col_number(),\n",
    "    selection_generation=col_number()\n",
    ")"
   ]
  },
  {
   "cell_type": "code",
   "execution_count": 5,
   "id": "98837fdb",
   "metadata": {},
   "outputs": [],
   "source": [
    "snakemake@input$parameters"
   ]
  },
  {
   "cell_type": "code",
   "execution_count": 6,
   "id": "fa9fdf3d",
   "metadata": {},
   "outputs": [],
   "source": [
    "offcenter_factor <- function(v) {\n",
    "    result <- paste0(\"Off by \", v/1000, \"kb\")\n",
    "    result <- factor(result, levels=c(\"Off by 0.5kb\", \"Off by 10kb\"))\n",
    "    return(result)\n",
    "}\n",
    "\n",
    "read_offcenter_parameters <- function(filename) {\n",
    "    result <- read_tsv(filename, col_types=col_spec) %>%\n",
    "        mutate(offcenter_distance=as.integer(str_extract(filename, \"\\\\d+\")))\n",
    "    return(result)\n",
    "}"
   ]
  },
  {
   "cell_type": "code",
   "execution_count": 7,
   "id": "ef64c975",
   "metadata": {},
   "outputs": [],
   "source": [
    "parameters <- bind_rows(lapply(snakemake@input$parameters, read_offcenter_parameters)) %>%\n",
    "    filter(sweep_mode %in% c('hard', 'rnm (true)', 'sgv (true)')) %>%\n",
    "    select(uuid, offcenter_distance, log_selection_coefficient)"
   ]
  },
  {
   "cell_type": "markdown",
   "id": "91b5b15b",
   "metadata": {},
   "source": [
    "### Selection strength regressions"
   ]
  },
  {
   "cell_type": "code",
   "execution_count": 8,
   "id": "85f6ed80",
   "metadata": {},
   "outputs": [],
   "source": [
    "selstrength <- bind_rows(\n",
    "    lapply(\n",
    "        snakemake@input$selstrength,\n",
    "        read_tsv,\n",
    "        col_types=cols()\n",
    "    )\n",
    ") %>%\n",
    "    right_join(parameters, by='uuid') %>%\n",
    "    mutate(\n",
    "        offcenter_label=offcenter_factor(offcenter_distance)\n",
    "    )"
   ]
  },
  {
   "cell_type": "code",
   "execution_count": 9,
   "id": "c525f426",
   "metadata": {},
   "outputs": [],
   "source": [
    "selstrength_fig <- ggplot(selstrength) +\n",
    "    geom_point(aes(\n",
    "        x=true_log_selection_coefficient,\n",
    "        y=predicted_log_selection_coefficient,\n",
    "    ), colour='grey', size=0.5) +\n",
    "    geom_abline(linetype='dashed') +\n",
    "    facet_wrap(vars(offcenter_label), nrow=1) +\n",
    "    scale_x_continuous(labels=function(x){10**x}) +\n",
    "    scale_y_continuous(labels=function(x){10**x}) +\n",
    "    labs(\n",
    "        x = \"True s\",\n",
    "        y = \"Predicted s\"\n",
    "    ) +\n",
    "    sweeps_theme"
   ]
  },
  {
   "cell_type": "code",
   "execution_count": 10,
   "id": "f232af9a",
   "metadata": {},
   "outputs": [],
   "source": [
    "selstrength_fig"
   ]
  },
  {
   "cell_type": "markdown",
   "id": "eb408ead",
   "metadata": {},
   "source": [
    "### Sweep mode accuracy, by selection bracket"
   ]
  },
  {
   "cell_type": "code",
   "execution_count": 11,
   "id": "4f352338",
   "metadata": {},
   "outputs": [],
   "source": [
    "sweepmode_raw <- bind_rows(\n",
    "    lapply(\n",
    "        snakemake@input$sweepmode,\n",
    "        read_tsv,\n",
    "        col_types=cols()\n",
    "    )) %>%\n",
    "    select(uuid, true_labels, predicted_labels) %>%\n",
    "    right_join(parameters, by='uuid') %>%\n",
    "    select(offcenter_distance, true_labels, predicted_labels, log_selection_coefficient)"
   ]
  },
  {
   "cell_type": "code",
   "execution_count": 12,
   "id": "ba5e86d4",
   "metadata": {},
   "outputs": [],
   "source": [
    "sel_breaks <- 10^(c(-2, -1.5, -1.0, -0.5, 0, 0.5, 1.0, 1.5, 2))\n",
    "sweepmode <- sweepmode_raw %>%\n",
    "    mutate(selection_bracket=cut(10^log_selection_coefficient, breaks=sel_breaks, dig.lab=3)) %>%\n",
    "    group_by(offcenter_distance, selection_bracket) %>%\n",
    "    summarize(\n",
    "        accuracy=accuracy(true_labels, predicted_labels),\n",
    "    )\n",
    "selection_bracket_levels <- levels(sweepmode$selection_bracket)\n",
    "baseline <- sweepmode_raw %>%\n",
    "    group_by(offcenter_distance) %>%\n",
    "    summarize(\n",
    "        selection_bracket=\"All\",\n",
    "        accuracy=accuracy(true_labels, predicted_labels)\n",
    ")\n",
    "sweepmode <- bind_rows(sweepmode, baseline) %>%\n",
    "    mutate(\n",
    "        selection_bracket=factor(selection_bracket, levels=c(selection_bracket_levels, 'All')),\n",
    "        selection_bracket_label=str_replace_all(selection_bracket, c(\n",
    "            \"\\\\(\"=\"\",\n",
    "            \"\\\\]\"=\"\",\n",
    "            \",\"=\"-\"\n",
    "        )),\n",
    "        selection_bracket_label=fct_reorder(selection_bracket_label, as.integer(selection_bracket)),\n",
    "        offcenter_label=offcenter_factor(offcenter_distance)\n",
    "    )"
   ]
  },
  {
   "cell_type": "code",
   "execution_count": 13,
   "id": "aed50891",
   "metadata": {},
   "outputs": [],
   "source": [
    "sweepmode_fig <- ggplot(sweepmode) +\n",
    "    geom_col(aes(x=selection_bracket_label, y=accuracy)) +\n",
    "    facet_wrap(vars(offcenter_label), nrow=1) +\n",
    "    sweeps_theme +\n",
    "    labs(x='Selection coefficient', y='Accuracy') +\n",
    "    theme(\n",
    "        legend.position='none',\n",
    "        panel.spacing=unit(0.3, \"in\"),\n",
    "        axis.text.x=element_text(angle=45, hjust=1),\n",
    "        strip.text=element_blank()\n",
    "    )"
   ]
  },
  {
   "cell_type": "code",
   "execution_count": 14,
   "id": "f0f52130",
   "metadata": {},
   "outputs": [],
   "source": [
    "sweepmode_fig"
   ]
  },
  {
   "cell_type": "markdown",
   "id": "3251685c",
   "metadata": {},
   "source": [
    "### Plot it all together"
   ]
  },
  {
   "cell_type": "code",
   "execution_count": 15,
   "id": "fec124f0",
   "metadata": {},
   "outputs": [],
   "source": [
    "all_fig <- plot_grid(\n",
    "    selstrength_fig,\n",
    "    sweepmode_fig,\n",
    "    nrow=2,\n",
    "    labels=c('A', 'B'), axis='lr', align='l')"
   ]
  },
  {
   "cell_type": "code",
   "execution_count": 16,
   "id": "e4c63b79",
   "metadata": {},
   "outputs": [],
   "source": [
    "sweeps_save(snakemake@output$figure, all_fig, asp=1)"
   ]
  },
  {
   "cell_type": "markdown",
   "id": "656174f7",
   "metadata": {},
   "source": [
    "## Get metrics"
   ]
  },
  {
   "cell_type": "code",
   "execution_count": 17,
   "id": "216f3c36",
   "metadata": {},
   "outputs": [],
   "source": [
    "metrics <- selstrength %>%\n",
    "    group_by(offcenter_label) %>%\n",
    "    summarize(\n",
    "        selstrength_rmse=rmse(true_log_selection_coefficient, predicted_log_selection_coefficient),\n",
    "        selstrength_mre=mean_relative_error(true_log_selection_coefficient, predicted_log_selection_coefficient)\n",
    "    )\n",
    "\n",
    "metrics_sweepmode <- sweepmode_raw %>%\n",
    "    mutate(offcenter_label=offcenter_factor(offcenter_distance)) %>%\n",
    "    group_by(offcenter_label) %>%\n",
    "    summarize(\n",
    "        sweepmode_accuracy=accuracy(true_labels, predicted_labels)\n",
    "    )\n",
    "\n",
    "metrics <- inner_join(metrics, metrics_sweepmode, by=\"offcenter_label\")"
   ]
  },
  {
   "cell_type": "code",
   "execution_count": 18,
   "id": "2b21f76a",
   "metadata": {},
   "outputs": [],
   "source": [
    "write_tsv(metrics, snakemake@output$metrics)"
   ]
  },
  {
   "cell_type": "code",
   "execution_count": null,
   "id": "5c247d5b",
   "metadata": {},
   "outputs": [],
   "source": []
  }
 ],
 "metadata": {
  "kernelspec": {
   "display_name": "R",
   "language": "R",
   "name": "ir"
  },
  "language_info": {
   "codemirror_mode": "r",
   "file_extension": ".r",
   "mimetype": "text/x-r-source",
   "name": "R",
   "pygments_lexer": "r",
   "version": "4.1.0"
  }
 },
 "nbformat": 4,
 "nbformat_minor": 5
}
