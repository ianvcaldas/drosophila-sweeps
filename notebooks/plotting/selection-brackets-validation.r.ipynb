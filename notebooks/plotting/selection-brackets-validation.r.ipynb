{
 "cells": [
  {
   "cell_type": "code",
   "execution_count": 2,
   "id": "edfee980",
   "metadata": {},
   "outputs": [],
   "source": [
    "source(\"utils/plot.R\")"
   ]
  },
  {
   "cell_type": "code",
   "execution_count": 3,
   "id": "c55ca2de",
   "metadata": {},
   "outputs": [],
   "source": [
    "options(repr.plot.width=4, repr.plot.height=3, jupyter.plot_scale=1)"
   ]
  },
  {
   "cell_type": "code",
   "execution_count": 4,
   "id": "412b2448",
   "metadata": {},
   "outputs": [],
   "source": [
    "parameters <- read_tsv(snakemake@input$parameters, col_types=cols()) %>%\n",
    "    select(uuid, selection_coefficient)"
   ]
  },
  {
   "cell_type": "code",
   "execution_count": 5,
   "id": "62e92571",
   "metadata": {},
   "outputs": [],
   "source": [
    "sel_breaks <- 10^(c(-2, -1.5, -1.0, -0.5, 0, 0.5, 1.0, 1.5, 2))"
   ]
  },
  {
   "cell_type": "markdown",
   "id": "cf4f1ca3",
   "metadata": {},
   "source": [
    "### Selection strength part"
   ]
  },
  {
   "cell_type": "code",
   "execution_count": 8,
   "id": "ec0991c7",
   "metadata": {},
   "outputs": [],
   "source": [
    "selstrength_raw <- read_tsv(snakemake@input$selstrength, col_types=cols()) %>%\n",
    "    inner_join(parameters, on=uuid)"
   ]
  },
  {
   "cell_type": "code",
   "execution_count": 9,
   "id": "cda935ba",
   "metadata": {},
   "outputs": [],
   "source": [
    "selstrength <- selstrength_raw %>%\n",
    "    mutate(selection_bracket=cut(selection_coefficient, breaks=sel_breaks, dig.lab=3)) %>%\n",
    "    group_by(selection_bracket) %>%\n",
    "    summarize(\n",
    "        rmse=rmse(true_log_selection_coefficient, predicted_log_selection_coefficient),\n",
    "        mean_relative_error=mean_relative_error(true_log_selection_coefficient, predicted_log_selection_coefficient)\n",
    "    )"
   ]
  },
  {
   "cell_type": "code",
   "execution_count": 10,
   "id": "6fa2e202",
   "metadata": {},
   "outputs": [],
   "source": [
    "selection_bracket_levels <- levels(selstrength$selection_bracket)"
   ]
  },
  {
   "cell_type": "code",
   "execution_count": 11,
   "id": "98c32872",
   "metadata": {},
   "outputs": [],
   "source": [
    "baseline <- tibble(\n",
    "    selection_bracket=\"All\",\n",
    "    rmse=rmse(selstrength_raw$true_log_selection_coefficient, selstrength_raw$predicted_log_selection_coefficient),\n",
    "    mean_relative_error=mean_relative_error(selstrength_raw$true_log_selection_coefficient, selstrength_raw$predicted_log_selection_coefficient)\n",
    ")"
   ]
  },
  {
   "cell_type": "code",
   "execution_count": 12,
   "id": "668f51fa",
   "metadata": {},
   "outputs": [],
   "source": [
    "selstrength <- bind_rows(selstrength, baseline) %>%\n",
    "    mutate(\n",
    "        selection_bracket=factor(selection_bracket, levels=c(selection_bracket_levels, 'All')),\n",
    "        selection_bracket_label=str_replace_all(selection_bracket, c(\n",
    "            \"\\\\(\"=\"\",\n",
    "            \"\\\\]\"=\"\",\n",
    "            \",\"=\"-\"\n",
    "        )),\n",
    "        selection_bracket_label=fct_reorder(selection_bracket_label, as.integer(selection_bracket)),\n",
    "    )"
   ]
  },
  {
   "cell_type": "code",
   "execution_count": 13,
   "id": "f180d53a",
   "metadata": {},
   "outputs": [],
   "source": [
    "sel_fig <- ggplot(selstrength) +\n",
    "    geom_col(aes(x=selection_bracket_label, y=1/mean_relative_error, fill=selection_bracket_label==\"All\")) +\n",
    "    scale_fill_manual(values=c('darkgrey', 'darkred')) +\n",
    "    coord_flip() +\n",
    "    labs(\n",
    "        title = \"Selection strength\",\n",
    "        y = \"1/Mean relative error\",\n",
    "        x = \"Selection coefficient\"\n",
    "    ) +\n",
    "    sweeps_theme +\n",
    "    theme(\n",
    "        legend.position='none'\n",
    "    )"
   ]
  },
  {
   "cell_type": "code",
   "execution_count": 14,
   "id": "e3c4bb7a",
   "metadata": {},
   "outputs": [],
   "source": [
    "sel_fig"
   ]
  },
  {
   "cell_type": "markdown",
   "id": "3ba1ccda",
   "metadata": {},
   "source": [
    "### Sweep mode part"
   ]
  },
  {
   "cell_type": "code",
   "execution_count": 16,
   "id": "d18f80cd",
   "metadata": {},
   "outputs": [],
   "source": [
    "sweepmode_raw <- read_tsv(snakemake@input$sweepmode, col_types=cols()) %>%\n",
    "    inner_join(parameters, on=uuid)"
   ]
  },
  {
   "cell_type": "code",
   "execution_count": 17,
   "id": "054245b1",
   "metadata": {},
   "outputs": [],
   "source": [
    "sweepmode <- sweepmode_raw %>%\n",
    "    mutate(selection_bracket=cut(selection_coefficient, breaks=sel_breaks, dig.lab=3)) %>%\n",
    "    group_by(selection_bracket) %>%\n",
    "    summarize(accuracy=accuracy(true_ix, predicted_ix))"
   ]
  },
  {
   "cell_type": "code",
   "execution_count": 18,
   "id": "1b3efc3d",
   "metadata": {},
   "outputs": [],
   "source": [
    "selection_bracket_levels <- levels(sweepmode$selection_bracket)"
   ]
  },
  {
   "cell_type": "code",
   "execution_count": 19,
   "id": "db642100",
   "metadata": {},
   "outputs": [],
   "source": [
    "baseline <- tibble(\n",
    "    selection_bracket=\"All\",\n",
    "    accuracy=accuracy(sweepmode_raw$true_ix, sweepmode_raw$predicted_ix)\n",
    ")"
   ]
  },
  {
   "cell_type": "code",
   "execution_count": 20,
   "id": "e4263dd2",
   "metadata": {},
   "outputs": [],
   "source": [
    "sweepmode <- bind_rows(sweepmode, baseline) %>%\n",
    "    mutate(\n",
    "        selection_bracket=factor(selection_bracket, levels=c(selection_bracket_levels, 'All')),\n",
    "        selection_bracket_label=str_replace_all(selection_bracket, c(\n",
    "            \"\\\\(\"=\"\",\n",
    "            \"\\\\]\"=\"\",\n",
    "            \",\"=\"-\"\n",
    "        ))\n",
    "    )"
   ]
  },
  {
   "cell_type": "code",
   "execution_count": 21,
   "id": "2b1fc859",
   "metadata": {},
   "outputs": [],
   "source": [
    "sweepmode_fig <- ggplot(sweepmode) +\n",
    "    geom_col(aes(x=selection_bracket_label, y=accuracy, fill=selection_bracket_label==\"All\")) +\n",
    "    scale_fill_manual(values=c('darkgrey', 'darkred')) +\n",
    "    ylim(0, 1) +\n",
    "    coord_flip() +\n",
    "    labs(\n",
    "        title = \"Sweep mode\",\n",
    "        y = \"Accuracy\",\n",
    "        x = \"Selection coefficient\"\n",
    "    ) +\n",
    "    sweeps_theme +\n",
    "    theme(\n",
    "        legend.position='none',\n",
    "        axis.title.y=element_blank(),\n",
    "        axis.text.y=element_blank()\n",
    "    )"
   ]
  },
  {
   "cell_type": "code",
   "execution_count": 22,
   "id": "3fc31aaa",
   "metadata": {},
   "outputs": [],
   "source": [
    "sweepmode_fig"
   ]
  },
  {
   "cell_type": "markdown",
   "id": "e6193092",
   "metadata": {},
   "source": [
    "### Plot them together"
   ]
  },
  {
   "cell_type": "code",
   "execution_count": 23,
   "id": "0f5e32e6",
   "metadata": {},
   "outputs": [],
   "source": [
    "all_fig <- plot_grid(\n",
    "    sel_fig, sweepmode_fig,\n",
    "    nrow=1,\n",
    "    axis='tb',\n",
    "    align='t',\n",
    "    rel_widths=c(1.3, 1)\n",
    ")"
   ]
  },
  {
   "cell_type": "code",
   "execution_count": 24,
   "id": "785efe1b",
   "metadata": {},
   "outputs": [],
   "source": [
    "sweeps_save(snakemake@output[[1]], all_fig, asp=1.8)"
   ]
  },
  {
   "cell_type": "code",
   "execution_count": null,
   "id": "6688c0c2",
   "metadata": {},
   "outputs": [],
   "source": []
  }
 ],
 "metadata": {
  "kernelspec": {
   "display_name": "R",
   "language": "R",
   "name": "ir"
  },
  "language_info": {
   "codemirror_mode": "r",
   "file_extension": ".r",
   "mimetype": "text/x-r-source",
   "name": "R",
   "pygments_lexer": "r",
   "version": "4.1.0"
  }
 },
 "nbformat": 4,
 "nbformat_minor": 5
}
