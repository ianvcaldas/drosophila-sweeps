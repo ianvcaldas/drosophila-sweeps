{
 "cells": [
  {
   "cell_type": "code",
   "execution_count": 2,
   "id": "aa3f7987",
   "metadata": {},
   "outputs": [],
   "source": [
    "source(\"utils/plot.R\")"
   ]
  },
  {
   "cell_type": "code",
   "execution_count": 6,
   "id": "cab1065f",
   "metadata": {},
   "outputs": [],
   "source": [
    "feat_factor <- function(v) {\n",
    "    result <- str_replace_all(v, c(\n",
    "        \"pi\"=\"Pi\",\n",
    "        \"num_snps\"=\"# SNPs\",\n",
    "        \"num_haps\"=\"# Haplotypes\",\n",
    "        \"taj_D\"=\"Tajima's D\"\n",
    "    ))\n",
    "    result <- factor(result, levels=c(\"Pi\", \"# SNPs\", \"# Haplotypes\", \"H1\", \"H12\", \"H2/H1\", \"Tajima's D\"))\n",
    "    return(result)\n",
    "}"
   ]
  },
  {
   "cell_type": "code",
   "execution_count": 49,
   "id": "32432a43",
   "metadata": {},
   "outputs": [],
   "source": [
    "signals <- read_tsv(snakemake@input[[1]], col_types=cols(selection_coefficient=col_number())) %>%\n",
    "    mutate(\n",
    "        feature=feat_factor(feature),\n",
    "        position = position - 10,\n",
    "        PositionInKbp = position*(window_size/2)/1000,\n",
    "        WindowSize=paste(round(window_size/1000, 1), 'kb', sep=''),\n",
    "        WindowSize=factor(WindowSize, levels=str_sort(unique(WindowSize), numeric=TRUE))\n",
    "    )"
   ]
  },
  {
   "cell_type": "code",
   "execution_count": 50,
   "id": "f9dc0775",
   "metadata": {},
   "outputs": [],
   "source": [
    "# Pick K window sizes to use\n",
    "\n",
    "K <- 5\n",
    "acceptable_ws <- quantile(signals$window_size, probs=c(0, 0.25, 0.5, 0.75, 1))\n",
    "signals <- signals %>%\n",
    "    filter(window_size %in% acceptable_ws)"
   ]
  },
  {
   "cell_type": "markdown",
   "id": "6ec5a8ed",
   "metadata": {},
   "source": [
    "## Empirical signatures"
   ]
  },
  {
   "cell_type": "code",
   "execution_count": 1,
   "id": "6acb6db7",
   "metadata": {},
   "outputs": [
    {
     "ename": "ERROR",
     "evalue": "Error in signals %>% filter(dataset != \"simulated-hard-sweep\") %>% separate(dataset, : could not find function \"%>%\"\n",
     "output_type": "error",
     "traceback": [
      "Error in signals %>% filter(dataset != \"simulated-hard-sweep\") %>% separate(dataset, : could not find function \"%>%\"\nTraceback:\n"
     ]
    }
   ],
   "source": [
    "empirical <- signals %>%\n",
    "    filter(dataset != \"simulated-hard-sweep\") %>%\n",
    "    separate(dataset, sep=\"_\", into=c('dataset', NA, NA, NA)) %>%\n",
    "    separate(dataset, sep='-', into=c(NA, 'Locus')) %>%\n",
    "    mutate(Locus=str_replace_all(Locus, c(\"cyp\"=\"Cyp6g1\", \"ace\"=\"Ace\", \"chkov\"=\"CHKov1\")))"
   ]
  },
  {
   "cell_type": "code",
   "execution_count": 52,
   "id": "f92ebe6e",
   "metadata": {},
   "outputs": [],
   "source": [
    "empirical_fig <- ggplot(empirical) +\n",
    "        geom_line(aes(x=PositionInKbp, y=value, colour=feature)) +\n",
    "        facet_grid(rows=vars(Locus), cols=vars(WindowSize), switch='y', scales='free_x') +\n",
    "        labs(\n",
    "            x='Position (kb)',\n",
    "            y='Normalized statistic'\n",
    "        ) +\n",
    "        sweeps_colour +\n",
    "        sweeps_theme +\n",
    "        theme(\n",
    "            panel.grid.major.y = element_blank(),\n",
    "            axis.text.y = element_blank(),\n",
    "            axis.title.y = element_blank(),\n",
    "            strip.text.y.left = element_text(angle = 0),\n",
    "            panel.border = element_rect(colour='grey', fill=NA),\n",
    "            legend.title = element_blank(),\n",
    "            axis.text.x = element_text(angle=45, hjust=1),\n",
    "            panel.spacing.x = unit(0.4, \"lines\"),\n",
    "        )"
   ]
  },
  {
   "cell_type": "code",
   "execution_count": 53,
   "id": "73dd60dd",
   "metadata": {},
   "outputs": [],
   "source": [
    "empirical_fig"
   ]
  },
  {
   "cell_type": "code",
   "execution_count": 54,
   "id": "51c83e35",
   "metadata": {},
   "outputs": [],
   "source": [
    "sweeps_save(snakemake@output$empirical, empirical_fig, width=6, asp=1.618)"
   ]
  },
  {
   "cell_type": "markdown",
   "id": "00dd652b",
   "metadata": {},
   "source": [
    "## Simulated signatures"
   ]
  },
  {
   "cell_type": "code",
   "execution_count": 81,
   "id": "05f011bb",
   "metadata": {},
   "outputs": [],
   "source": [
    "simulated <- signals %>%\n",
    "    filter(dataset == \"simulated-hard-sweep\") %>%\n",
    "    mutate(\n",
    "        SelLabel = paste0('s=', selection_coefficient),\n",
    "        SelLabel = fct_reorder(SelLabel, selection_coefficient)\n",
    "    )"
   ]
  },
  {
   "cell_type": "code",
   "execution_count": 82,
   "id": "b7a51b50",
   "metadata": {},
   "outputs": [],
   "source": [
    "simulated_fig <- ggplot(simulated) +\n",
    "        geom_line(aes(x=PositionInKbp, y=value, colour=feature)) +\n",
    "        facet_grid(rows=vars(SelLabel), cols=vars(WindowSize), switch='y', scales='free_x') +\n",
    "        labs(\n",
    "            x='Position (kb)',\n",
    "            y='Normalized statistic'\n",
    "        ) +\n",
    "        sweeps_colour +\n",
    "        sweeps_theme +\n",
    "        theme(\n",
    "            panel.grid.major.y = element_blank(),\n",
    "            axis.text.y = element_blank(),\n",
    "            axis.title.y = element_blank(),\n",
    "            strip.text.y.left = element_text(angle = 0),\n",
    "            panel.border = element_rect(colour='grey', fill=NA),\n",
    "            legend.title = element_blank(),\n",
    "            axis.text.x = element_text(angle=45, hjust=1),\n",
    "            panel.spacing.x = unit(0.4, \"lines\"),\n",
    "        )"
   ]
  },
  {
   "cell_type": "code",
   "execution_count": 83,
   "id": "77d58e60",
   "metadata": {},
   "outputs": [],
   "source": [
    "simulated_fig"
   ]
  },
  {
   "cell_type": "code",
   "execution_count": 86,
   "id": "573873cd",
   "metadata": {},
   "outputs": [],
   "source": [
    "sweeps_save(snakemake@output$simulated, simulated_fig, width=6, asp=1.3)"
   ]
  },
  {
   "cell_type": "code",
   "execution_count": null,
   "id": "f32a8103",
   "metadata": {},
   "outputs": [],
   "source": []
  }
 ],
 "metadata": {
  "kernelspec": {
   "display_name": "R",
   "language": "R",
   "name": "ir"
  },
  "language_info": {
   "codemirror_mode": "r",
   "file_extension": ".r",
   "mimetype": "text/x-r-source",
   "name": "R",
   "pygments_lexer": "r",
   "version": "4.1.0"
  }
 },
 "nbformat": 4,
 "nbformat_minor": 5
}
