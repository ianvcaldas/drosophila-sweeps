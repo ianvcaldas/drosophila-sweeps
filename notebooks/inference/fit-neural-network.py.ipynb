{
 "cells": [
  {
   "cell_type": "code",
   "execution_count": 4,
   "id": "fbef86f2",
   "metadata": {},
   "outputs": [],
   "source": [
    "import tarfile\n",
    "from pathlib import Path\n",
    "from io import BytesIO\n",
    "\n",
    "import numpy as np\n",
    "import pandas as pd\n",
    "import fastai\n",
    "\n",
    "from utils.prepare_data import read_data, save_data, target_columns"
   ]
  },
  {
   "cell_type": "code",
   "execution_count": 1,
   "id": "2111ecdf-2f70-4842-807e-075313782ad2",
   "metadata": {},
   "outputs": [
    {
     "ename": "NameError",
     "evalue": "name 'Path' is not defined",
     "output_type": "error",
     "traceback": [
      "\u001b[0;31m---------------------------------------------------------------------------\u001b[0m",
      "\u001b[0;31mNameError\u001b[0m                                 Traceback (most recent call last)",
      "\u001b[0;32m<ipython-input-1-15a1a2a2138b>\u001b[0m in \u001b[0;36m<module>\u001b[0;34m\u001b[0m\n\u001b[0;32m----> 1\u001b[0;31m \u001b[0mtar\u001b[0m \u001b[0;34m=\u001b[0m \u001b[0mPath\u001b[0m\u001b[0;34m(\u001b[0m\u001b[0;34m'../../output/simulation-data/recombination-lower/data.tar'\u001b[0m\u001b[0;34m)\u001b[0m\u001b[0;34m\u001b[0m\u001b[0;34m\u001b[0m\u001b[0m\n\u001b[0m\u001b[1;32m      2\u001b[0m \u001b[0mtarfile\u001b[0m\u001b[0;34m.\u001b[0m\u001b[0mis_tarfile\u001b[0m\u001b[0;34m(\u001b[0m\u001b[0mtar\u001b[0m\u001b[0;34m)\u001b[0m\u001b[0;34m\u001b[0m\u001b[0;34m\u001b[0m\u001b[0m\n\u001b[1;32m      3\u001b[0m \u001b[0;34m\u001b[0m\u001b[0m\n\u001b[1;32m      4\u001b[0m \u001b[0;32mwith\u001b[0m \u001b[0mtarfile\u001b[0m\u001b[0;34m.\u001b[0m\u001b[0mopen\u001b[0m\u001b[0;34m(\u001b[0m\u001b[0mtar\u001b[0m\u001b[0;34m)\u001b[0m \u001b[0;32mas\u001b[0m \u001b[0mt\u001b[0m\u001b[0;34m:\u001b[0m\u001b[0;34m\u001b[0m\u001b[0;34m\u001b[0m\u001b[0m\n\u001b[1;32m      5\u001b[0m     \u001b[0mnames\u001b[0m \u001b[0;34m=\u001b[0m \u001b[0mt\u001b[0m\u001b[0;34m.\u001b[0m\u001b[0mgetnames\u001b[0m\u001b[0;34m(\u001b[0m\u001b[0;34m)\u001b[0m\u001b[0;34m\u001b[0m\u001b[0;34m\u001b[0m\u001b[0m\n",
      "\u001b[0;31mNameError\u001b[0m: name 'Path' is not defined"
     ]
    }
   ],
   "source": [
    "# tar = Path('../../output/simulation-data/recombination-lower/data.tar')\n",
    "# tarfile.is_tarfile(tar)\n",
    "\n",
    "# with tarfile.open(tar) as t:\n",
    "#     names = t.getnames()\n",
    "#     array_file = BytesIO()\n",
    "#     array_file.write(t.extractfile(names[0]).read())\n",
    "#     array_file.seek(0)\n",
    "#     a = np.load(array_file)"
   ]
  },
  {
   "cell_type": "code",
   "execution_count": 5,
   "id": "020e13ae",
   "metadata": {},
   "outputs": [],
   "source": [
    "x = pd.DataFrame({'epoch': [1, 2, 3, 4], 'loss': [16, 8, 4, 2]})"
   ]
  },
  {
   "cell_type": "code",
   "execution_count": 7,
   "id": "e8e7cbff",
   "metadata": {},
   "outputs": [],
   "source": [
    "# Toy output files\n",
    "from pathlib import Path\n",
    "\n",
    "save_data(x, snakemake.output[\"fit_report\"])\n",
    "if snakemake.params[\"save_model\"]:\n",
    "    Path(snakemake.output[\"fit_model\"]).touch()\n",
    "if snakemake.params[\"save_inferences\"]:\n",
    "    Path(snakemake.output[\"training_inferences\"]).touch()\n",
    "    Path(snakemake.output[\"validation_inferences\"]).touch()"
   ]
  },
  {
   "cell_type": "code",
   "execution_count": null,
   "id": "8e1532ad",
   "metadata": {},
   "outputs": [],
   "source": []
  }
 ],
 "metadata": {
  "kernelspec": {
   "display_name": "Python 3",
   "language": "python",
   "name": "python3"
  },
  "language_info": {
   "codemirror_mode": {
    "name": "ipython",
    "version": 3
   },
   "file_extension": ".py",
   "mimetype": "text/x-python",
   "name": "python",
   "nbconvert_exporter": "python",
   "pygments_lexer": "ipython3",
   "version": "3.9.5"
  }
 },
 "nbformat": 4,
 "nbformat_minor": 5
}
