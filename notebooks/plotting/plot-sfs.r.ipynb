{
 "cells": [
  {
   "cell_type": "code",
   "execution_count": 2,
   "id": "1970bd5d",
   "metadata": {},
   "outputs": [],
   "source": [
    "source(\"utils/plot.R\")"
   ]
  },
  {
   "cell_type": "code",
   "execution_count": 46,
   "id": "de534e6d",
   "metadata": {},
   "outputs": [],
   "source": [
    "get_folded_sfs <- function(sfs_raw, N) {\n",
    "    sfs <- sfs_raw %>%\n",
    "        filter(num_alternate != 0, num_alternate != N) %>%\n",
    "        mutate(num_minor=pmin(num_alternate, N - num_alternate)) %>%\n",
    "        group_by(num_minor) %>%\n",
    "        summarize(num_sites=sum(num_sites)) %>%\n",
    "        mutate(\n",
    "            freq=num_minor/N\n",
    "        )\n",
    "    return(sfs)\n",
    "}"
   ]
  },
  {
   "cell_type": "code",
   "execution_count": 96,
   "id": "9cffb476",
   "metadata": {},
   "outputs": [],
   "source": [
    "GENOME_SIZE_IN_MB <- 136826056/1e6\n",
    "\n",
    "empirical_sfs <- read_delim(\n",
    "    snakemake@input$empirical,\n",
    "    col_types=cols(num_alternate=col_number(), num_sites=col_number()),\n",
    "    delim=\" \", col_names=c('num_sites', 'num_alternate')) %>%\n",
    "    # 205 homozygous individuals, each representing a homozygous line\n",
    "    get_folded_sfs(N=410) %>%\n",
    "    # Divide by megabases in genome to get SFS per megabase\n",
    "    mutate(num_sites = num_sites/GENOME_SIZE_IN_MB)\n",
    "\n",
    "simulated_sfs <- read_tsv(snakemake@input$simulated, col_types=cols()) %>%\n",
    "    # In  simulations, the sample size is just 205, since we aren't sampling homozygous individuals\n",
    "    get_folded_sfs(N=205)\n",
    "\n",
    "sfs <- bind_rows(Empirical=empirical_sfs, Simulated=simulated_sfs, .id='Dataset') %>%\n",
    "    mutate(bin=cut(freq, breaks=15, labels=FALSE)) %>%\n",
    "    group_by(Dataset, bin) %>%\n",
    "    summarize(total_sites = sum(num_sites)) %>%\n",
    "    mutate(bin_freq = (bin - 1)*0.5/max(bin - 1))"
   ]
  },
  {
   "cell_type": "code",
   "execution_count": 97,
   "id": "b924f70b",
   "metadata": {},
   "outputs": [],
   "source": [
    "fig <- ggplot(sfs) +\n",
    "    geom_line(aes(x=bin_freq, y=total_sites, colour=Dataset)) +\n",
    "    geom_point(aes(x=bin_freq, y=total_sites, colour=Dataset, shape=Dataset), size=2) +\n",
    "    xlim(0, 0.5) +\n",
    "    scale_shape_manual(values=c(1, 4)) +\n",
    "    sweeps_colour +\n",
    "    labs(\n",
    "        x = \"Frequency\",\n",
    "        y = \"Sites per Mb\"\n",
    "    ) +\n",
    "    sweeps_theme +\n",
    "    theme(\n",
    "        legend.position='top',\n",
    "        legend.title=element_blank()\n",
    "    )\n",
    "\n",
    "sweeps_save(snakemake@output[[1]], fig, width=3)"
   ]
  },
  {
   "cell_type": "code",
   "execution_count": null,
   "id": "c52a9bed",
   "metadata": {},
   "outputs": [],
   "source": []
  }
 ],
 "metadata": {
  "kernelspec": {
   "display_name": "R",
   "language": "R",
   "name": "ir"
  },
  "language_info": {
   "codemirror_mode": "r",
   "file_extension": ".r",
   "mimetype": "text/x-r-source",
   "name": "R",
   "pygments_lexer": "r",
   "version": "4.1.0"
  }
 },
 "nbformat": 4,
 "nbformat_minor": 5
}
