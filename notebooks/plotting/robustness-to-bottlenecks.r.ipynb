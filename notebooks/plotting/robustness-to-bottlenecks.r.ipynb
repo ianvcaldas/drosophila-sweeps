{
 "cells": [
  {
   "cell_type": "code",
   "execution_count": 16,
   "id": "edd65aa1",
   "metadata": {
    "scrolled": true
   },
   "outputs": [],
   "source": [
    "source(\"utils/plot.R\")"
   ]
  },
  {
   "cell_type": "code",
   "execution_count": 3,
   "id": "1ef01ae6",
   "metadata": {},
   "outputs": [],
   "source": [
    "options(repr.plot.width=4, repr.plot.height=3, jupyter.plot_scale=1)"
   ]
  },
  {
   "cell_type": "code",
   "execution_count": 4,
   "id": "085a1984",
   "metadata": {},
   "outputs": [],
   "source": [
    "col_spec = cols(\n",
    "    swept_mutations=col_character(),\n",
    "    adaptive_mutation_rate=col_number(),\n",
    "    selection_region_size=col_number(),\n",
    "    swept_frequencies=col_character(),\n",
    "    actual_frequency_at_selection=col_number(),\n",
    "    num_starting_lineages=col_number(),\n",
    "    num_surviving_lineages=col_number(),\n",
    "    frequency_at_selection=col_number()\n",
    ")"
   ]
  },
  {
   "cell_type": "code",
   "execution_count": 5,
   "id": "463313b7",
   "metadata": {},
   "outputs": [],
   "source": [
    "params <- bind_rows(\n",
    "    `0.05`=read_tsv(snakemake@input$parameters_weak, col_types=col_spec),\n",
    "    `0.01`=read_tsv(snakemake@input$parameters_strong, col_types=col_spec),\n",
    "    .id=\"bottleneck_strength\"\n",
    ") %>%\n",
    "    filter(sweep_mode %in% c('hard', 'rnm (true)', 'sgv (true)')) %>%\n",
    "    select(uuid, sweep_mode, slim_generations, selection_generation, demography, bottleneck_strength) %>%\n",
    "    mutate(\n",
    "        bottleneck_label=paste0(as.double(bottleneck_strength)*100, '% Bottleneck')\n",
    "    ) %>%\n",
    "    separate(\"demography\", sep=',', into=c('crash_size', 'bottleneck_duration', 'bottleneck_start', NA, NA)) %>%\n",
    "    separate(\"crash_size\", sep=\"=\", into=c(NA, 'crash_size'), convert=TRUE) %>%\n",
    "    separate(\"bottleneck_duration\", sep=\"=\", into=c(NA, 'bottleneck_duration'), convert=TRUE) %>%\n",
    "    separate(\"bottleneck_start\", sep=\"=\", into=c(NA, 'bottleneck_start'), convert=TRUE) %>%\n",
    "    mutate(\n",
    "        relative_starttime = selection_generation - bottleneck_start,\n",
    "        relative_fixtime = slim_generations - bottleneck_start,\n",
    "    ) %>%\n",
    "    filter(relative_fixtime > 0)"
   ]
  },
  {
   "cell_type": "markdown",
   "id": "91b5b15b",
   "metadata": {},
   "source": [
    "### Selection strength regressions"
   ]
  },
  {
   "cell_type": "code",
   "execution_count": 6,
   "id": "54f1e29d",
   "metadata": {},
   "outputs": [],
   "source": [
    "selstrength <- bind_rows(\n",
    "    read_tsv(snakemake@input$selstrength_weak, col_types=cols()),\n",
    "    read_tsv(snakemake@input$selstrength_strong, col_types=cols()),\n",
    ") %>%\n",
    "    right_join(params, by=\"uuid\") %>%\n",
    "    mutate(\n",
    "        sweep_mode=sweepmode_factor(sweep_mode),\n",
    "    )"
   ]
  },
  {
   "cell_type": "code",
   "execution_count": 7,
   "id": "c525f426",
   "metadata": {},
   "outputs": [],
   "source": [
    "selstrength_fig <- ggplot(selstrength) +\n",
    "    geom_point(aes(\n",
    "        x=true_log_selection_coefficient,\n",
    "        y=predicted_log_selection_coefficient,\n",
    "        colour=relative_fixtime < bottleneck_duration\n",
    "    ), size=1) +\n",
    "    scale_colour_manual(values=c('grey', 'darkred')) +\n",
    "    geom_abline(linetype='dashed') +\n",
    "    facet_wrap(vars(bottleneck_label)) +\n",
    "    scale_x_continuous(labels=function(x){10**x}) +\n",
    "    scale_y_continuous(labels=function(x){10**x}) +\n",
    "    labs(\n",
    "        x = \"True sel. coefficient\",\n",
    "        y = \"Predicted sel. coefficient\"\n",
    "    ) +\n",
    "    sweeps_theme +\n",
    "    theme(\n",
    "        legend.position='none'\n",
    "    )"
   ]
  },
  {
   "cell_type": "code",
   "execution_count": 8,
   "id": "f232af9a",
   "metadata": {},
   "outputs": [],
   "source": [
    "selstrength_fig"
   ]
  },
  {
   "cell_type": "markdown",
   "id": "eb408ead",
   "metadata": {},
   "source": [
    "### Sweep mode confusion matrices"
   ]
  },
  {
   "cell_type": "code",
   "execution_count": 27,
   "id": "480d0497",
   "metadata": {},
   "outputs": [],
   "source": [
    "sweepmode_raw <- bind_rows(\n",
    "    read_tsv(snakemake@input$sweepmode_weak, col_types=cols()),\n",
    "    read_tsv(snakemake@input$sweepmode_strong, col_types=cols()),\n",
    ") %>%\n",
    "    right_join(params, by='uuid') %>%\n",
    "    select(bottleneck_label, true_labels, predicted_labels) %>%\n",
    "    filter(true_labels %in% c('hard', 'rnm (true)', 'sgv (true)'))"
   ]
  },
  {
   "cell_type": "code",
   "execution_count": 28,
   "id": "9bf737ea",
   "metadata": {},
   "outputs": [],
   "source": [
    "sweepmode_confmat <- sweepmode_raw %>%\n",
    "    table %>%\n",
    "    as_tibble %>%\n",
    "    mutate(\n",
    "        true_label=sweepmode_factor_short(true_labels),\n",
    "        predicted_label=sweepmode_factor_short(predicted_labels)\n",
    "    ) %>%\n",
    "    group_by(bottleneck_label, true_label) %>%\n",
    "    mutate(\n",
    "        percent=n/sum(n),\n",
    "        percent_label=paste0(round(percent*100, 2), '%')\n",
    "    )"
   ]
  },
  {
   "cell_type": "code",
   "execution_count": 10,
   "id": "e1bd49a0",
   "metadata": {},
   "outputs": [],
   "source": [
    "sweepmode_confmat"
   ]
  },
  {
   "cell_type": "code",
   "execution_count": 11,
   "id": "aed50891",
   "metadata": {},
   "outputs": [],
   "source": [
    "confmat_fig <- ggplot(sweepmode_confmat) +\n",
    "    geom_tile(aes(x=true_label, y=predicted_label, fill=percent)) +\n",
    "    geom_text(aes(x=true_label, y=predicted_label, label=percent_label, colour=percent<0.5)) +\n",
    "    facet_wrap(vars(bottleneck_label)) +\n",
    "    scale_colour_manual(values=c('black', 'white')) +\n",
    "    scale_y_discrete(limits=rev) +\n",
    "    scale_fill_distiller(palette=3, direction=-1) +\n",
    "    sweeps_theme +\n",
    "    labs(x='True', y='Predicted') +\n",
    "    theme(\n",
    "        legend.position='none',\n",
    "        panel.grid=element_blank(),\n",
    "        panel.spacing=unit(0.3, \"in\")\n",
    "    )"
   ]
  },
  {
   "cell_type": "code",
   "execution_count": 12,
   "id": "f0f52130",
   "metadata": {},
   "outputs": [],
   "source": [
    "confmat_fig"
   ]
  },
  {
   "cell_type": "markdown",
   "id": "3251685c",
   "metadata": {},
   "source": [
    "### Plot it all together"
   ]
  },
  {
   "cell_type": "code",
   "execution_count": 13,
   "id": "fec124f0",
   "metadata": {},
   "outputs": [],
   "source": [
    "all_fig <- plot_grid(selstrength_fig, confmat_fig, nrow=2, labels=c('A', 'B'), axis='lr', align='l')"
   ]
  },
  {
   "cell_type": "code",
   "execution_count": 14,
   "id": "e4c63b79",
   "metadata": {},
   "outputs": [],
   "source": [
    "sweeps_save(snakemake@output$figure, all_fig, width=5, asp=1)"
   ]
  },
  {
   "cell_type": "markdown",
   "id": "656174f7",
   "metadata": {},
   "source": [
    "## Get metrics"
   ]
  },
  {
   "cell_type": "code",
   "execution_count": 35,
   "id": "216f3c36",
   "metadata": {},
   "outputs": [],
   "source": [
    "metrics <- selstrength %>%\n",
    "    group_by(bottleneck_label) %>%\n",
    "    summarize(\n",
    "        selstrength_rmse=rmse(true_log_selection_coefficient, predicted_log_selection_coefficient),\n",
    "        selstrength_mre=mean_relative_error(true_log_selection_coefficient, predicted_log_selection_coefficient)\n",
    "    )\n",
    "\n",
    "metrics_sweepmode <- sweepmode_raw %>%\n",
    "    group_by(bottleneck_label) %>%\n",
    "    summarize(\n",
    "        sweepmode_accuracy=accuracy(true_labels, predicted_labels)\n",
    "    )\n",
    "\n",
    "metrics <- inner_join(metrics, metrics_sweepmode, by=\"bottleneck_label\")"
   ]
  },
  {
   "cell_type": "code",
   "execution_count": 38,
   "id": "2b21f76a",
   "metadata": {},
   "outputs": [],
   "source": [
    "write_tsv(metrics, snakemake@output$metrics)"
   ]
  },
  {
   "cell_type": "code",
   "execution_count": null,
   "id": "5c247d5b",
   "metadata": {},
   "outputs": [],
   "source": []
  }
 ],
 "metadata": {
  "kernelspec": {
   "display_name": "R",
   "language": "R",
   "name": "ir"
  },
  "language_info": {
   "codemirror_mode": "r",
   "file_extension": ".r",
   "mimetype": "text/x-r-source",
   "name": "R",
   "pygments_lexer": "r",
   "version": "4.1.0"
  }
 },
 "nbformat": 4,
 "nbformat_minor": 5
}
