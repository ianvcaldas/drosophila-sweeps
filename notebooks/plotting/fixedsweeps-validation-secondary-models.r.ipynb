{
 "cells": [
  {
   "cell_type": "code",
   "execution_count": 2,
   "id": "edd65aa1",
   "metadata": {
    "scrolled": true
   },
   "outputs": [],
   "source": [
    "source(\"utils/plot.R\")"
   ]
  },
  {
   "cell_type": "code",
   "execution_count": 3,
   "id": "1ef01ae6",
   "metadata": {},
   "outputs": [],
   "source": [
    "options(repr.plot.width=4, repr.plot.height=3, jupyter.plot_scale=1)"
   ]
  },
  {
   "cell_type": "code",
   "execution_count": 4,
   "id": "463313b7",
   "metadata": {},
   "outputs": [],
   "source": [
    "params <- read_tsv(snakemake@input$parameters, col_types=cols()) %>% select(uuid, sweep_mode)"
   ]
  },
  {
   "cell_type": "markdown",
   "id": "eb408ead",
   "metadata": {},
   "source": [
    "### Hard vs. soft confusion matrix"
   ]
  },
  {
   "cell_type": "code",
   "execution_count": 5,
   "id": "9bf737ea",
   "metadata": {},
   "outputs": [],
   "source": [
    "hardsoft_confmat <- read_tsv(snakemake@input$hard_vs_soft, col_types=cols()) %>%\n",
    "    select(true_label, predicted_label) %>%\n",
    "    table %>%\n",
    "    as_tibble %>%\n",
    "    mutate(\n",
    "        true_label=sweepmode_factor_short(true_label),\n",
    "        predicted_label=sweepmode_factor_short(predicted_label)\n",
    "    ) %>%\n",
    "    group_by(true_label) %>%\n",
    "    mutate(\n",
    "        percent=n/sum(n),\n",
    "        percent_label=paste0(round(percent*100, 1), '%')\n",
    "    )"
   ]
  },
  {
   "cell_type": "code",
   "execution_count": 6,
   "id": "e1bd49a0",
   "metadata": {},
   "outputs": [],
   "source": [
    "hardsoft_confmat"
   ]
  },
  {
   "cell_type": "code",
   "execution_count": 7,
   "id": "aed50891",
   "metadata": {},
   "outputs": [],
   "source": [
    "hardsoft_confmat_fig <- ggplot(hardsoft_confmat) +\n",
    "    geom_tile(aes(x=true_label, y=predicted_label, fill=percent)) +\n",
    "    geom_text(aes(x=true_label, y=predicted_label, label=percent_label, colour=percent<0.5)) +\n",
    "    scale_colour_manual(values=c('white', 'black')) +\n",
    "    scale_y_discrete(limits=rev) +\n",
    "    scale_fill_distiller(palette=3, direction=1) +\n",
    "    sweeps_theme +\n",
    "    labs(x='True', y='Predicted') +\n",
    "    theme(\n",
    "        legend.position='none',\n",
    "        panel.grid=element_blank(),\n",
    "        panel.spacing=unit(0.3, \"in\")\n",
    "    )"
   ]
  },
  {
   "cell_type": "code",
   "execution_count": 8,
   "id": "f0f52130",
   "metadata": {},
   "outputs": [],
   "source": [
    "hardsoft_confmat_fig"
   ]
  },
  {
   "cell_type": "markdown",
   "id": "00876739",
   "metadata": {},
   "source": [
    "### RNM vs. SGV confusion matrix"
   ]
  },
  {
   "cell_type": "code",
   "execution_count": 9,
   "id": "3291b453",
   "metadata": {},
   "outputs": [],
   "source": [
    "rnmsgv_confmat <- read_tsv(snakemake@input$rnm_vs_sgv, col_types=cols()) %>%\n",
    "    select(true_label, predicted_label) %>%\n",
    "    table %>%\n",
    "    as_tibble %>%\n",
    "    mutate(\n",
    "        true_label=sweepmode_factor_short(true_label),\n",
    "        predicted_label=sweepmode_factor_short(predicted_label)\n",
    "    ) %>%\n",
    "    group_by(true_label) %>%\n",
    "    mutate(\n",
    "        percent=n/sum(n),\n",
    "        percent_label=paste0(round(percent*100, 1), '%')\n",
    "    )"
   ]
  },
  {
   "cell_type": "code",
   "execution_count": 10,
   "id": "23713483",
   "metadata": {},
   "outputs": [],
   "source": [
    "rnmsgv_confmat"
   ]
  },
  {
   "cell_type": "code",
   "execution_count": 11,
   "id": "d3dc9d9c",
   "metadata": {},
   "outputs": [],
   "source": [
    "rnmsgv_confmat_fig <- ggplot(rnmsgv_confmat) +\n",
    "    geom_tile(aes(x=true_label, y=predicted_label, fill=percent)) +\n",
    "    geom_text(aes(x=true_label, y=predicted_label, label=percent_label, colour=percent<0.5)) +\n",
    "    scale_colour_manual(values=c('white', 'black')) +\n",
    "    scale_y_discrete(limits=rev) +\n",
    "    scale_fill_distiller(palette=3, direction=1) +\n",
    "    sweeps_theme +\n",
    "    labs(x='True', y='Predicted') +\n",
    "    theme(\n",
    "        legend.position='none',\n",
    "        panel.grid=element_blank(),\n",
    "        panel.spacing=unit(0.3, \"in\")\n",
    "    )"
   ]
  },
  {
   "cell_type": "code",
   "execution_count": 12,
   "id": "99523896",
   "metadata": {},
   "outputs": [],
   "source": [
    "rnmsgv_confmat_fig"
   ]
  },
  {
   "cell_type": "markdown",
   "id": "84fb6a47",
   "metadata": {},
   "source": [
    "### Hard vs. soft ROC curve"
   ]
  },
  {
   "cell_type": "code",
   "execution_count": 13,
   "id": "e756e030",
   "metadata": {},
   "outputs": [],
   "source": [
    "hardsoft_roc <- read_tsv(snakemake@input$hard_vs_soft_roc, col_types=cols()) %>%\n",
    "    mutate(reference_label=sweepmode_factor_short(reference_label)) %>%\n",
    "    filter(reference_label=='Soft')"
   ]
  },
  {
   "cell_type": "code",
   "execution_count": 14,
   "id": "36a9334c",
   "metadata": {},
   "outputs": [],
   "source": [
    "hardsoft_roc_fig <- ggplot(hardsoft_roc) +\n",
    "    geom_line(aes(x=false_positive_rate, y=true_positive_rate)) +\n",
    "    geom_abline(linetype='dashed') +\n",
    "    labs(\n",
    "        x='False positive rate',\n",
    "        y='True positive rate'\n",
    "    ) +\n",
    "    sweeps_theme"
   ]
  },
  {
   "cell_type": "code",
   "execution_count": 15,
   "id": "82d48528",
   "metadata": {},
   "outputs": [],
   "source": [
    "hardsoft_roc_fig"
   ]
  },
  {
   "cell_type": "markdown",
   "id": "93856228",
   "metadata": {},
   "source": [
    "### RNM vs. SGV ROC curve"
   ]
  },
  {
   "cell_type": "code",
   "execution_count": 16,
   "id": "206c84a0",
   "metadata": {},
   "outputs": [],
   "source": [
    "rnmsgv_roc <- read_tsv(snakemake@input$rnm_vs_sgv_roc, col_types=cols()) %>%\n",
    "    mutate(reference_label=sweepmode_factor_short(reference_label)) %>%\n",
    "    filter(reference_label=='SGV')"
   ]
  },
  {
   "cell_type": "code",
   "execution_count": 17,
   "id": "daf5a52d",
   "metadata": {},
   "outputs": [],
   "source": [
    "rnmsgv_roc_fig <- ggplot(rnmsgv_roc) +\n",
    "    geom_line(aes(x=false_positive_rate, y=true_positive_rate)) +\n",
    "    geom_abline(linetype='dashed') +\n",
    "    labs(\n",
    "        x='False positive rate',\n",
    "        y='True positive rate'\n",
    "    ) +\n",
    "    sweeps_theme"
   ]
  },
  {
   "cell_type": "code",
   "execution_count": 18,
   "id": "0f134338",
   "metadata": {},
   "outputs": [],
   "source": [
    "rnmsgv_roc_fig"
   ]
  },
  {
   "cell_type": "markdown",
   "id": "fdfe683e",
   "metadata": {},
   "source": [
    "### Feature analysis results"
   ]
  },
  {
   "cell_type": "code",
   "execution_count": 19,
   "id": "d6de8bbc",
   "metadata": {
    "execution": {
     "iopub.execute_input": "2022-02-01T21:21:35.112453Z",
     "iopub.status.busy": "2022-02-01T21:21:35.111270Z",
     "iopub.status.idle": "2022-02-01T21:21:35.122633Z",
     "shell.execute_reply": "2022-02-01T21:21:35.121731Z"
    }
   },
   "outputs": [],
   "source": [
    "feat_factor <- function(v) {\n",
    "    result <- str_replace_all(v, c(\n",
    "        \"pi\"=\"Pi\",\n",
    "        \"num_snps\"=\"# SNPs\",\n",
    "        \"num_haps\"=\"# Haplotypes\",\n",
    "        \"taj_D\"=\"Tajima's D\"\n",
    "    ))\n",
    "    result <- factor(result, levels=c(\"Pi\", \"# SNPs\", \"# Haplotypes\", \"H1\", \"H12\", \"H2/H1\", \"Tajima's D\"))\n",
    "    return(result)\n",
    "}\n",
    "\n",
    "feature_subset_factor <- function(v) {\n",
    "    result <- factor(v, levels=c(\n",
    "        \"1000000\", \"0100000\", \"0010000\", \"0001000\", \"0000100\", \"0000010\", \"0000001\",\n",
    "        \"0111111\", \"1011111\", \"1101111\", \"1110111\", \"1111011\", \"1111101\", \"1111110\", \"1111111\"\n",
    "    ))\n",
    "    return(result)\n",
    "}"
   ]
  },
  {
   "cell_type": "code",
   "execution_count": 20,
   "id": "fb465e8b",
   "metadata": {
    "execution": {
     "iopub.execute_input": "2022-02-01T21:21:35.126635Z",
     "iopub.status.busy": "2022-02-01T21:21:35.125480Z",
     "iopub.status.idle": "2022-02-01T21:21:35.163690Z",
     "shell.execute_reply": "2022-02-01T21:21:35.162766Z"
    }
   },
   "outputs": [],
   "source": [
    "feat_grid <- read_tsv(snakemake@input$feature_analysis_code, col_types=cols()) %>%\n",
    "    pivot_longer(cols=!feature_subset) %>%\n",
    "    mutate(name=feat_factor(name), feature_subset=feature_subset_factor(feature_subset))"
   ]
  },
  {
   "cell_type": "code",
   "execution_count": 21,
   "id": "e33e3006",
   "metadata": {
    "execution": {
     "iopub.execute_input": "2022-02-01T21:21:35.167605Z",
     "iopub.status.busy": "2022-02-01T21:21:35.166420Z",
     "iopub.status.idle": "2022-02-01T21:21:35.176839Z",
     "shell.execute_reply": "2022-02-01T21:21:35.175798Z"
    }
   },
   "outputs": [],
   "source": [
    "feat_grid$value[feat_grid$feature_subset == \"1111111\"] = 2"
   ]
  },
  {
   "cell_type": "code",
   "execution_count": 22,
   "id": "55a47339",
   "metadata": {
    "execution": {
     "iopub.execute_input": "2022-02-01T21:21:35.180897Z",
     "iopub.status.busy": "2022-02-01T21:21:35.179689Z",
     "iopub.status.idle": "2022-02-01T21:21:35.201803Z",
     "shell.execute_reply": "2022-02-01T21:21:35.200739Z"
    }
   },
   "outputs": [],
   "source": [
    "feat_grid_fig <- ggplot(feat_grid) +\n",
    "    geom_point(aes(x=name, y=feature_subset, colour=as.factor(value)), shape=4) +\n",
    "    scale_colour_manual(values=c('white', \"black\", \"darkred\")) +\n",
    "    scale_y_discrete(limits=rev) +\n",
    "    labs(y='Feature subset') +\n",
    "    sweeps_theme +\n",
    "    theme(\n",
    "        axis.title.x=element_blank(),\n",
    "        axis.text.x=element_text(angle=45, hjust=1),\n",
    "        legend.position='none',\n",
    "        axis.text.y=element_blank(),\n",
    "        panel.grid.major.x=element_blank()\n",
    "    )"
   ]
  },
  {
   "cell_type": "code",
   "execution_count": 23,
   "id": "52cf0fb0",
   "metadata": {
    "execution": {
     "iopub.execute_input": "2022-02-01T21:21:35.205779Z",
     "iopub.status.busy": "2022-02-01T21:21:35.204602Z",
     "iopub.status.idle": "2022-02-01T21:21:35.321701Z",
     "shell.execute_reply": "2022-02-01T21:21:35.320255Z"
    }
   },
   "outputs": [],
   "source": [
    "feat_grid_fig"
   ]
  },
  {
   "cell_type": "code",
   "execution_count": 24,
   "id": "e302346c",
   "metadata": {
    "execution": {
     "iopub.execute_input": "2022-02-01T21:21:35.326229Z",
     "iopub.status.busy": "2022-02-01T21:21:35.324919Z",
     "iopub.status.idle": "2022-02-01T21:21:35.360807Z",
     "shell.execute_reply": "2022-02-01T21:21:35.359934Z"
    }
   },
   "outputs": [],
   "source": [
    "feats <- read_tsv(snakemake@input$feature_analysis, col_types=cols()) %>%\n",
    "    mutate(feature_subset=feature_subset_factor(feature_subset)) %>%\n",
    "    filter(target %in% c(\"hard-vs-soft\", \"rnm-vs-sgv\")) %>%\n",
    "    mutate(\n",
    "        target=target_factor(target),\n",
    "        is_baseline=feature_subset==\"1111111\"\n",
    "    )"
   ]
  },
  {
   "cell_type": "code",
   "execution_count": 25,
   "id": "490763f0",
   "metadata": {
    "execution": {
     "iopub.execute_input": "2022-02-01T21:21:35.520820Z",
     "iopub.status.busy": "2022-02-01T21:21:35.519562Z",
     "iopub.status.idle": "2022-02-01T21:21:35.537319Z",
     "shell.execute_reply": "2022-02-01T21:21:35.536392Z"
    }
   },
   "outputs": [],
   "source": [
    "hardsoft_feat_plot <- ggplot(filter(feats, target==\"Hard vs. Soft\")) +\n",
    "    geom_segment(x=0, aes(xend=value, y=feature_subset, yend=feature_subset, colour=is_baseline)) +\n",
    "    geom_point(aes(x=value, y=feature_subset, colour=is_baseline)) +\n",
    "    scale_colour_manual(values=c('black', 'darkred')) +\n",
    "    scale_y_discrete(limits=rev) +\n",
    "    labs(x=\"Accuracy\", title='Hard vs. Soft') +\n",
    "    xlim(0, 1) +\n",
    "    sweeps_theme +\n",
    "    theme(\n",
    "        axis.title.y=element_blank(),\n",
    "        axis.text.y=element_blank(),\n",
    "        legend.position='none'\n",
    "    )"
   ]
  },
  {
   "cell_type": "code",
   "execution_count": 26,
   "id": "6d56ae8f",
   "metadata": {
    "execution": {
     "iopub.execute_input": "2022-02-01T21:21:35.541292Z",
     "iopub.status.busy": "2022-02-01T21:21:35.540090Z",
     "iopub.status.idle": "2022-02-01T21:21:35.677569Z",
     "shell.execute_reply": "2022-02-01T21:21:35.676381Z"
    }
   },
   "outputs": [],
   "source": [
    "hardsoft_feat_plot"
   ]
  },
  {
   "cell_type": "code",
   "execution_count": 27,
   "id": "37a07742",
   "metadata": {
    "execution": {
     "iopub.execute_input": "2022-02-01T21:21:35.520820Z",
     "iopub.status.busy": "2022-02-01T21:21:35.519562Z",
     "iopub.status.idle": "2022-02-01T21:21:35.537319Z",
     "shell.execute_reply": "2022-02-01T21:21:35.536392Z"
    }
   },
   "outputs": [],
   "source": [
    "rnmsgv_feat_plot <- ggplot(filter(feats, target==\"RNM vs. SGV\")) +\n",
    "    geom_segment(x=0, aes(xend=value, y=feature_subset, yend=feature_subset, colour=is_baseline)) +\n",
    "    geom_point(aes(x=value, y=feature_subset, colour=is_baseline)) +\n",
    "    scale_colour_manual(values=c('black', 'darkred')) +\n",
    "    scale_y_discrete(limits=rev) +\n",
    "    labs(x=\"Accuracy\", title='RNM vs. SGV') +\n",
    "    xlim(0, 1) +\n",
    "    sweeps_theme +\n",
    "    theme(\n",
    "        axis.title.y=element_blank(),\n",
    "        axis.text.y=element_blank(),\n",
    "        legend.position='none'\n",
    "    )"
   ]
  },
  {
   "cell_type": "code",
   "execution_count": 28,
   "id": "6c8b9bc1",
   "metadata": {
    "execution": {
     "iopub.execute_input": "2022-02-01T21:21:35.541292Z",
     "iopub.status.busy": "2022-02-01T21:21:35.540090Z",
     "iopub.status.idle": "2022-02-01T21:21:35.677569Z",
     "shell.execute_reply": "2022-02-01T21:21:35.676381Z"
    }
   },
   "outputs": [],
   "source": [
    "rnmsgv_feat_plot"
   ]
  },
  {
   "cell_type": "markdown",
   "id": "3251685c",
   "metadata": {},
   "source": [
    "### Plot it all together"
   ]
  },
  {
   "cell_type": "code",
   "execution_count": null,
   "id": "b72802bd",
   "metadata": {},
   "outputs": [],
   "source": []
  },
  {
   "cell_type": "code",
   "execution_count": 29,
   "id": "108a30d7",
   "metadata": {},
   "outputs": [],
   "source": [
    "hardsoft_fig <- plot_grid(\n",
    "    hardsoft_confmat_fig + theme(plot.margin = unit(c(1, 1, 1, 1), \"lines\")),\n",
    "    hardsoft_roc_fig + theme(plot.margin = unit(c(1, 1, 1, 1), \"lines\")),\n",
    "    labels=c('A', 'B'))"
   ]
  },
  {
   "cell_type": "code",
   "execution_count": 30,
   "id": "f9f560f6",
   "metadata": {},
   "outputs": [],
   "source": [
    "rnmsgv_fig <- plot_grid(\n",
    "    rnmsgv_confmat_fig + theme(plot.margin = unit(c(1, 1, 1, 1), \"lines\")),\n",
    "    rnmsgv_roc_fig + theme(plot.margin = unit(c(1, 1, 1, 1), \"lines\")),\n",
    "    labels=c('C', 'D'))"
   ]
  },
  {
   "cell_type": "code",
   "execution_count": 31,
   "id": "737d09d2",
   "metadata": {},
   "outputs": [],
   "source": [
    "feature_analysis_fig <- plot_grid(\n",
    "    feat_grid_fig + theme(plot.margin = unit(c(0, 0, 1, 1), \"lines\")),\n",
    "    hardsoft_feat_plot,\n",
    "    rnmsgv_feat_plot + theme(plot.margin = unit(c(0, 1, 0, 0), \"lines\")),\n",
    "    nrow=1, align='h', axis='tb', labels=c(\"E\", NA)\n",
    ")"
   ]
  },
  {
   "cell_type": "code",
   "execution_count": 32,
   "id": "fec124f0",
   "metadata": {},
   "outputs": [],
   "source": [
    "all_fig <- plot_grid(\n",
    "    hardsoft_fig,\n",
    "    rnmsgv_fig,\n",
    "    feature_analysis_fig,\n",
    "    nrow=3)"
   ]
  },
  {
   "cell_type": "code",
   "execution_count": 34,
   "id": "e4c63b79",
   "metadata": {},
   "outputs": [],
   "source": [
    "sweeps_save(snakemake@output[[1]], all_fig, width=7, asp=1)"
   ]
  },
  {
   "cell_type": "code",
   "execution_count": null,
   "id": "7c208958",
   "metadata": {},
   "outputs": [],
   "source": []
  }
 ],
 "metadata": {
  "kernelspec": {
   "display_name": "R",
   "language": "R",
   "name": "ir"
  },
  "language_info": {
   "codemirror_mode": "r",
   "file_extension": ".r",
   "mimetype": "text/x-r-source",
   "name": "R",
   "pygments_lexer": "r",
   "version": "4.1.0"
  }
 },
 "nbformat": 4,
 "nbformat_minor": 5
}
