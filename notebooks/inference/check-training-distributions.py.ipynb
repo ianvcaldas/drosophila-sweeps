{
 "cells": [
  {
   "cell_type": "code",
   "execution_count": 2,
   "id": "13c8bdc9",
   "metadata": {},
   "outputs": [],
   "source": [
    "import pandas as pd\n",
    "from pandas.api.types import is_numeric_dtype"
   ]
  },
  {
   "cell_type": "code",
   "execution_count": 3,
   "id": "6a336783",
   "metadata": {},
   "outputs": [],
   "source": [
    "def get_distribution(s):\n",
    "    always_unique = [\"demography\", \"seed\", \"swept_frequencies\"]\n",
    "    if s.name in always_unique:\n",
    "        x = f\"{s.nunique()} unique values.\"\n",
    "    elif is_numeric_dtype(s):\n",
    "        if s.nunique() == 0:\n",
    "            x = f\"{len(s)}x NaN\"\n",
    "        elif s.nunique() == 1:\n",
    "            x = f\"{s.notna().sum()}x {s.loc[s.notna()].unique()[0]}\"\n",
    "        else:\n",
    "            x = s.describe().to_string()\n",
    "    elif s.loc[s.notna()].is_unique:\n",
    "        x = f\"{s.nunique()} unique values.\"\n",
    "    else:\n",
    "        if s.nunique() == 1:\n",
    "            x = f\"{s.notna().sum()}x {s.loc[s.notna()].unique()[0]}\"\n",
    "        else:\n",
    "            x = s.value_counts().to_string()\n",
    "    return x"
   ]
  },
  {
   "cell_type": "code",
   "execution_count": 4,
   "id": "3effedd3",
   "metadata": {},
   "outputs": [],
   "source": [
    "def get_columns_report(df):\n",
    "    lines = []\n",
    "    for column in sorted(df.columns):\n",
    "        lines.append(column)\n",
    "        lines.append(get_distribution(df[column]))\n",
    "        lines.append(\"\")\n",
    "    return \"\\n\".join(lines)"
   ]
  },
  {
   "cell_type": "code",
   "execution_count": 5,
   "id": "b082f955",
   "metadata": {},
   "outputs": [],
   "source": [
    "def get_df_report(df, status, regime):\n",
    "    lines = []\n",
    "    if status == \"all\":\n",
    "        this_df = df\n",
    "    else:\n",
    "        this_df = df.loc[df.simulation_status == status]\n",
    "    title = f\"{status} {regime} simulations\"\n",
    "    lines.append(title.upper())\n",
    "    lines.append(\"-\"*len(title))\n",
    "    lines.append(\"\")\n",
    "    lines.append(get_columns_report(this_df))\n",
    "    lines.append(\"\")\n",
    "    return lines"
   ]
  },
  {
   "cell_type": "code",
   "execution_count": 6,
   "id": "7c86bdd5",
   "metadata": {},
   "outputs": [],
   "source": [
    "data = pd.read_table(snakemake.input[0], dtype={'swept_frequencies': str})"
   ]
  },
  {
   "cell_type": "code",
   "execution_count": 7,
   "id": "17e64b87",
   "metadata": {},
   "outputs": [],
   "source": [
    "lines = []"
   ]
  },
  {
   "cell_type": "code",
   "execution_count": 8,
   "id": "d6a503ad",
   "metadata": {},
   "outputs": [],
   "source": [
    "constant_cols = data.columns[data.nunique(dropna=False) == 1].tolist()\n",
    "title = \"CONSTANT PARAMETERS\"\n",
    "lines.append(title)\n",
    "lines.append(\"-\"*len(title))\n",
    "lines.append(\"\")\n",
    "for col in constant_cols:\n",
    "    lines.append(col)\n",
    "    s = data[col]\n",
    "    lines.append(f\"{len(s)}x {s.unique()[0]}\")\n",
    "    lines.append(\"\")\n",
    "    data = data.drop(col, axis='columns')\n",
    "lines.append(\"\\n\")"
   ]
  },
  {
   "cell_type": "code",
   "execution_count": 10,
   "id": "ef6a35b9",
   "metadata": {},
   "outputs": [],
   "source": [
    "regimes = {\n",
    "    regime: data.loc[data.regime == regime] for regime in data.regime.unique()\n",
    "}\n",
    "\n",
    "for regime, df in regimes.items():\n",
    "    statuses = df.simulation_status.unique()\n",
    "    for status in statuses:\n",
    "        lines.extend(get_df_report(df, status, regime))\n",
    "    if len(statuses) > 1:\n",
    "        lines.extend(get_df_report(df, \"all\", regime))"
   ]
  },
  {
   "cell_type": "code",
   "execution_count": 11,
   "id": "1fe555f4",
   "metadata": {},
   "outputs": [],
   "source": [
    "text = \"\\n\".join(lines)\n",
    "with open(snakemake.output[0], \"w\") as f:\n",
    "    f.write(text)"
   ]
  },
  {
   "cell_type": "code",
   "execution_count": null,
   "id": "11843c72",
   "metadata": {},
   "outputs": [],
   "source": []
  }
 ],
 "metadata": {
  "kernelspec": {
   "display_name": "Python 3",
   "language": "python",
   "name": "python3"
  },
  "language_info": {
   "codemirror_mode": {
    "name": "ipython",
    "version": 3
   },
   "file_extension": ".py",
   "mimetype": "text/x-python",
   "name": "python",
   "nbconvert_exporter": "python",
   "pygments_lexer": "ipython3",
   "version": "3.9.5"
  }
 },
 "nbformat": 4,
 "nbformat_minor": 5
}
