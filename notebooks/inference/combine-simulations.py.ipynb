{
 "cells": [
  {
   "cell_type": "code",
   "execution_count": 2,
   "id": "eef77c3e",
   "metadata": {},
   "outputs": [],
   "source": [
    "import tarfile\n",
    "import re\n",
    "from pathlib import Path\n",
    "from itertools import chain\n",
    "from collections import defaultdict\n",
    "\n",
    "import pandas as pd"
   ]
  },
  {
   "cell_type": "code",
   "execution_count": 3,
   "id": "0078b349",
   "metadata": {},
   "outputs": [],
   "source": [
    "source_folder = Path(snakemake.config[\"raw_sim_folder\"])/snakemake.wildcards[\"sim\"]\n",
    "info_dict = defaultdict(int)"
   ]
  },
  {
   "cell_type": "code",
   "execution_count": 5,
   "id": "0d41f002",
   "metadata": {},
   "outputs": [],
   "source": [
    "sources = list(Path(snakemake.config[\"raw_sim_folder\"]).glob(snakemake.wildcards[\"sim\"] + \"*\"))\n",
    "data_tars = chain(*[source.glob('data/*.tar') for source in sources])\n",
    "logdata_tars = chain(*[source.glob('logdata/*.tar') for source in sources])\n",
    "feature_tars = chain(*[source.glob('features/*.tar.gz') for source in sources])\n",
    "parameter_tsvs = chain(*[source.glob('parameters/*.tsv') for source in sources])"
   ]
  },
  {
   "cell_type": "code",
   "execution_count": 5,
   "id": "46c824e0",
   "metadata": {},
   "outputs": [],
   "source": [
    "def get_sim_id(path):\n",
    "    re_numbers = r\"[0-9]+\"\n",
    "    stem = path.parents[1].name.replace(snakemake.wildcards[\"sim\"], \"\")\n",
    "    if stem.startswith(\"-\"):\n",
    "        stem = stem [1:]\n",
    "    batch_id = re.search(re_numbers, path.stem).group()\n",
    "    return \"-\".join([stem, batch_id])"
   ]
  },
  {
   "cell_type": "code",
   "execution_count": 6,
   "id": "83ae96d5",
   "metadata": {},
   "outputs": [],
   "source": [
    "with tarfile.open(snakemake.output[\"data\"], 'w') as dest:\n",
    "    for data_tar in data_tars:\n",
    "        tar = tarfile.open(data_tar, 'r')\n",
    "        members = tar.getmembers()\n",
    "        for member in members:\n",
    "            if member.isdir():\n",
    "                continue\n",
    "            fileobj = tar.extractfile(member)\n",
    "            member.name = Path(member.name).name\n",
    "            dest.addfile(member, fileobj)\n",
    "            info_dict['npy_files'] += 1\n",
    "        tar.close()"
   ]
  },
  {
   "cell_type": "code",
   "execution_count": 6,
   "id": "010adeb1-43b5-41e3-bfc2-e4a31ff92838",
   "metadata": {},
   "outputs": [],
   "source": [
    "with tarfile.open(snakemake.output[\"logdata\"], 'w') as dest:\n",
    "    for data_tar in logdata_tars:\n",
    "        tar = tarfile.open(data_tar, 'r')\n",
    "        members = tar.getmembers()\n",
    "        for member in members:\n",
    "            if member.isdir():\n",
    "                continue\n",
    "            fileobj = tar.extractfile(member)\n",
    "            member.name = Path(member.name).name\n",
    "            dest.addfile(member, fileobj)\n",
    "            info_dict['log_npy_files'] += 1\n",
    "        tar.close()"
   ]
  },
  {
   "cell_type": "code",
   "execution_count": 7,
   "id": "c0f8413b",
   "metadata": {},
   "outputs": [],
   "source": [
    "with tarfile.open(snakemake.output[\"features\"], 'w:gz') as dest:\n",
    "    for data_tar in feature_tars:\n",
    "        tar = tarfile.open(data_tar, 'r:gz')\n",
    "        members = tar.getmembers()\n",
    "        for member in members:\n",
    "            if member.isdir():\n",
    "                continue\n",
    "            fileobj = tar.extractfile(member)\n",
    "            member.name = get_sim_id(data_tar) + \"-\" + Path(member.name).name\n",
    "            dest.addfile(member, fileobj)\n",
    "            info_dict['feature_files'] += 1\n",
    "        tar.close()"
   ]
  },
  {
   "cell_type": "code",
   "execution_count": 8,
   "id": "c5b9c2a5",
   "metadata": {},
   "outputs": [],
   "source": [
    "param_dfs = []\n",
    "\n",
    "for f in parameter_tsvs:\n",
    "    sim_id = get_sim_id(f)\n",
    "    df = pd.read_table(f, dtype={\"data_id\": str})\n",
    "    df = df.assign(data_id = pd.Series([sim_id for _ in range(len(df))]).str.cat(df.data_id, sep='-'))\n",
    "    param_dfs.append(df)\n",
    "    \n",
    "params = pd.concat(param_dfs).reset_index(drop=True)"
   ]
  },
  {
   "cell_type": "code",
   "execution_count": 9,
   "id": "be55457d",
   "metadata": {},
   "outputs": [],
   "source": [
    "params.to_csv(snakemake.output[\"parameters\"], index=False, sep=\"\\t\")"
   ]
  },
  {
   "cell_type": "code",
   "execution_count": 10,
   "id": "0604bc2c",
   "metadata": {},
   "outputs": [],
   "source": [
    "info_dict[\"total_simulations\"] = len(params)\n",
    "info_dict[\"successful_simulations\"] = len(params.loc[params.simulation_status == \"ok\"])"
   ]
  },
  {
   "cell_type": "code",
   "execution_count": 11,
   "id": "6afd88c2",
   "metadata": {
    "tags": []
   },
   "outputs": [],
   "source": [
    "lines = [\n",
    "    f\"Combining files for simulation with ID {snakemake.wildcards['sim']}.\",\n",
    "    f\"Total number of simulation parameters: {info_dict['total_simulations']}.\",\n",
    "    f\"Successful simulations: {info_dict['successful_simulations']}.\",\n",
    "    f\"There should be one NPY file per successful simulation. Number of NPY files: {info_dict['npy_files']}.\",\n",
    "    f\"There should be one log-transformed NPY per successful simulation. Number of log-transformed NPY files: {info_dict['log_npy_files']}.\",\n",
    "    f\"There should be two feature files per successful simulation. Number of feature files: {info_dict['feature_files']}.\"\n",
    "]"
   ]
  },
  {
   "cell_type": "code",
   "execution_count": 12,
   "id": "57d1541a",
   "metadata": {},
   "outputs": [],
   "source": [
    "with open(snakemake.output[\"info\"], \"w\") as f:\n",
    "    f.write(\"\\n\".join(lines))"
   ]
  }
 ],
 "metadata": {
  "kernelspec": {
   "display_name": "Python 3",
   "language": "python",
   "name": "python3"
  },
  "language_info": {
   "codemirror_mode": {
    "name": "ipython",
    "version": 3
   },
   "file_extension": ".py",
   "mimetype": "text/x-python",
   "name": "python",
   "nbconvert_exporter": "python",
   "pygments_lexer": "ipython3",
   "version": "3.9.5"
  }
 },
 "nbformat": 4,
 "nbformat_minor": 5
}
