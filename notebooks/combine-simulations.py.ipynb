{
 "cells": [
  {
   "cell_type": "code",
   "execution_count": 4,
   "id": "eef77c3e",
   "metadata": {},
   "outputs": [],
   "source": [
    "import tarfile\n",
    "import re\n",
    "from pathlib import Path\n",
    "\n",
    "import pandas as pd"
   ]
  },
  {
   "cell_type": "code",
   "execution_count": 46,
   "id": "0078b349",
   "metadata": {},
   "outputs": [],
   "source": [
    "source_folder = Path(snakemake.config[\"raw_sim_folder\"])/snakemake.wildcards[\"sim\"]\n",
    "re_numbers = r\"[0-9]+\""
   ]
  },
  {
   "cell_type": "code",
   "execution_count": 5,
   "id": "83ae96d5",
   "metadata": {},
   "outputs": [],
   "source": [
    "with tarfile.open(snakemake.output[\"data\"], 'w') as dest:\n",
    "    for data_tar in source_folder.glob(\"data/*.tar\"):\n",
    "        tar = tarfile.open(data_tar, 'r')\n",
    "        members = tar.getmembers()\n",
    "        for member in members:\n",
    "            if member.isdir():\n",
    "                continue\n",
    "            fileobj = tar.extractfile(member)\n",
    "            member.name = Path(member.name).name\n",
    "            dest.addfile(member, fileobj)\n",
    "        tar.close()"
   ]
  },
  {
   "cell_type": "code",
   "execution_count": 38,
   "id": "c0f8413b",
   "metadata": {},
   "outputs": [],
   "source": [
    "if snakemake.params[\"combine_features\"]:\n",
    "    features_file = Path(snakemake.output[\"data\"]).parent / \"features.tar.gz\"\n",
    "    \n",
    "    with tarfile.open(features_file, 'w:gz') as dest:\n",
    "        for data_tar in source_folder.glob(\"features/*.tar.gz\"):\n",
    "            tar = tarfile.open(data_tar, 'r:gz')\n",
    "            members = tar.getmembers()\n",
    "            for member in members:\n",
    "                if member.isdir():\n",
    "                    continue\n",
    "                fileobj = tar.extractfile(member)\n",
    "                member.name = re.search(re_numbers, data_tar.stem).group() + \"-\" + Path(member.name).name\n",
    "                dest.addfile(member, fileobj)\n",
    "            tar.close()"
   ]
  },
  {
   "cell_type": "code",
   "execution_count": 43,
   "id": "dceb971e",
   "metadata": {},
   "outputs": [],
   "source": [
    "pd.read_table?"
   ]
  },
  {
   "cell_type": "code",
   "execution_count": 70,
   "id": "c5b9c2a5",
   "metadata": {},
   "outputs": [],
   "source": [
    "param_dfs = []\n",
    "\n",
    "for f in source_folder.glob(\"parameters/*.tsv\"):\n",
    "    batch_id = re.search(re_numbers, f.stem).group()\n",
    "    df = pd.read_table(f, dtype={\"data_id\": str})\n",
    "    df = df.assign(data_id = pd.Series([str(batch_id) for _ in range(len(df))]).str.cat(df.data_id, sep='-'))\n",
    "    param_dfs.append(df)\n",
    "    \n",
    "params = pd.concat(param_dfs).reset_index(drop=True)"
   ]
  },
  {
   "cell_type": "code",
   "execution_count": 74,
   "id": "e5d2205d",
   "metadata": {},
   "outputs": [],
   "source": [
    "params.to_csv(snakemake.output[\"parameters\"], index=False, sep=\"\\t\")"
   ]
  },
  {
   "cell_type": "code",
   "execution_count": null,
   "id": "57d1541a",
   "metadata": {},
   "outputs": [],
   "source": []
  }
 ],
 "metadata": {
  "kernelspec": {
   "display_name": "Python 3 (ipykernel)",
   "language": "python",
   "name": "python3"
  },
  "language_info": {
   "codemirror_mode": {
    "name": "ipython",
    "version": 3
   },
   "file_extension": ".py",
   "mimetype": "text/x-python",
   "name": "python",
   "nbconvert_exporter": "python",
   "pygments_lexer": "ipython3",
   "version": "3.9.7"
  }
 },
 "nbformat": 4,
 "nbformat_minor": 5
}
