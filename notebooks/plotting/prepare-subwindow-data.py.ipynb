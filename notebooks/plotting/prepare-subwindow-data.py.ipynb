{
 "cells": [
  {
   "cell_type": "code",
   "execution_count": 11,
   "id": "9b60060e",
   "metadata": {},
   "outputs": [],
   "source": [
    "import pandas as pd\n",
    "from utils.prepare_data import save_data\n",
    "from utils.project_parameters import data_dimension, locus_size, smallest_window\n",
    "from utils.feature_calculation import get_windows"
   ]
  },
  {
   "cell_type": "code",
   "execution_count": 7,
   "id": "3637f3a5",
   "metadata": {},
   "outputs": [],
   "source": [
    "window_sizes, center_pos_dict = get_windows(\n",
    "    locus_size,\n",
    "    data_dimension,\n",
    "    start_pos=1,\n",
    "    smallest_window=smallest_window,\n",
    ")\n"
   ]
  },
  {
   "cell_type": "code",
   "execution_count": 9,
   "id": "63cc89f5",
   "metadata": {},
   "outputs": [],
   "source": [
    "records = []\n",
    "for ws, pos in center_pos_dict.items():\n",
    "    for x in zip([ws]*len(pos), pos):\n",
    "        records.append(x)\n",
    "window_df = pd.DataFrame.from_records(records, columns=['WindowSize', 'CenterPosition'])"
   ]
  },
  {
   "cell_type": "code",
   "execution_count": 12,
   "id": "7db149ef",
   "metadata": {},
   "outputs": [],
   "source": [
    "save_data(window_df, snakemake.output[0])"
   ]
  },
  {
   "cell_type": "code",
   "execution_count": null,
   "id": "0ff49820",
   "metadata": {},
   "outputs": [],
   "source": []
  }
 ],
 "metadata": {
  "kernelspec": {
   "display_name": "Python 3",
   "language": "python",
   "name": "python3"
  },
  "language_info": {
   "codemirror_mode": {
    "name": "ipython",
    "version": 3
   },
   "file_extension": ".py",
   "mimetype": "text/x-python",
   "name": "python",
   "nbconvert_exporter": "python",
   "pygments_lexer": "ipython3",
   "version": "3.9.5"
  }
 },
 "nbformat": 4,
 "nbformat_minor": 5
}
