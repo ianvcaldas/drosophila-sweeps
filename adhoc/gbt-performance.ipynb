{
 "cells": [
  {
   "cell_type": "code",
   "execution_count": 1,
   "id": "067705d4-0433-4115-8c36-b2dcf45009bc",
   "metadata": {},
   "outputs": [],
   "source": [
    "import pandas as pd"
   ]
  },
  {
   "cell_type": "code",
   "execution_count": 6,
   "id": "5029a9d0-2038-4670-bb06-97acfddbe954",
   "metadata": {},
   "outputs": [],
   "source": [
    "data = pd.read_table('../../projects_201905_sweeps/experiments/20210518_sample-size-205/output/evaluation/non-cnn/selstrength_ss205fixed-2181378-final_all_validation/sel(all)_sgv(all)_rnm(all)_freq(all)/split-data.csv')"
   ]
  },
  {
   "cell_type": "code",
   "execution_count": 16,
   "id": "0f9bdce5-5d4d-4e4b-9142-4b5136535e9c",
   "metadata": {},
   "outputs": [
    {
     "ename": "ImportError",
     "evalue": "attempted relative import with no known parent package",
     "output_type": "error",
     "traceback": [
      "\u001b[0;31m---------------------------------------------------------------------------\u001b[0m",
      "\u001b[0;31mImportError\u001b[0m                               Traceback (most recent call last)",
      "\u001b[0;32m<ipython-input-16-cd1cd7ae85b0>\u001b[0m in \u001b[0;36m<module>\u001b[0;34m\u001b[0m\n\u001b[0;32m----> 1\u001b[0;31m \u001b[0;32mfrom\u001b[0m \u001b[0;34m.\u001b[0m\u001b[0;34m.\u001b[0m\u001b[0mutils\u001b[0m\u001b[0;34m.\u001b[0m\u001b[0mprepare_data\u001b[0m \u001b[0;32mimport\u001b[0m \u001b[0madd_regime_kind_column\u001b[0m\u001b[0;34m\u001b[0m\u001b[0;34m\u001b[0m\u001b[0m\n\u001b[0m",
      "\u001b[0;31mImportError\u001b[0m: attempted relative import with no known parent package"
     ]
    }
   ],
   "source": [
    "from ..utils.prepare_data import add_regime_kind_column"
   ]
  },
  {
   "cell_type": "code",
   "execution_count": 19,
   "id": "056d59b0-cefe-4caa-aec4-a307f2320df4",
   "metadata": {},
   "outputs": [
    {
     "data": {
      "text/plain": [
       "multiple-origin    2015\n",
       "single-origin      1943\n",
       "Name: case, dtype: int64"
      ]
     },
     "execution_count": 19,
     "metadata": {},
     "output_type": "execute_result"
    }
   ],
   "source": [
    "data[\"case\"].value_counts()"
   ]
  },
  {
   "cell_type": "code",
   "execution_count": null,
   "id": "0ec616ce-b381-40b9-bdd0-a97cd439966d",
   "metadata": {},
   "outputs": [],
   "source": []
  }
 ],
 "metadata": {
  "kernelspec": {
   "display_name": "Python 3",
   "language": "python",
   "name": "python3"
  },
  "language_info": {
   "codemirror_mode": {
    "name": "ipython",
    "version": 3
   },
   "file_extension": ".py",
   "mimetype": "text/x-python",
   "name": "python",
   "nbconvert_exporter": "python",
   "pygments_lexer": "ipython3",
   "version": "3.9.5"
  }
 },
 "nbformat": 4,
 "nbformat_minor": 5
}
