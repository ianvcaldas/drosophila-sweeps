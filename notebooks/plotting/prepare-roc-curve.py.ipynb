{
 "cells": [
  {
   "cell_type": "code",
   "execution_count": 2,
   "id": "13898e08",
   "metadata": {},
   "outputs": [],
   "source": [
    "import pandas as pd\n",
    "from sklearn.metrics import roc_curve, roc_auc_score\n",
    "from utils.prepare_data import read_data, save_data"
   ]
  },
  {
   "cell_type": "code",
   "execution_count": 3,
   "id": "3a0ca396",
   "metadata": {},
   "outputs": [],
   "source": [
    "with open(snakemake.input[\"labels\"]) as f:\n",
    "    labels = {ix: lab.strip() for ix, lab in enumerate(f)}"
   ]
  },
  {
   "cell_type": "code",
   "execution_count": 4,
   "id": "e862fd07",
   "metadata": {},
   "outputs": [],
   "source": [
    "labels"
   ]
  },
  {
   "cell_type": "code",
   "execution_count": 5,
   "id": "118a5975",
   "metadata": {},
   "outputs": [],
   "source": [
    "data = read_data(snakemake.input[\"data\"])"
   ]
  },
  {
   "cell_type": "code",
   "execution_count": 6,
   "id": "619c4ff1",
   "metadata": {},
   "outputs": [],
   "source": [
    "data.head()"
   ]
  },
  {
   "cell_type": "code",
   "execution_count": 7,
   "id": "d7409e54",
   "metadata": {},
   "outputs": [],
   "source": [
    "def roc_curve_for_label(df, ix, label):\n",
    "    fpr, tpr, thresholds = roc_curve(\n",
    "        y_true = df.true_ix,\n",
    "        y_score = df[label],\n",
    "        pos_label = ix\n",
    "    )\n",
    "    result = pd.DataFrame({\n",
    "        'false_positive_rate': fpr,\n",
    "        'true_positive_rate': tpr,\n",
    "        'reference_ix': ix,\n",
    "        'reference_label': label\n",
    "    })\n",
    "    return result"
   ]
  },
  {
   "cell_type": "code",
   "execution_count": 8,
   "id": "a490ceec",
   "metadata": {},
   "outputs": [],
   "source": [
    "roc_df = pd.concat([roc_curve_for_label(data, ix, label) for ix, label in labels.items()])"
   ]
  },
  {
   "cell_type": "code",
   "execution_count": 9,
   "id": "79398324",
   "metadata": {
    "scrolled": true
   },
   "outputs": [],
   "source": [
    "save_data(roc_df, snakemake.output[\"curve\"])"
   ]
  },
  {
   "cell_type": "markdown",
   "id": "4349cdba",
   "metadata": {},
   "source": [
    "### Get AUCs as well"
   ]
  },
  {
   "cell_type": "code",
   "execution_count": 10,
   "id": "1cc2daf6",
   "metadata": {},
   "outputs": [],
   "source": [
    "auc_records = []\n",
    "\n",
    "for ix, label in labels.items():\n",
    "    record = (\n",
    "        label,\n",
    "        roc_auc_score(\n",
    "            y_true = data.true_ix.eq(ix).astype(int),\n",
    "            y_score = data[label]\n",
    "        )\n",
    "    )\n",
    "    auc_records.append(record)\n",
    "    \n",
    "auc_records.append((\n",
    "    'averaged',\n",
    "    roc_auc_score(\n",
    "        y_true = data.true_ix,\n",
    "        y_score = data[list(labels.values())],\n",
    "        average='macro',\n",
    "        multi_class='ovr'\n",
    "    )\n",
    "))"
   ]
  },
  {
   "cell_type": "code",
   "execution_count": 11,
   "id": "c79e5a6f",
   "metadata": {},
   "outputs": [],
   "source": [
    "auc = pd.DataFrame.from_records(auc_records, columns=['reference_label', 'auc'])"
   ]
  },
  {
   "cell_type": "code",
   "execution_count": 12,
   "id": "006d15ca",
   "metadata": {},
   "outputs": [],
   "source": [
    "save_data(auc, snakemake.output[\"auc\"])"
   ]
  },
  {
   "cell_type": "code",
   "execution_count": null,
   "id": "f2686180",
   "metadata": {},
   "outputs": [],
   "source": []
  }
 ],
 "metadata": {
  "kernelspec": {
   "display_name": "Python 3",
   "language": "python",
   "name": "python3"
  },
  "language_info": {
   "codemirror_mode": {
    "name": "ipython",
    "version": 3
   },
   "file_extension": ".py",
   "mimetype": "text/x-python",
   "name": "python",
   "nbconvert_exporter": "python",
   "pygments_lexer": "ipython3",
   "version": "3.9.5"
  }
 },
 "nbformat": 4,
 "nbformat_minor": 5
}
