{
 "cells": [
  {
   "cell_type": "code",
   "execution_count": 2,
   "id": "edd65aa1",
   "metadata": {
    "scrolled": true
   },
   "outputs": [],
   "source": [
    "source(\"utils/plot.R\")"
   ]
  },
  {
   "cell_type": "code",
   "execution_count": 3,
   "id": "1ef01ae6",
   "metadata": {},
   "outputs": [],
   "source": [
    "options(repr.plot.width=4, repr.plot.height=3, jupyter.plot_scale=1)"
   ]
  },
  {
   "cell_type": "code",
   "execution_count": 72,
   "id": "085a1984",
   "metadata": {},
   "outputs": [],
   "source": [
    "col_spec = cols(\n",
    "    swept_mutations=col_character(),\n",
    "    adaptive_mutation_rate=col_number(),\n",
    "    selection_region_size=col_number(),\n",
    "    swept_frequencies=col_character(),\n",
    "    actual_frequency_at_selection=col_number(),\n",
    "    num_starting_lineages=col_number(),\n",
    "    num_surviving_lineages=col_number(),\n",
    "    frequency_at_selection=col_number(),\n",
    "    num_restarts=col_number(),\n",
    "    actual_frequency_at_sampling=col_number(),\n",
    "    dominance_coefficient=col_number(),\n",
    "    frequency_at_sampling=col_number(),\n",
    "    selection_coefficient=col_number(),\n",
    "    selection_coordinate=col_number(),\n",
    "    selection_generation=col_number(),\n",
    "    log_selection_coefficient=col_number(),\n",
    "    selection_coordinate=col_number(),\n",
    "    selection_generation=col_number()\n",
    ")"
   ]
  },
  {
   "cell_type": "code",
   "execution_count": 171,
   "id": "fa9fdf3d",
   "metadata": {},
   "outputs": [],
   "source": [
    "dataset_factor <- function(v) {\n",
    "    result <- str_replace_all(v, c(\n",
    "                'popsize-higher'=\"Higher Ne\",\n",
    "                'popsize-lower'=\"Lower Ne\",\n",
    "                'recombination-higher'=\"Higher r\",\n",
    "                'recombination-lower'=\"Lower r\"\n",
    "    ))\n",
    "    result <- factor(result, levels=c(\n",
    "                \"Higher Ne\", \"Lower Ne\", \"Higher r\", \"Lower r\"\n",
    "    ))\n",
    "    return(result)\n",
    "}\n",
    "\n",
    "read_ne_rec_parameters <- function(filename) {\n",
    "    result <- read_tsv(filename, col_types=col_spec) %>%\n",
    "        mutate(filename=basename(filename)) %>%\n",
    "        separate(\"filename\", sep=\"_\", into=c(\"dataset\", NA))\n",
    "    return(result)\n",
    "}"
   ]
  },
  {
   "cell_type": "code",
   "execution_count": 172,
   "id": "ef64c975",
   "metadata": {},
   "outputs": [],
   "source": [
    "parameters <- bind_rows(lapply(snakemake@input$parameters, read_ne_rec_parameters)) %>%\n",
    "    filter(sweep_mode %in% c('hard', 'rnm (true)', 'sgv (true)')) %>%\n",
    "    select(uuid, dataset, recombination_rate, diploid_population_size)"
   ]
  },
  {
   "cell_type": "markdown",
   "id": "91b5b15b",
   "metadata": {},
   "source": [
    "### Selection strength regressions"
   ]
  },
  {
   "cell_type": "code",
   "execution_count": 193,
   "id": "7d322f86",
   "metadata": {},
   "outputs": [],
   "source": [
    "TRAINING_REC <- 1.619e-7"
   ]
  },
  {
   "cell_type": "code",
   "execution_count": 192,
   "id": "85f6ed80",
   "metadata": {},
   "outputs": [],
   "source": [
    "selstrength <- bind_rows(\n",
    "    lapply(\n",
    "        snakemake@input$selstrength,\n",
    "        read_tsv,\n",
    "        col_types=cols(true_log_selection_coefficient=col_number())\n",
    "    )\n",
    ") %>%\n",
    "    right_join(parameters, by='uuid') %>%\n",
    "    mutate(\n",
    "        dataset_label=dataset_factor(dataset),\n",
    "        predicted_log_sr = log10((10^predicted_log_selection_coefficient)/TRAINING_REC),\n",
    "        true_log_sr = log10((10^true_log_selection_coefficient)/recombination_rate)\n",
    "    )"
   ]
  },
  {
   "cell_type": "code",
   "execution_count": 246,
   "id": "c525f426",
   "metadata": {},
   "outputs": [],
   "source": [
    "selstrength_fig <- ggplot(selstrength) +\n",
    "    geom_point(aes(\n",
    "        x=true_log_selection_coefficient,\n",
    "        y=predicted_log_selection_coefficient,\n",
    "    ), colour='grey', size=0.5) +\n",
    "    geom_abline(linetype='dashed') +\n",
    "    facet_wrap(vars(dataset_label), nrow=1) +\n",
    "    scale_x_continuous(labels=function(x){10**x}) +\n",
    "    scale_y_continuous(labels=function(x){10**x}) +\n",
    "    labs(\n",
    "        x = \"True s\",\n",
    "        y = \"Predicted s\"\n",
    "    ) +\n",
    "    sweeps_theme"
   ]
  },
  {
   "cell_type": "code",
   "execution_count": 247,
   "id": "f232af9a",
   "metadata": {},
   "outputs": [],
   "source": [
    "selstrength_fig"
   ]
  },
  {
   "cell_type": "code",
   "execution_count": 248,
   "id": "5d0eb9b4",
   "metadata": {},
   "outputs": [],
   "source": [
    "sr_fig <- ggplot(selstrength) +\n",
    "    geom_point(aes(\n",
    "        x=true_log_sr,\n",
    "        y=predicted_log_sr,\n",
    "    ), colour='blue', size=0.5) +\n",
    "    geom_abline(linetype='dashed') +\n",
    "    facet_wrap(vars(dataset_label), nrow=1) +\n",
    "    labs(\n",
    "        x = \"True s/r\",\n",
    "        y = \"Predicted s/r\"\n",
    "    ) +\n",
    "    sweeps_theme +\n",
    "    theme(\n",
    "        strip.text=element_blank()\n",
    "    )"
   ]
  },
  {
   "cell_type": "code",
   "execution_count": 249,
   "id": "17038f45",
   "metadata": {},
   "outputs": [],
   "source": [
    "sr_fig"
   ]
  },
  {
   "cell_type": "markdown",
   "id": "eb408ead",
   "metadata": {},
   "source": [
    "### Sweep mode confusion matrices"
   ]
  },
  {
   "cell_type": "code",
   "execution_count": 250,
   "id": "4f352338",
   "metadata": {},
   "outputs": [],
   "source": [
    "sweepmode_raw <- bind_rows(\n",
    "    lapply(\n",
    "        snakemake@input$sweepmode,\n",
    "        read_tsv,\n",
    "        col_types=cols(true_ix=col_number())\n",
    "    )) %>%\n",
    "    select(uuid, true_labels, predicted_labels) %>%\n",
    "    right_join(parameters, by='uuid') %>%\n",
    "    select(dataset, true_labels, predicted_labels)"
   ]
  },
  {
   "cell_type": "code",
   "execution_count": 251,
   "id": "9bf737ea",
   "metadata": {},
   "outputs": [],
   "source": [
    "sweepmode_confmat <- sweepmode_raw %>%\n",
    "    table %>%\n",
    "    as_tibble %>%\n",
    "    mutate(\n",
    "        true_labels=sweepmode_factor_short(true_labels),\n",
    "        predicted_labels=sweepmode_factor_short(predicted_labels)\n",
    "    ) %>%\n",
    "    group_by(dataset, true_labels) %>%\n",
    "    mutate(\n",
    "        percent=n/sum(n),\n",
    "        percent_label=paste0(round(percent*100, 1), '%'),\n",
    "        dataset_label=dataset_factor(dataset)\n",
    "    )"
   ]
  },
  {
   "cell_type": "code",
   "execution_count": 252,
   "id": "aed50891",
   "metadata": {},
   "outputs": [],
   "source": [
    "confmat_fig <- ggplot(sweepmode_confmat) +\n",
    "    geom_tile(aes(x=true_labels, y=predicted_labels, fill=percent)) +\n",
    "    geom_text(aes(x=true_labels, y=predicted_labels, label=percent_label, colour=percent<0.5), size=2.5) +\n",
    "    facet_wrap(vars(dataset_label), nrow=1) +\n",
    "    scale_colour_manual(values=c('white', 'black')) +\n",
    "    scale_y_discrete(limits=rev) +\n",
    "    scale_fill_distiller(palette=3, direction=1) +\n",
    "    sweeps_theme +\n",
    "    labs(x='True', y='Predicted') +\n",
    "    theme(\n",
    "        legend.position='none',\n",
    "        panel.grid=element_blank(),\n",
    "        panel.spacing=unit(0.3, \"in\"),\n",
    "        strip.text=element_blank()\n",
    "    )"
   ]
  },
  {
   "cell_type": "code",
   "execution_count": 253,
   "id": "f0f52130",
   "metadata": {},
   "outputs": [],
   "source": [
    "confmat_fig"
   ]
  },
  {
   "cell_type": "markdown",
   "id": "3251685c",
   "metadata": {},
   "source": [
    "### Plot it all together"
   ]
  },
  {
   "cell_type": "code",
   "execution_count": 254,
   "id": "fec124f0",
   "metadata": {},
   "outputs": [],
   "source": [
    "all_fig <- plot_grid(\n",
    "    selstrength_fig,\n",
    "    sr_fig,\n",
    "    confmat_fig,\n",
    "    nrow=3,\n",
    "    labels=c('A', 'B', 'C'), axis='lr', align='l')"
   ]
  },
  {
   "cell_type": "code",
   "execution_count": 255,
   "id": "e4c63b79",
   "metadata": {},
   "outputs": [],
   "source": [
    "sweeps_save(snakemake@output$figure, all_fig, width=7, asp=1.15)"
   ]
  },
  {
   "cell_type": "markdown",
   "id": "656174f7",
   "metadata": {},
   "source": [
    "## Get metrics"
   ]
  },
  {
   "cell_type": "code",
   "execution_count": 259,
   "id": "216f3c36",
   "metadata": {},
   "outputs": [],
   "source": [
    "metrics <- selstrength %>%\n",
    "    group_by(dataset_label) %>%\n",
    "    summarize(\n",
    "        selstrength_rmse=rmse(true_log_selection_coefficient, predicted_log_selection_coefficient),\n",
    "        selstrength_mre=mean_relative_error(true_log_selection_coefficient, predicted_log_selection_coefficient)\n",
    "    )\n",
    "\n",
    "metrics_sweepmode <- sweepmode_raw %>%\n",
    "    mutate(dataset_label=dataset_factor(dataset)) %>%\n",
    "    group_by(dataset_label) %>%\n",
    "    summarize(\n",
    "        sweepmode_accuracy=accuracy(true_labels, predicted_labels)\n",
    "    )\n",
    "\n",
    "metrics <- inner_join(metrics, metrics_sweepmode, by=\"dataset_label\")"
   ]
  },
  {
   "cell_type": "code",
   "execution_count": 261,
   "id": "2b21f76a",
   "metadata": {},
   "outputs": [],
   "source": [
    "write_tsv(metrics, snakemake@output$metrics)"
   ]
  },
  {
   "cell_type": "code",
   "execution_count": null,
   "id": "5c247d5b",
   "metadata": {},
   "outputs": [],
   "source": []
  }
 ],
 "metadata": {
  "kernelspec": {
   "display_name": "R",
   "language": "R",
   "name": "ir"
  },
  "language_info": {
   "codemirror_mode": "r",
   "file_extension": ".r",
   "mimetype": "text/x-r-source",
   "name": "R",
   "pygments_lexer": "r",
   "version": "4.1.0"
  }
 },
 "nbformat": 4,
 "nbformat_minor": 5
}
