{
 "cells": [
  {
   "cell_type": "code",
   "execution_count": 9,
   "id": "ba504e20",
   "metadata": {},
   "outputs": [],
   "source": [
    "import tarfile\n",
    "from pathlib import Path\n",
    "from io import BytesIO\n",
    "\n",
    "import numpy as np"
   ]
  },
  {
   "cell_type": "code",
   "execution_count": 3,
   "id": "2730a1af",
   "metadata": {},
   "outputs": [],
   "source": [
    "sweeps = dict()"
   ]
  },
  {
   "cell_type": "markdown",
   "id": "8105f391",
   "metadata": {},
   "outputs": [],
   "source": [
    "Get all empirical control sweeps:"
   ]
  },
  {
   "cell_type": "code",
   "execution_count": 11,
   "id": "ef821cd8",
   "metadata": {},
   "outputs": [],
   "source": [
    "with tarfile.open(snakemake.input[\"empirical\"]) as tar:\n",
    "    members = tar.getmembers()\n",
    "    for member in members:\n",
    "        if member.isdir():\n",
    "            continue\n",
    "        array_file = BytesIO()\n",
    "        array_file.write(tar.extractfile(member).read())\n",
    "        array_file.seek(0)\n",
    "        sweeps[Path(member.name).stem] = np.load(array_file).transpose([2, 0, 1])"
   ]
  },
  {
   "cell_type": "markdown",
   "id": "6f7c114a",
   "metadata": {},
   "outputs": [],
   "source": [
    "Get the right "
   ]
  },
  {
   "cell_type": "code",
   "execution_count": 13,
   "id": "3c437c1e",
   "metadata": {},
   "outputs": [],
   "source": [
    "sweeps.keys()"
   ]
  },
  {
   "cell_type": "code",
   "execution_count": null,
   "id": "fcfa466c",
   "metadata": {},
   "outputs": [],
   "source": []
  }
 ],
 "metadata": {
  "kernelspec": {
   "display_name": "Python 3 (ipykernel)",
   "language": "python",
   "name": "python3"
  },
  "language_info": {
   "codemirror_mode": {
    "name": "ipython",
    "version": 3
   },
   "file_extension": ".py",
   "mimetype": "text/x-python",
   "name": "python",
   "nbconvert_exporter": "python",
   "pygments_lexer": "ipython3",
   "version": "3.9.7"
  }
 },
 "nbformat": 4,
 "nbformat_minor": 5
}
