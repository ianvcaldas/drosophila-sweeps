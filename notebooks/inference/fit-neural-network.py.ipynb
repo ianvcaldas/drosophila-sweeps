{
 "cells": [
  {
   "cell_type": "code",
   "execution_count": 4,
   "id": "fbef86f2",
   "metadata": {},
   "outputs": [],
   "source": [
    "import pandas as pd\n",
    "import fastai\n",
    "\n",
    "from utils.prepare_data import read_data, save_data, target_columns"
   ]
  },
  {
   "cell_type": "code",
   "execution_count": 5,
   "id": "020e13ae",
   "metadata": {},
   "outputs": [],
   "source": [
    "x = pd.DataFrame({'epoch': [1, 2, 3, 4], 'loss': [16, 8, 4, 2]})"
   ]
  },
  {
   "cell_type": "code",
   "execution_count": 7,
   "id": "e8e7cbff",
   "metadata": {},
   "outputs": [],
   "source": [
    "# Toy output files\n",
    "from pathlib import Path\n",
    "\n",
    "save_data(x, snakemake.output[\"fit_report\"])\n",
    "if snakemake.params[\"save_model\"]:\n",
    "    Path(snakemake.output[\"fit_model\"]).touch()\n",
    "if snakemake.params[\"save_inferences\"]:\n",
    "    Path(snakemake.output[\"training_inferences\"]).touch()\n",
    "    Path(snakemake.output[\"validation_inferences\"]).touch()"
   ]
  },
  {
   "cell_type": "code",
   "execution_count": null,
   "id": "8e1532ad",
   "metadata": {},
   "outputs": [],
   "source": []
  }
 ],
 "metadata": {
  "kernelspec": {
   "display_name": "Python 3 (ipykernel)",
   "language": "python",
   "name": "python3"
  },
  "language_info": {
   "codemirror_mode": {
    "name": "ipython",
    "version": 3
   },
   "file_extension": ".py",
   "mimetype": "text/x-python",
   "name": "python",
   "nbconvert_exporter": "python",
   "pygments_lexer": "ipython3",
   "version": "3.9.7"
  }
 },
 "nbformat": 4,
 "nbformat_minor": 5
}
