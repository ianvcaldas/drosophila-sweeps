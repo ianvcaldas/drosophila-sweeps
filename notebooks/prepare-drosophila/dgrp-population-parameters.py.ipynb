{
 "cells": [
  {
   "cell_type": "code",
   "execution_count": 2,
   "id": "5d7d4643",
   "metadata": {},
   "outputs": [],
   "source": [
    "lines = []\n",
    "lines.append(\"DGRP population parameters\")"
   ]
  },
  {
   "cell_type": "code",
   "execution_count": 3,
   "id": "9f9bb1b2",
   "metadata": {},
   "outputs": [],
   "source": [
    "lines.append(\"\")\n",
    "lines.append(\"Ungapped size of r5 assembly, source: https://www.ncbi.nlm.nih.gov/assembly/GCF_000001215.2/\")\n",
    "total_sites = 136_826_056\n",
    "lines.append(f\"Total sites: {total_sites}\")"
   ]
  },
  {
   "cell_type": "code",
   "execution_count": 4,
   "id": "a6c63ec3",
   "metadata": {},
   "outputs": [],
   "source": [
    "pi_values = []\n",
    "with open(snakemake.input[\"heterozygosity\"], 'r') as f:\n",
    "    _ = f.readline() # skip header\n",
    "    for line in f:\n",
    "        pi_values.append(float(line.strip().split()[-1]))"
   ]
  },
  {
   "cell_type": "code",
   "execution_count": 5,
   "id": "5a8d20d2",
   "metadata": {},
   "outputs": [],
   "source": [
    "seg_sites = len(pi_values)\n",
    "avg_pi_per_site = sum(pi_values)/total_sites\n",
    "S_per_site = seg_sites/total_sites\n",
    "\n",
    "lines.append(\"\")\n",
    "lines.append(\"In the imputed DGRP VCF:\")\n",
    "lines.append(f\"There are {seg_sites} segregating sites.\")\n",
    "lines.append(f\"Average pi per site is {avg_pi_per_site:.6f}.\")\n",
    "lines.append(f\"S per site is {S_per_site:.6f}.\")\n",
    "lines.append(\"For comparison, we can relate our parameters to Garud et al. (2015) (https://doi.org/10.1371/journal.pgen.1005004):\")\n",
    "lines.append('\"S and pi estimates in DGRP short intron data were measured to be 5.8% and 1.2% per bp, respectively.\"')"
   ]
  },
  {
   "cell_type": "code",
   "execution_count": 6,
   "id": "28054749",
   "metadata": {},
   "outputs": [],
   "source": [
    "mutation_rate = 1.39e-9\n",
    "recombination_rate = 1e-8\n",
    "mu_over_r = mutation_rate/recombination_rate\n",
    "lines.append(\"\")\n",
    "lines.append(\"The original population parameters taken from Arguello et al. (2019) (https://doi.org/10.1093/gbe/evz022):\")\n",
    "lines.append(f\"Mutation rate: {mutation_rate}\")\n",
    "lines.append(f\"Recombination rate: {recombination_rate}\")\n",
    "lines.append(f\"Mu over r: {mu_over_r:6f}\")"
   ]
  },
  {
   "cell_type": "code",
   "execution_count": 7,
   "id": "2fa221c4",
   "metadata": {},
   "outputs": [],
   "source": [
    "# empirical_pi =  0.0045\n",
    "empirical_pi =  avg_pi_per_site\n",
    "\n",
    "lines.append(\"\")\n",
    "lines.append(\"Empirical_pi is approximately 2*hap_population_size*mutation_rate in case of Wright-Fisher.\")\n",
    "hap_population_size = empirical_pi/(2*mutation_rate)\n",
    "lines.append(f'Estimated 2Ne: {hap_population_size:,.0f}')"
   ]
  },
  {
   "cell_type": "code",
   "execution_count": 8,
   "id": "73ed4a0a",
   "metadata": {},
   "outputs": [],
   "source": [
    "lines.append(\"\")\n",
    "desired_hap_Ne = 100_000\n",
    "lines.append(f'To rescale so 2Ne = {desired_hap_Ne:,.0f}:')\n",
    "new_mutation = empirical_pi/(2*desired_hap_Ne)\n",
    "new_recombination = new_mutation/mu_over_r\n",
    "lines.append(f'Rescaled mutation rate: {new_mutation:.4g}\\nRescaled recombination rate: {new_recombination:.4g}')"
   ]
  },
  {
   "cell_type": "code",
   "execution_count": 9,
   "id": "6e4e5251",
   "metadata": {},
   "outputs": [],
   "source": [
    "lines.append(\"\")\n",
    "lines.append(\n",
    "    \"The extent of a sweep signature is roughly d = 0.1 * (s/r). Since we have our rescaled recombination rate, to see which selection coefficient we need to simulate, we can solve for s = (rd)/0.1 for our minimum and maximum desired sweep signature.\"\n",
    ")"
   ]
  },
  {
   "cell_type": "code",
   "execution_count": 10,
   "id": "6c73795a",
   "metadata": {},
   "outputs": [],
   "source": [
    "min_signature = 1000    # 1 kb\n",
    "max_signature = 1000000 # 1 Mb\n",
    "min_s = (new_recombination*min_signature)/0.1\n",
    "max_s = (new_recombination*max_signature)/0.1\n",
    "\n",
    "lines.append(f'To see a sweep signature of {min_signature}bp, s={min_s:6f}.')\n",
    "lines.append(f'To see a sweep signature of {max_signature}bp, s={max_s:6f}.')"
   ]
  },
  {
   "cell_type": "code",
   "execution_count": 11,
   "id": "0ebda916",
   "metadata": {},
   "outputs": [],
   "source": [
    "with open(snakemake.output[0], 'w') as f:\n",
    "    f.write(\"\\n\".join(lines))"
   ]
  },
  {
   "cell_type": "code",
   "execution_count": null,
   "id": "62821d57",
   "metadata": {},
   "outputs": [],
   "source": []
  }
 ],
 "metadata": {
  "kernelspec": {
   "display_name": "Python 3",
   "language": "python",
   "name": "python3"
  },
  "language_info": {
   "codemirror_mode": {
    "name": "ipython",
    "version": 3
   },
   "file_extension": ".py",
   "mimetype": "text/x-python",
   "name": "python",
   "nbconvert_exporter": "python",
   "pygments_lexer": "ipython3",
   "version": "3.9.5"
  }
 },
 "nbformat": 4,
 "nbformat_minor": 5
}
