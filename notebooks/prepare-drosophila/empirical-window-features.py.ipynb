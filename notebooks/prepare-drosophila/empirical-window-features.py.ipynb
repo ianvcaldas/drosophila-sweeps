{
 "cells": [
  {
   "cell_type": "code",
   "execution_count": 2,
   "id": "f5ce5f16-4ebf-4104-ac71-54296aefbcea",
   "metadata": {},
   "outputs": [],
   "source": [
    "%%bash\n",
    "\n",
    "mkdir -p output/empirical-windows/ms\n",
    "mkdir -p output/empirical-windows/features\n",
    "mkdir -p output/empirical-windows/npy\n",
    "mkdir -p output/empirical-windows/npy-log-scale"
   ]
  },
  {
   "cell_type": "code",
   "execution_count": 3,
   "id": "4943be0f-b007-4877-b277-d82e63c58251",
   "metadata": {},
   "outputs": [],
   "source": [
    "from pathlib import Path"
   ]
  },
  {
   "cell_type": "code",
   "execution_count": 4,
   "id": "dcc0ec85-0b2c-491d-93ef-002611babce2",
   "metadata": {},
   "outputs": [],
   "source": [
    "NAME = snakemake.wildcards['window']\n",
    "NORM_STATS = snakemake.input['normalization_stats']\n",
    "\n",
    "genotype_file = snakemake.input['genotypes']\n",
    "ms_file = snakemake.output['ms']\n",
    "feature_file = snakemake.output['features']\n",
    "stats_file = snakemake.output['stats']"
   ]
  },
  {
   "cell_type": "markdown",
   "id": "a907e2a6-2a28-4baa-a187-104eacb23439",
   "metadata": {},
   "outputs": [],
   "source": [
    "### Convert to ms format"
   ]
  },
  {
   "cell_type": "code",
   "execution_count": 5,
   "id": "f7c55537-6190-48bc-ad6e-8af5041085ff",
   "metadata": {},
   "outputs": [],
   "source": [
    "from utils.conversion import vcftools_to_ms"
   ]
  },
  {
   "cell_type": "code",
   "execution_count": 6,
   "id": "e1869605-4275-4048-abc7-2f569784dfe6",
   "metadata": {},
   "outputs": [],
   "source": [
    "vcftools_to_ms(genotype_file, ms_file)"
   ]
  },
  {
   "cell_type": "markdown",
   "id": "9dd905f4-e719-4532-9888-ca991711630f",
   "metadata": {},
   "outputs": [],
   "source": [
    "### Calculate features"
   ]
  },
  {
   "cell_type": "code",
   "execution_count": 7,
   "id": "ec928934-db50-4aad-9e03-1f8c44d6d5ff",
   "metadata": {},
   "outputs": [],
   "source": [
    "from utils.feature_calculation import get_windows, calculate_features\n",
    "from utils.project_parameters import locus_size, data_dimension, default_summary_statistics, smallest_window"
   ]
  },
  {
   "cell_type": "code",
   "execution_count": 19,
   "id": "36fc52a1-e283-4834-82c6-d6f401260e7b",
   "metadata": {},
   "outputs": [],
   "source": [
    "start = int(NAME.split('_')[2])\n",
    "window_sizes, center_pos_dict = get_windows(locus_size, data_dimension, start_pos=start, smallest_window=smallest_window)"
   ]
  },
  {
   "cell_type": "code",
   "execution_count": 20,
   "id": "3513bb84-d2ae-4d0f-a2cf-89a0c9b4d96e",
   "metadata": {},
   "outputs": [],
   "source": [
    "calculate_features(\n",
    "    ms_file=ms_file,\n",
    "    summary_statistics=default_summary_statistics,\n",
    "    center_pos=center_pos_dict,\n",
    "    window_sizes=window_sizes,\n",
    "    output_file=feature_file,\n",
    "    output_stats=stats_file,\n",
    ")"
   ]
  },
  {
   "cell_type": "markdown",
   "id": "5baffc7e-3f39-4124-ad2a-b9c60c239bdc",
   "metadata": {},
   "outputs": [],
   "source": [
    "### Normalize features"
   ]
  },
  {
   "cell_type": "code",
   "execution_count": 10,
   "id": "751c3e79-6654-4059-a0db-cfcde698cab3",
   "metadata": {},
   "outputs": [],
   "source": [
    "import numpy as np\n",
    "\n",
    "from utils.project_parameters import summary_statistic_order\n",
    "from utils.feature_calculation import get_normalization_stats, normalize_features\n",
    "\n",
    "norm_stats_dict = get_normalization_stats(NORM_STATS, summary_statistic_order)\n",
    "normalized = normalize_features(feature_file, summary_statistic_order, norm_stats_dict,\n",
    "                                reshape=True, convert_to_uint8=True, log_scale=False)\n",
    "\n",
    "for data_id, normalized_array in normalized.items():\n",
    "    np.save(f\"{snakemake.params['outdir']}/{data_id}.npy\", normalized_array)\n",
    "    \n",
    "# Also do log-scale normalization\n",
    "normalized_log = normalize_features(feature_file, summary_statistic_order, norm_stats_dict,\n",
    "                            reshape=True, convert_to_uint8=True, log_scale=True)\n",
    "log_scale_outdir = Path(snakemake.params['outdir']).parent/'npy-log-scale'\n",
    "for data_id, normalized_array in normalized_log.items():\n",
    "    np.save(f\"{log_scale_outdir}/{data_id}.npy\", normalized_array)"
   ]
  },
  {
   "cell_type": "code",
   "execution_count": null,
   "id": "1224a544-a87c-40c9-a426-403acd6478b3",
   "metadata": {},
   "outputs": [],
   "source": []
  }
 ],
 "metadata": {
  "kernelspec": {
   "display_name": "Python 3 (ipykernel)",
   "language": "python",
   "name": "python3"
  },
  "language_info": {
   "codemirror_mode": {
    "name": "ipython",
    "version": 3
   },
   "file_extension": ".py",
   "mimetype": "text/x-python",
   "name": "python",
   "nbconvert_exporter": "python",
   "pygments_lexer": "ipython3",
   "version": "3.9.7"
  }
 },
 "nbformat": 4,
 "nbformat_minor": 5
}
