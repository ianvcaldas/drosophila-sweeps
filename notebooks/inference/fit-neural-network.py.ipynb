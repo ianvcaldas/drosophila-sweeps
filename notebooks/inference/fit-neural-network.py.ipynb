{
 "cells": [
  {
   "cell_type": "code",
   "execution_count": 3,
   "id": "fbef86f2",
   "metadata": {},
   "outputs": [],
   "source": [
    "from pathlib import Path\n",
    "\n",
    "import pandas as pd\n",
    "import fastai\n",
    "import fastai.learner\n",
    "import fastai.metrics\n",
    "import fastai.callback.schedule\n",
    "import fastai.callback.progress\n",
    "\n",
    "from utils.prepare_data import read_data, save_data, target_columns\n",
    "from utils.project_parameters import data_dimension, summary_statistic_order, epochs_of_training, neural_network_batch_size\n",
    "import utils.deeplearning"
   ]
  },
  {
   "cell_type": "code",
   "execution_count": 4,
   "id": "2111ecdf-2f70-4842-807e-075313782ad2",
   "metadata": {},
   "outputs": [],
   "source": [
    "target_col = target_columns[snakemake.wildcards[\"target\"]]"
   ]
  },
  {
   "cell_type": "code",
   "execution_count": 5,
   "id": "4c60deeb",
   "metadata": {
    "scrolled": true
   },
   "outputs": [],
   "source": [
    "datasets = {\n",
    "    \"training\": utils.deeplearning.SweepsDataset(\n",
    "        snakemake.input[\"data\"], read_data(snakemake.input[\"training\"]), target_col\n",
    "    ),\n",
    "    \"validation\": utils.deeplearning.SweepsDataset(\n",
    "        snakemake.input[\"data\"], read_data(snakemake.input[\"validation\"]), target_col, is_validation=True\n",
    "    )\n",
    "}\n",
    "loader = fastai.data.core.DataLoaders.from_dsets(datasets[\"training\"], datasets[\"validation\"], bs=neural_network_batch_size)"
   ]
  },
  {
   "cell_type": "code",
   "execution_count": 6,
   "id": "b2d64b95",
   "metadata": {},
   "outputs": [],
   "source": [
    "# Modify in the future when feature analysis is a thing\n",
    "# feature_subset = get_feature_subset(snakemake.wildcards[\"features\"])\n",
    "feature_subset = None\n",
    "if feature_subset is not None:\n",
    "    # num_channels = len(feature_subset) \n",
    "    pass\n",
    "else:\n",
    "    num_channels = len(summary_statistic_order)"
   ]
  },
  {
   "cell_type": "code",
   "execution_count": 7,
   "id": "62d3a289",
   "metadata": {},
   "outputs": [],
   "source": [
    "loss_functions = {\n",
    "    'classification': fastai.losses.CrossEntropyLossFlat(),\n",
    "    'regression': fastai.losses.MSELossFlat(),\n",
    "}\n",
    "\n",
    "metric_functions = {\n",
    "    'classification': fastai.metrics.accuracy,\n",
    "    'regression': fastai.metrics.rmse,\n",
    "}\n",
    "\n",
    "model_type, output_dim = datasets[\"training\"].get_task()\n",
    "metric = metric_functions[model_type]\n",
    "loss = loss_functions[model_type]"
   ]
  },
  {
   "cell_type": "code",
   "execution_count": 8,
   "id": "875b0532",
   "metadata": {},
   "outputs": [],
   "source": [
    "neural_network = utils.deeplearning.SimpleCNN2Layer(\n",
    "    input_dim=data_dimension, output_dim=output_dim, in_channels=num_channels\n",
    ")\n",
    "\n",
    "model = fastai.learner.Learner(loader, neural_network, loss_func=loss, metrics=metric)\n",
    "# This happens automatically:\n",
    "# model.add_cb(fastai.callback.progress.ProgressCallback())"
   ]
  },
  {
   "cell_type": "code",
   "execution_count": 9,
   "id": "a031fce9",
   "metadata": {},
   "outputs": [],
   "source": [
    "if snakemake.params[\"only_one_epoch\"]:\n",
    "    num_epochs = 1\n",
    "else:\n",
    "    num_epochs = epochs_of_training[snakemake.wildcards[\"target\"]]"
   ]
  },
  {
   "cell_type": "code",
   "execution_count": 10,
   "id": "43aa61af",
   "metadata": {
    "scrolled": true
   },
   "outputs": [],
   "source": [
    "model.fit_one_cycle(num_epochs)"
   ]
  },
  {
   "cell_type": "markdown",
   "id": "f59b39fc",
   "metadata": {},
   "source": [
    "### Save model fitting outcomes"
   ]
  },
  {
   "cell_type": "code",
   "execution_count": 11,
   "id": "84b54130",
   "metadata": {},
   "outputs": [],
   "source": [
    "def save_label(filename, loader):\n",
    "    label_raw = loader.train_ds.labels\n",
    "    if isinstance(label_raw, str):\n",
    "        labels = [label_raw]\n",
    "    elif isinstance(label_raw, list):\n",
    "        labels = label_raw\n",
    "    with open(filename, 'w') as f:\n",
    "        f.write(\"\\n\".join(label for label in labels))"
   ]
  },
  {
   "cell_type": "code",
   "execution_count": 12,
   "id": "29d0cfd6",
   "metadata": {},
   "outputs": [],
   "source": [
    "if snakemake.params[\"save_model\"]:\n",
    "    model.model_dir = str(Path(snakemake.output[\"fit_model\"]).parent)\n",
    "    model.save(str(Path(snakemake.output[\"fit_model\"]).stem))\n",
    "    model.export(fname=str(Path(snakemake.output[\"model_object\"])))\n",
    "    save_label(snakemake.output[\"model_labels\"], loader)"
   ]
  },
  {
   "cell_type": "code",
   "execution_count": 13,
   "id": "a1d69f49",
   "metadata": {},
   "outputs": [],
   "source": [
    "fit_report = (\n",
    "    pd.DataFrame.from_records(\n",
    "        model.recorder.values, columns=model.recorder.metric_names[1:-1]\n",
    "    )\n",
    "    .assign(epoch=range(1, model.recorder.n_epoch + 1))\n",
    "    .set_index('epoch', drop=True)\n",
    ")\n",
    "fit_report.to_csv(snakemake.output[\"fit_report\"], sep='\\t', index=True)"
   ]
  },
  {
   "cell_type": "code",
   "execution_count": 14,
   "id": "d8ee811b",
   "metadata": {},
   "outputs": [],
   "source": [
    "if snakemake.params[\"save_inferences\"]:\n",
    "    train_inferences = utils.deeplearning.get_training_inferences(model, loader, \"training\")\n",
    "    train_inferences.to_csv(snakemake.output[\"training_inferences\"], sep='\\t', index=True)\n",
    "    valid_inferences = utils.deeplearning.get_training_inferences(model, loader, \"validation\")\n",
    "    valid_inferences.to_csv(snakemake.output[\"validation_inferences\"], sep='\\t', index=True)"
   ]
  },
  {
   "cell_type": "code",
   "execution_count": null,
   "id": "a1717042",
   "metadata": {},
   "outputs": [],
   "source": []
  }
 ],
 "metadata": {
  "kernelspec": {
   "display_name": "Python 3",
   "language": "python",
   "name": "python3"
  },
  "language_info": {
   "codemirror_mode": {
    "name": "ipython",
    "version": 3
   },
   "file_extension": ".py",
   "mimetype": "text/x-python",
   "name": "python",
   "nbconvert_exporter": "python",
   "pygments_lexer": "ipython3",
   "version": "3.9.5"
  }
 },
 "nbformat": 4,
 "nbformat_minor": 5
}
