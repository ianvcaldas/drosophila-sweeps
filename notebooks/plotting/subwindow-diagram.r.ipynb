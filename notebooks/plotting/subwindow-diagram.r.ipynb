{
 "cells": [
  {
   "cell_type": "code",
   "execution_count": 2,
   "id": "d5222a90",
   "metadata": {
    "scrolled": true
   },
   "outputs": [],
   "source": [
    "source(\"utils/plot.R\")"
   ]
  },
  {
   "cell_type": "code",
   "execution_count": 3,
   "id": "b3707cdb",
   "metadata": {},
   "outputs": [],
   "source": [
    "data <- read_tsv(snakemake@input[[1]], col_types=cols()) %>%\n",
    "    mutate(yDodge=rep(rep(c(1, -1), length.out=21), 21),\n",
    "           WindowNumber=as.numeric(factor(WindowSize)),\n",
    "           yInPlot=WindowNumber*1.5 + yDodge*0.25,\n",
    "          ) %>%\n",
    "    group_by(WindowSize) %>%\n",
    "    mutate(Covering=(max(CenterPosition) + WindowSize/2) - (min(CenterPosition) - WindowSize/2))"
   ]
  },
  {
   "cell_type": "code",
   "execution_count": 4,
   "id": "33727ee1",
   "metadata": {},
   "outputs": [],
   "source": [
    "windows_wanted <- quantile(seq(1, 21), probs=c(0, 0.25, 0.5, 0.75, 1.0))\n",
    "\n",
    "my_window_sizes <- data %>%\n",
    "    select(WindowSize, Covering, WindowNumber, yInPlot) %>%\n",
    "    distinct() %>%\n",
    "    filter(WindowNumber %in% windows_wanted) %>%\n",
    "    group_by(WindowSize, Covering, WindowNumber) %>%\n",
    "    summarize(Break=mean(yInPlot)) %>%\n",
    "    mutate(\n",
    "        CoveringLabel=recode(Covering,\n",
    "                            `11000`='11kb',\n",
    "                            `33968`='34kb',\n",
    "                            `104885`='105kb',\n",
    "                            `323851`='324kb',\n",
    "                            `999999`='1Mb'),\n",
    "    )"
   ]
  },
  {
   "cell_type": "code",
   "execution_count": 5,
   "id": "d998788f",
   "metadata": {},
   "outputs": [],
   "source": [
    "my_window_sizes"
   ]
  },
  {
   "cell_type": "code",
   "execution_count": 6,
   "id": "143b68c3",
   "metadata": {},
   "outputs": [],
   "source": [
    "make_kb_label <- function(br) {\n",
    "    paste0(br, 'kb')\n",
    "}"
   ]
  },
  {
   "cell_type": "code",
   "execution_count": 7,
   "id": "56540b95",
   "metadata": {},
   "outputs": [],
   "source": [
    "chosen_ws_to_annotate <- 131406\n",
    "\n",
    "df <- data %>%\n",
    "    mutate(\n",
    "        ToAddText = Covering == chosen_ws_to_annotate\n",
    "    )\n",
    "\n",
    "annotpos_df <- df %>%\n",
    "    filter(Covering == chosen_ws_to_annotate) %>%\n",
    "    slice_max(CenterPosition)\n",
    "annotation_position <- annotpos_df[['CenterPosition']] + annotpos_df[['WindowSize']]\n",
    "\n",
    "annotation <- tibble(\n",
    "    x = annotation_position,\n",
    "    y = annotpos_df[['yInPlot']],\n",
    "    label = paste0(\n",
    "        \"Subwindows of size \", round(annotpos_df[['WindowSize']]/1000), \"kb,\\ncovering \", round(annotpos_df[['Covering']]/1000), \"kb\"\n",
    "    )\n",
    ")"
   ]
  },
  {
   "cell_type": "code",
   "execution_count": 8,
   "id": "26485e40",
   "metadata": {},
   "outputs": [],
   "source": [
    "fig <- ggplot(df) +\n",
    "    geom_vline(xintercept=0, colour='darkred') +\n",
    "    geom_tile(aes(x=CenterPosition/1000 - 500,\n",
    "                  y=yInPlot,\n",
    "                  width=WindowSize/1000,\n",
    "                  height=0.5,\n",
    "                  fill=ToAddText),\n",
    "              colour='black') +\n",
    "    geom_text(data=annotation, aes(x=x/1000 - 500, y=y, label=label),\n",
    "             hjust=0, nudge_y=-0.5, nudge_x=15, colour='darkred', size=2.5, family=\"Roboto Condensed\") +\n",
    "    scale_y_continuous(breaks=my_window_sizes$Break, labels=my_window_sizes$CoveringLabel) +\n",
    "    scale_x_continuous(labels=make_kb_label) +\n",
    "    scale_fill_manual(values=c('lightgrey', 'darkred')) +\n",
    "    labs(\n",
    "        x = 'Relative sweep position',\n",
    "        y = 'Total subwindow coverage'\n",
    "    ) +\n",
    "    sweeps_theme +\n",
    "    theme(\n",
    "        panel.grid.minor = element_blank(),\n",
    "        legend.position = 'none'\n",
    "    )"
   ]
  },
  {
   "cell_type": "code",
   "execution_count": 15,
   "id": "75bcb007",
   "metadata": {},
   "outputs": [],
   "source": [
    "sweeps_save(snakemake@output[[1]], fig, asp=1.618)"
   ]
  },
  {
   "cell_type": "code",
   "execution_count": null,
   "id": "1887e467",
   "metadata": {},
   "outputs": [],
   "source": []
  }
 ],
 "metadata": {
  "kernelspec": {
   "display_name": "R",
   "language": "R",
   "name": "ir"
  },
  "language_info": {
   "codemirror_mode": "r",
   "file_extension": ".r",
   "mimetype": "text/x-r-source",
   "name": "R",
   "pygments_lexer": "r",
   "version": "4.1.0"
  }
 },
 "nbformat": 4,
 "nbformat_minor": 5
}
