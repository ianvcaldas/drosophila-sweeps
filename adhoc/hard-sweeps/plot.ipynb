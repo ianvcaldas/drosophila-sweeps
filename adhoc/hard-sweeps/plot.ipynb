{
 "cells": [
  {
   "cell_type": "code",
   "execution_count": 1,
   "id": "6708719d-c9ef-4e71-ad1d-9eb0cec66946",
   "metadata": {},
   "outputs": [
    {
     "name": "stderr",
     "output_type": "stream",
     "text": [
      "── \u001b[1mAttaching packages\u001b[22m ─────────────────────────────────────────────────────────────────────────────────────────────────── tidyverse 1.3.1 ──\n",
      "\n",
      "\u001b[32m✔\u001b[39m \u001b[34mggplot2\u001b[39m 3.3.3     \u001b[32m✔\u001b[39m \u001b[34mpurrr  \u001b[39m 0.3.4\n",
      "\u001b[32m✔\u001b[39m \u001b[34mtibble \u001b[39m 3.1.2     \u001b[32m✔\u001b[39m \u001b[34mdplyr  \u001b[39m 1.0.6\n",
      "\u001b[32m✔\u001b[39m \u001b[34mtidyr  \u001b[39m 1.1.3     \u001b[32m✔\u001b[39m \u001b[34mstringr\u001b[39m 1.4.0\n",
      "\u001b[32m✔\u001b[39m \u001b[34mreadr  \u001b[39m 1.4.0     \u001b[32m✔\u001b[39m \u001b[34mforcats\u001b[39m 0.5.1\n",
      "\n",
      "── \u001b[1mConflicts\u001b[22m ────────────────────────────────────────────────────────────────────────────────────────────────────── tidyverse_conflicts() ──\n",
      "\u001b[31m✖\u001b[39m \u001b[34mdplyr\u001b[39m::\u001b[32mfilter()\u001b[39m masks \u001b[34mstats\u001b[39m::filter()\n",
      "\u001b[31m✖\u001b[39m \u001b[34mdplyr\u001b[39m::\u001b[32mlag()\u001b[39m    masks \u001b[34mstats\u001b[39m::lag()\n",
      "\n",
      "Registering fonts with R\n",
      "\n"
     ]
    }
   ],
   "source": [
    "source(\"../../utils/plot.R\")"
   ]
  },
  {
   "cell_type": "code",
   "execution_count": 2,
   "id": "0bb5d5af-1917-4e28-a8bb-b793df84e093",
   "metadata": {},
   "outputs": [],
   "source": [
    "library(ggrepel)"
   ]
  },
  {
   "cell_type": "code",
   "execution_count": 3,
   "id": "9546a4ce-6282-4db6-a482-16a06062889b",
   "metadata": {},
   "outputs": [],
   "source": [
    "data <- read_delim(\"sweep-timings.tsv\", delim=\" \", col_names=c(\"s\", \"time\"), col_types=cols())"
   ]
  },
  {
   "cell_type": "code",
   "execution_count": 4,
   "id": "47a64cd9-ed38-4e06-9dda-85adf2b31aa9",
   "metadata": {},
   "outputs": [],
   "source": [
    "metrics <- data %>%\n",
    "    group_by(s) %>%\n",
    "    summarize(\n",
    "        mean_time=mean(time),\n",
    "        median_time=median(time)\n",
    "    )"
   ]
  },
  {
   "cell_type": "code",
   "execution_count": 7,
   "id": "f6fd1e4b-c053-4730-a819-8b5b120a05b7",
   "metadata": {},
   "outputs": [
    {
     "data": {
      "text/html": [
       "3"
      ],
      "text/latex": [
       "3"
      ],
      "text/markdown": [
       "3"
      ],
      "text/plain": [
       "[1] 3"
      ]
     },
     "metadata": {},
     "output_type": "display_data"
    }
   ],
   "source": [
    "nrow(metrics)"
   ]
  },
  {
   "cell_type": "code",
   "execution_count": 10,
   "id": "f5e05f54-0eac-45ff-a6aa-332aa0b2294a",
   "metadata": {},
   "outputs": [],
   "source": [
    "fig <- ggplot(data) +\n",
    "    geom_density(aes(x=time, colour=as.factor(s), fill=as.factor(s))) +\n",
    "    geom_vline(data=metrics, aes(xintercept=median_time), linetype='dashed') +\n",
    "    geom_text_repel(\n",
    "        data=mutate(metrics, y=0.15 + runif(nrow(metrics), -0.05, 0.05)),\n",
    "        aes(x=median_time, y=y, label=paste0('t=', median_time)),\n",
    "        fontface='italic',\n",
    "        hjust=1,\n",
    "        min.segment.length=0,\n",
    "        arrow=arrow(length = unit(0.02, \"npc\")),\n",
    "        nudge_x=5\n",
    "    ) +\n",
    "    scale_x_continuous(n.breaks=10) +\n",
    "    labs(\n",
    "        title='Time to sweep fixation',\n",
    "        subtitle='Median times are indicated',\n",
    "        x='Generations',\n",
    "        y='Distribution'\n",
    "    ) +\n",
    "    sweeps_colour +\n",
    "    sweeps_fill +\n",
    "    guides(colour=guide_legend(title='Sel. coeff.'), fill=guide_legend(title='Sel. coeff.')) +\n",
    "    sweeps_theme +\n",
    "    theme(\n",
    "        legend.position='top',\n",
    "        axis.text.y=element_blank()\n",
    "    )"
   ]
  },
  {
   "cell_type": "code",
   "execution_count": 11,
   "id": "e57209e8-3ef4-43d9-b215-1a8f992907b0",
   "metadata": {},
   "outputs": [],
   "source": [
    "sweeps_save(\"sweep-timing-distributions.pdf\", fig)"
   ]
  },
  {
   "cell_type": "code",
   "execution_count": null,
   "id": "68a18b9c-0c36-426d-8d00-9e08a6890f79",
   "metadata": {},
   "outputs": [],
   "source": []
  }
 ],
 "metadata": {
  "kernelspec": {
   "display_name": "R",
   "language": "R",
   "name": "ir"
  },
  "language_info": {
   "codemirror_mode": "r",
   "file_extension": ".r",
   "mimetype": "text/x-r-source",
   "name": "R",
   "pygments_lexer": "r",
   "version": "4.1.0"
  }
 },
 "nbformat": 4,
 "nbformat_minor": 5
}
