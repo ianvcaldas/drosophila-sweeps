{
 "cells": [
  {
   "cell_type": "code",
   "execution_count": 15,
   "id": "90548c09",
   "metadata": {},
   "outputs": [],
   "source": [
    "from pathlib import Path\n",
    "from random import sample\n",
    "import tarfile\n",
    "from io import TextIOWrapper\n",
    "from collections import Counter\n",
    "\n",
    "import tqdm.notebook\n",
    "import numpy as np\n",
    "import pandas as pd"
   ]
  },
  {
   "cell_type": "code",
   "execution_count": 3,
   "id": "7676928a",
   "metadata": {},
   "outputs": [],
   "source": [
    "from utils.conversion import ms_to_numpy\n",
    "from utils.prepare_data import save_data"
   ]
  },
  {
   "cell_type": "code",
   "execution_count": 12,
   "id": "acccd4b3",
   "metadata": {},
   "outputs": [],
   "source": [
    "neutral_sim_folder = next(Path(snakemake.config[\"additional_sim_folder\"]).glob('*neutral*'))\n",
    "genotypes_files = list(neutral_sim_folder.glob('genotypes/*.tar.gz'))\n",
    "num_ms_files = 0\n",
    "for ms_file in genotypes_files:\n",
    "    with tarfile.open(ms_file) as f:    \n",
    "        num_ms_files += len([member for member in f.getmembers() if not member.isdir()])"
   ]
  },
  {
   "cell_type": "code",
   "execution_count": 11,
   "id": "b13a0a43",
   "metadata": {
    "scrolled": false
   },
   "outputs": [],
   "source": [
    "sfs = Counter()\n",
    "for file in tqdm.notebook.tqdm(genotypes_files):\n",
    "    with tarfile.open(file) as f:    \n",
    "        members = f.getmembers()\n",
    "        for member in members:\n",
    "            if member.isdir():\n",
    "                continue\n",
    "            fileobj = TextIOWrapper(f.extractfile(member))\n",
    "            positions, genotypes = ms_to_numpy(fileobj)\n",
    "            sfs.update(genotypes.sum(axis=1))"
   ]
  },
  {
   "cell_type": "code",
   "execution_count": 16,
   "id": "9ac9057d",
   "metadata": {},
   "outputs": [],
   "source": [
    "keys, values = zip(*sfs.items())\n",
    "# We divide the counts by the number of ms files; each file is 1Mb, so we're getting the number of sites per megabase\n",
    "sfs_df = pd.DataFrame({'num_alternate': keys, 'num_sites': np.array(values)/num_ms_files}).sort_values(by='num_alternate')"
   ]
  },
  {
   "cell_type": "code",
   "execution_count": 17,
   "id": "b042bd2b",
   "metadata": {},
   "outputs": [],
   "source": [
    "sfs_df"
   ]
  },
  {
   "cell_type": "code",
   "execution_count": 18,
   "id": "d42ede86",
   "metadata": {},
   "outputs": [],
   "source": [
    "save_data(sfs_df, snakemake.output[0])"
   ]
  },
  {
   "cell_type": "code",
   "execution_count": null,
   "id": "73adc8a4",
   "metadata": {},
   "outputs": [],
   "source": []
  }
 ],
 "metadata": {
  "kernelspec": {
   "display_name": "Python 3 (ipykernel)",
   "language": "python",
   "name": "python3"
  },
  "language_info": {
   "codemirror_mode": {
    "name": "ipython",
    "version": 3
   },
   "file_extension": ".py",
   "mimetype": "text/x-python",
   "name": "python",
   "nbconvert_exporter": "python",
   "pygments_lexer": "ipython3",
   "version": "3.9.7"
  }
 },
 "nbformat": 4,
 "nbformat_minor": 5
}
