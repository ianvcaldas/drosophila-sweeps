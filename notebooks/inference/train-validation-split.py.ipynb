{
 "cells": [
  {
   "cell_type": "code",
   "execution_count": 2,
   "id": "8b5cb85b",
   "metadata": {},
   "outputs": [],
   "source": [
    "from sklearn.model_selection import train_test_split\n",
    "\n",
    "from utils.prepare_data import read_data, save_data, target_columns"
   ]
  },
  {
   "cell_type": "code",
   "execution_count": 3,
   "id": "f274b997",
   "metadata": {},
   "outputs": [],
   "source": [
    "raw = read_data(snakemake.input[\"sim_params\"])"
   ]
  },
  {
   "cell_type": "markdown",
   "id": "49fc3e5b",
   "metadata": {},
   "outputs": [],
   "source": [
    "1. Remove failed simulations.\n",
    "2. Remove neutral simulations.\n",
    "3. Downsample so each of the remaining selection regimes has exactly 5000 cases. (For now, we crash if there's a case with less than that.)"
   ]
  },
  {
   "cell_type": "code",
   "execution_count": 4,
   "id": "9dcdc6b6",
   "metadata": {},
   "outputs": [],
   "source": [
    "df = raw.loc[(raw.simulation_status == 'ok') & (raw.regime != 'neutral')]\n",
    "\n",
    "NUM_SIMS = 5000\n",
    "\n",
    "if not all(df.regime.value_counts() > NUM_SIMS):\n",
    "    raise Exception(f\"One or more selection regimes did not have {NUM_SIMS} simulations:\\n{df.regime.value_counts()}\")\n",
    "    \n",
    "df = df.groupby('regime').sample(n=NUM_SIMS)"
   ]
  },
  {
   "cell_type": "code",
   "execution_count": 5,
   "id": "cc267313",
   "metadata": {
    "scrolled": true
   },
   "outputs": [],
   "source": [
    "df.regime.value_counts()"
   ]
  },
  {
   "cell_type": "code",
   "execution_count": 6,
   "id": "31521281",
   "metadata": {},
   "outputs": [],
   "source": [
    "try:\n",
    "    seed = snakemake.params[\"random_seed\"]\n",
    "except AttributeError: # No random seed given\n",
    "    seed = None"
   ]
  },
  {
   "cell_type": "code",
   "execution_count": 7,
   "id": "9d27ac56",
   "metadata": {},
   "outputs": [],
   "source": [
    "train, valid = train_test_split(\n",
    "    df,\n",
    "    test_size=snakemake.config[\"validation_percentage\"],\n",
    "    random_state=seed,\n",
    "    shuffle=True,\n",
    "    stratify=df.regime\n",
    ")"
   ]
  },
  {
   "cell_type": "code",
   "execution_count": 8,
   "id": "accf27fb",
   "metadata": {},
   "outputs": [],
   "source": [
    "save_data(train, snakemake.output[\"training\"])\n",
    "save_data(valid, snakemake.output[\"validation\"])"
   ]
  }
 ],
 "metadata": {
  "kernelspec": {
   "display_name": "Python 3 (ipykernel)",
   "language": "python",
   "name": "python3"
  },
  "language_info": {
   "codemirror_mode": {
    "name": "ipython",
    "version": 3
   },
   "file_extension": ".py",
   "mimetype": "text/x-python",
   "name": "python",
   "nbconvert_exporter": "python",
   "pygments_lexer": "ipython3",
   "version": "3.9.7"
  }
 },
 "nbformat": 4,
 "nbformat_minor": 5
}
