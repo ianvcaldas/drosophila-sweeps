{
 "cells": [
  {
   "cell_type": "code",
   "execution_count": 2,
   "id": "e968b530-942f-4b47-b35f-93ee3d1b331f",
   "metadata": {},
   "outputs": [],
   "source": [
    "%%bash\n",
    "\n",
    "mkdir -p output/empirical-windows/commands"
   ]
  },
  {
   "cell_type": "code",
   "execution_count": 3,
   "id": "7d7f6fda-3df3-45bf-989c-c02f851d86e0",
   "metadata": {},
   "outputs": [],
   "source": [
    "from pathlib import Path\n",
    "\n",
    "import pandas as pd\n",
    "\n",
    "from utils.project_parameters import locus_size"
   ]
  },
  {
   "cell_type": "markdown",
   "id": "e5448381-e452-49da-9f4d-73c801d9a9b1",
   "metadata": {},
   "source": [
    "## Plan what windows to take"
   ]
  },
  {
   "cell_type": "markdown",
   "id": "44b33e32-6212-4f15-92b7-9e014b574b1d",
   "metadata": {},
   "source": [
    "### Parameters"
   ]
  },
  {
   "cell_type": "code",
   "execution_count": 4,
   "id": "7d64e658-c009-4c39-9ed4-1917596addcf",
   "metadata": {},
   "outputs": [],
   "source": [
    "# source of chrom sizes is Release 5 of the _D. melanogaster_ genome from\n",
    "# https://www.ncbi.nlm.nih.gov/assembly/GCF_000001215.2/\n",
    "# We ignore 4, the tiny chromosome, and X because it's sexual\n",
    "\n",
    "chrom_sizes = {\n",
    "    '2L': 23011544,\n",
    "    '2R': 21146708,\n",
    "    '3L': 24543557,\n",
    "    '3R': 27905053,\n",
    "    # '4': 1351857,\n",
    "    # 'X': 22422827,\n",
    "}\n",
    "\n",
    "# Known sweeps\n",
    "\n",
    "known_pos = {\n",
    "    'ace': 9069408,\n",
    "    'chkov': 21150000,\n",
    "    'cyp': 8072884,\n",
    "}\n",
    "\n",
    "known_sweep_chroms = {\n",
    "    'ace': '3R',\n",
    "    'chkov': '3R',\n",
    "    'cyp': '2R',\n",
    "}"
   ]
  },
  {
   "cell_type": "markdown",
   "id": "73effd72-8e16-43e3-9160-47dc534d2984",
   "metadata": {},
   "source": [
    "Start a DataFrame with the known sweep loci:"
   ]
  },
  {
   "cell_type": "code",
   "execution_count": 5,
   "id": "0e83577d-c036-4836-97d7-46d2ccfe4fe1",
   "metadata": {},
   "outputs": [],
   "source": [
    "records = []\n",
    "\n",
    "for locus, coord in known_pos.items():\n",
    "    start = int(coord - locus_size//2)\n",
    "    end = int(coord + locus_size//2)\n",
    "    chrom = known_sweep_chroms[locus]\n",
    "    assert end < chrom_sizes[chrom]\n",
    "    name = f\"sweep-{locus}_{chrom}_{start}_{end}\"\n",
    "    records.append((name, locus, chrom, start, end, coord))\n",
    "    \n",
    "sweeps_df = pd.DataFrame.from_records(records,\n",
    "                              columns=['identifier', 'locus', 'chrom', 'start', 'end', 'center'])"
   ]
  },
  {
   "cell_type": "code",
   "execution_count": 6,
   "id": "bc5c2894-125a-41d2-b01b-1c5767acee64",
   "metadata": {},
   "outputs": [],
   "source": [
    "sweeps_df"
   ]
  },
  {
   "cell_type": "markdown",
   "id": "815ec190",
   "metadata": {},
   "source": [
    "### Add random genomewide windows"
   ]
  },
  {
   "cell_type": "code",
   "execution_count": 7,
   "id": "b5680b5f",
   "metadata": {},
   "outputs": [],
   "source": [
    "new_windows = []\n",
    "\n",
    "windows_overlaps = locus_size//5\n",
    "\n",
    "for chrom, size in chrom_sizes.items():\n",
    "    start = 1\n",
    "    end = start + locus_size\n",
    "    while end < size:\n",
    "        name = f\"genomewide_{chrom}_{start}_{end}\"\n",
    "        new_windows.append([name, chrom, start, end, (start + end)//2])\n",
    "        start = start + windows_overlaps\n",
    "        end = start + locus_size\n",
    "        \n",
    "genomewide_df = pd.DataFrame.from_records(new_windows, columns=['identifier', 'chrom', 'start', 'end', 'center'])"
   ]
  },
  {
   "cell_type": "code",
   "execution_count": 8,
   "id": "9e64c6b3",
   "metadata": {},
   "outputs": [],
   "source": [
    "genomewide_df"
   ]
  },
  {
   "cell_type": "code",
   "execution_count": 9,
   "id": "1f210bd4",
   "metadata": {},
   "outputs": [],
   "source": [
    "df = pd.concat([\n",
    "    sweeps_df,\n",
    "    genomewide_df\n",
    "])"
   ]
  },
  {
   "cell_type": "markdown",
   "id": "8e029e11-2e1a-4776-8db2-68074c802b45",
   "metadata": {},
   "source": [
    "### Prepare commands"
   ]
  },
  {
   "cell_type": "code",
   "execution_count": 10,
   "id": "d521a3c9-6ba6-4d44-943c-665f6e6f53a9",
   "metadata": {},
   "outputs": [],
   "source": [
    "template = (\n",
    "\"vcftools \"\n",
    "\"--gzvcf output/dgrp2/imputed.vcf.gz \"\n",
    "\"--chr CHROM \"\n",
    "\"--from-bp START \"\n",
    "\"--to-bp END \"\n",
    "\"--mac 1 \"\n",
    "\"--012 ACE? \"\n",
    "\"--out \\\"output/empirical-windows/genotypes/NAME\\\" \"\n",
    "\"2>/dev/null\"\n",
    ")"
   ]
  },
  {
   "cell_type": "code",
   "execution_count": 11,
   "id": "c5ecc42f-f5d8-41e0-b16c-d83cb4c176ce",
   "metadata": {},
   "outputs": [],
   "source": [
    "def get_command(template, name, chrom, start, end, ace=False, locus=None):\n",
    "    if ace:\n",
    "        ace_repl = \"--exclude-positions output/resistant-lines/ace-genotype.012.pos\"\n",
    "    else:\n",
    "        ace_repl = \"\"\n",
    "    return (\n",
    "        template\n",
    "        .replace('NAME', name)\n",
    "        .replace('CHROM', chrom)\n",
    "        .replace('START', str(start))\n",
    "        .replace('END', str(end))\n",
    "        .replace('ACE?', ace_repl)\n",
    "        )"
   ]
  },
  {
   "cell_type": "code",
   "execution_count": 12,
   "id": "789e3fb0-4114-4066-acc2-9a7fac7a9a3c",
   "metadata": {},
   "outputs": [],
   "source": [
    "for ix, row in df.iterrows():\n",
    "    with open(Path(snakemake.output[0])/f\"{row.identifier}.command\", \"w\") as f:\n",
    "        f.write(get_command(\n",
    "            template, row.identifier, row.chrom, row.start, row.end, ace=row.chrom=='3R', locus=row.locus\n",
    "        ))"
   ]
  },
  {
   "cell_type": "code",
   "execution_count": null,
   "id": "f84e0721",
   "metadata": {},
   "outputs": [],
   "source": []
  }
 ],
 "metadata": {
  "kernelspec": {
   "display_name": "Python 3",
   "language": "python",
   "name": "python3"
  },
  "language_info": {
   "codemirror_mode": {
    "name": "ipython",
    "version": 3
   },
   "file_extension": ".py",
   "mimetype": "text/x-python",
   "name": "python",
   "nbconvert_exporter": "python",
   "pygments_lexer": "ipython3",
   "version": "3.9.5"
  }
 },
 "nbformat": 4,
 "nbformat_minor": 5
}
