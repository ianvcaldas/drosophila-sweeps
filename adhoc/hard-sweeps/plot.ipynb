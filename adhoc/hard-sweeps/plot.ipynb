{
 "cells": [
  {
   "cell_type": "code",
   "execution_count": 22,
   "id": "6708719d-c9ef-4e71-ad1d-9eb0cec66946",
   "metadata": {},
   "outputs": [],
   "source": [
    "source(\"../../utils/plot.R\")"
   ]
  },
  {
   "cell_type": "code",
   "execution_count": 30,
   "id": "0bb5d5af-1917-4e28-a8bb-b793df84e093",
   "metadata": {},
   "outputs": [],
   "source": [
    "library(ggrepel)"
   ]
  },
  {
   "cell_type": "code",
   "execution_count": 23,
   "id": "9546a4ce-6282-4db6-a482-16a06062889b",
   "metadata": {},
   "outputs": [],
   "source": [
    "data <- read_delim(\"sweep-timings.tsv\", delim=\" \", col_names=c(\"s\", \"time\"), col_types=cols())"
   ]
  },
  {
   "cell_type": "code",
   "execution_count": 24,
   "id": "47a64cd9-ed38-4e06-9dda-85adf2b31aa9",
   "metadata": {},
   "outputs": [],
   "source": [
    "metrics <- data %>%\n",
    "    group_by(s) %>%\n",
    "    summarize(\n",
    "        mean_time=mean(time),\n",
    "        median_time=median(time)\n",
    "    )"
   ]
  },
  {
   "cell_type": "code",
   "execution_count": 25,
   "id": "f6fd1e4b-c053-4730-a819-8b5b120a05b7",
   "metadata": {},
   "outputs": [
    {
     "data": {
      "text/html": [
       "<table class=\"dataframe\">\n",
       "<caption>A tibble: 4 × 3</caption>\n",
       "<thead>\n",
       "\t<tr><th scope=col>s</th><th scope=col>mean_time</th><th scope=col>median_time</th></tr>\n",
       "\t<tr><th scope=col>&lt;dbl&gt;</th><th scope=col>&lt;dbl&gt;</th><th scope=col>&lt;dbl&gt;</th></tr>\n",
       "</thead>\n",
       "<tbody>\n",
       "\t<tr><td> 0.5</td><td>110.78361</td><td>109</td></tr>\n",
       "\t<tr><td> 1.0</td><td> 68.23934</td><td> 68</td></tr>\n",
       "\t<tr><td> 5.0</td><td> 31.90820</td><td> 31</td></tr>\n",
       "\t<tr><td>10.0</td><td> 26.60000</td><td> 26</td></tr>\n",
       "</tbody>\n",
       "</table>\n"
      ],
      "text/latex": [
       "A tibble: 4 × 3\n",
       "\\begin{tabular}{lll}\n",
       " s & mean\\_time & median\\_time\\\\\n",
       " <dbl> & <dbl> & <dbl>\\\\\n",
       "\\hline\n",
       "\t  0.5 & 110.78361 & 109\\\\\n",
       "\t  1.0 &  68.23934 &  68\\\\\n",
       "\t  5.0 &  31.90820 &  31\\\\\n",
       "\t 10.0 &  26.60000 &  26\\\\\n",
       "\\end{tabular}\n"
      ],
      "text/markdown": [
       "\n",
       "A tibble: 4 × 3\n",
       "\n",
       "| s &lt;dbl&gt; | mean_time &lt;dbl&gt; | median_time &lt;dbl&gt; |\n",
       "|---|---|---|\n",
       "|  0.5 | 110.78361 | 109 |\n",
       "|  1.0 |  68.23934 |  68 |\n",
       "|  5.0 |  31.90820 |  31 |\n",
       "| 10.0 |  26.60000 |  26 |\n",
       "\n"
      ],
      "text/plain": [
       "  s    mean_time median_time\n",
       "1  0.5 110.78361 109        \n",
       "2  1.0  68.23934  68        \n",
       "3  5.0  31.90820  31        \n",
       "4 10.0  26.60000  26        "
      ]
     },
     "metadata": {},
     "output_type": "display_data"
    }
   ],
   "source": [
    "metrics"
   ]
  },
  {
   "cell_type": "code",
   "execution_count": 112,
   "id": "f5e05f54-0eac-45ff-a6aa-332aa0b2294a",
   "metadata": {},
   "outputs": [],
   "source": [
    "fig <- ggplot(data) +\n",
    "    geom_density(aes(x=time, colour=as.factor(s), fill=as.factor(s))) +\n",
    "    geom_vline(data=metrics, aes(xintercept=median_time), linetype='dashed') +\n",
    "    geom_text_repel(\n",
    "        data=mutate(metrics, y=0.15 + runif(4, -0.05, 0.05)),\n",
    "        aes(x=median_time, y=y, label=paste0('t=', median_time)),\n",
    "        fontface='italic',\n",
    "        hjust=1,\n",
    "        min.segment.length=0,\n",
    "        arrow=arrow(length = unit(0.02, \"npc\")),\n",
    "        nudge_x=20\n",
    "    ) +\n",
    "    scale_x_continuous(n.breaks=10) +\n",
    "    labs(\n",
    "        title='Time to sweep fixation',\n",
    "        subtitle='Median times are indicated',\n",
    "        x='Generations',\n",
    "        y='Distribution'\n",
    "    ) +\n",
    "    sweeps_colour +\n",
    "    sweeps_fill +\n",
    "    guides(colour=guide_legend(title='Sel. coeff.'), fill=guide_legend(title='Sel. coeff.')) +\n",
    "    sweeps_theme +\n",
    "    theme(\n",
    "        legend.position='top',\n",
    "        axis.text.y=element_blank()\n",
    "    )"
   ]
  },
  {
   "cell_type": "code",
   "execution_count": 113,
   "id": "e57209e8-3ef4-43d9-b215-1a8f992907b0",
   "metadata": {},
   "outputs": [],
   "source": [
    "sweeps_save(\"sweep-timing-distributions.pdf\", fig)"
   ]
  },
  {
   "cell_type": "code",
   "execution_count": null,
   "id": "68a18b9c-0c36-426d-8d00-9e08a6890f79",
   "metadata": {},
   "outputs": [],
   "source": []
  }
 ],
 "metadata": {
  "kernelspec": {
   "display_name": "R",
   "language": "R",
   "name": "ir"
  },
  "language_info": {
   "codemirror_mode": "r",
   "file_extension": ".r",
   "mimetype": "text/x-r-source",
   "name": "R",
   "pygments_lexer": "r",
   "version": "4.1.0"
  }
 },
 "nbformat": 4,
 "nbformat_minor": 5
}
