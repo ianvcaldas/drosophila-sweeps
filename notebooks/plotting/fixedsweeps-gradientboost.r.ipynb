{
 "cells": [
  {
   "cell_type": "code",
   "execution_count": 2,
   "id": "edd65aa1",
   "metadata": {
    "scrolled": true
   },
   "outputs": [],
   "source": [
    "source(\"utils/plot.R\")"
   ]
  },
  {
   "cell_type": "code",
   "execution_count": 3,
   "id": "1ef01ae6",
   "metadata": {},
   "outputs": [],
   "source": [
    "options(repr.plot.width=4, repr.plot.height=3, jupyter.plot_scale=1)"
   ]
  },
  {
   "cell_type": "code",
   "execution_count": 4,
   "id": "463313b7",
   "metadata": {},
   "outputs": [],
   "source": [
    "params <- read_tsv(snakemake@input$parameters, col_types=cols()) %>% select(uuid, sweep_mode)"
   ]
  },
  {
   "cell_type": "markdown",
   "id": "91b5b15b",
   "metadata": {},
   "source": [
    "### Selection strength regressions"
   ]
  },
  {
   "cell_type": "code",
   "execution_count": 5,
   "id": "54f1e29d",
   "metadata": {},
   "outputs": [],
   "source": [
    "selstrength <- read_tsv(snakemake@input$selstrength, col_types=cols()) %>%\n",
    "    inner_join(params, on=\"uuid\") %>%\n",
    "    mutate(sweep_mode=sweepmode_factor(sweep_mode))"
   ]
  },
  {
   "cell_type": "code",
   "execution_count": 6,
   "id": "c525f426",
   "metadata": {},
   "outputs": [],
   "source": [
    "selstrength_fig <- ggplot(selstrength) +\n",
    "    geom_point(aes(x=true_log_selection_coefficient, y=predicted_log_selection_coefficient, colour=sweep_mode), size=0.5) +\n",
    "    geom_abline(linetype='dashed') +\n",
    "    facet_wrap(vars(sweep_mode)) +\n",
    "    scale_x_continuous(labels=function(x){10**x}) +\n",
    "    scale_y_continuous(labels=function(x){round(10**x, 2)}) +\n",
    "    labs(\n",
    "        x = \"True s\",\n",
    "        y = \"Predicted s\"\n",
    "    ) +\n",
    "    sweeps_colour +\n",
    "    sweeps_theme +\n",
    "    theme(\n",
    "        legend.position=\"none\"\n",
    "    )"
   ]
  },
  {
   "cell_type": "code",
   "execution_count": 7,
   "id": "f232af9a",
   "metadata": {},
   "outputs": [],
   "source": [
    "selstrength_fig"
   ]
  },
  {
   "cell_type": "markdown",
   "id": "eb408ead",
   "metadata": {},
   "source": [
    "### Sweep mode confusion matrices"
   ]
  },
  {
   "cell_type": "code",
   "execution_count": 8,
   "id": "9bf737ea",
   "metadata": {},
   "outputs": [],
   "source": [
    "sweepmode_raw <- read_tsv(snakemake@input$sweepmode, col_types=cols()) %>%\n",
    "    select(true_label, predicted_label)  \n",
    "\n",
    "\n",
    "sweepmode_confmat <- sweepmode_raw %>%\n",
    "    table %>%\n",
    "    as_tibble %>%\n",
    "    mutate(\n",
    "        true_label=sweepmode_factor_short(true_label),\n",
    "        predicted_label=sweepmode_factor_short(predicted_label)\n",
    "    ) %>%\n",
    "    group_by(true_label) %>%\n",
    "    mutate(\n",
    "        percent=n/sum(n),\n",
    "        percent_label=paste0(round(percent*100, 1), '%')\n",
    "    )"
   ]
  },
  {
   "cell_type": "code",
   "execution_count": 9,
   "id": "aed50891",
   "metadata": {},
   "outputs": [],
   "source": [
    "confmat_fig <- ggplot(sweepmode_confmat) +\n",
    "    geom_tile(aes(x=true_label, y=predicted_label, fill=percent)) +\n",
    "    geom_text(aes(x=true_label, y=predicted_label, label=percent_label, colour=percent<0.5)) +\n",
    "    scale_colour_manual(values=c('white', 'black')) +\n",
    "    scale_y_discrete(limits=rev) +\n",
    "    scale_fill_distiller(palette=3, direction=1) +\n",
    "    sweeps_theme +\n",
    "    labs(x='True', y='Predicted') +\n",
    "    theme(\n",
    "        legend.position='none',\n",
    "        panel.grid=element_blank(),\n",
    "        panel.spacing=unit(0.3, \"in\")\n",
    "    )"
   ]
  },
  {
   "cell_type": "code",
   "execution_count": 10,
   "id": "f0f52130",
   "metadata": {},
   "outputs": [],
   "source": [
    "confmat_fig"
   ]
  },
  {
   "cell_type": "markdown",
   "id": "3251685c",
   "metadata": {},
   "source": [
    "### Plot it all together"
   ]
  },
  {
   "cell_type": "code",
   "execution_count": 11,
   "id": "fec124f0",
   "metadata": {},
   "outputs": [],
   "source": [
    "all_fig <- plot_grid(\n",
    "    selstrength_fig,\n",
    "    plot_grid(confmat_fig, NULL),\n",
    "    ncol=1,\n",
    "    labels=c('A', 'B'))"
   ]
  },
  {
   "cell_type": "code",
   "execution_count": 12,
   "id": "5912df2f",
   "metadata": {},
   "outputs": [],
   "source": [
    "all_fig"
   ]
  },
  {
   "cell_type": "code",
   "execution_count": 13,
   "id": "e4c63b79",
   "metadata": {},
   "outputs": [],
   "source": [
    "sweeps_save(snakemake@output$figure, all_fig, width=5, asp=1)"
   ]
  },
  {
   "cell_type": "markdown",
   "id": "71ddd6c5",
   "metadata": {},
   "source": [
    "### Get metrics"
   ]
  },
  {
   "cell_type": "code",
   "execution_count": 14,
   "id": "b9709c67",
   "metadata": {},
   "outputs": [],
   "source": [
    "metrics_sel_by_sm <- selstrength %>%\n",
    "    group_by(sweep_mode) %>%\n",
    "    summarize(\n",
    "        selstrength_rmse=rmse(true_log_selection_coefficient, predicted_log_selection_coefficient),\n",
    "        selstrength_mre=mean_relative_error(true_log_selection_coefficient, predicted_log_selection_coefficient)\n",
    "    ) %>%\n",
    "    pivot_longer(!sweep_mode, names_to='metric', values_to='value')\n",
    "\n",
    "metrics_sweepmode <- tibble(\n",
    "    sweep_mode='All',\n",
    "    metric='accuracy',\n",
    "    value=accuracy(sweepmode_raw$true_label, sweepmode_raw$predicted_label)\n",
    ")\n",
    "\n",
    "metrics_all_sel <- tibble(\n",
    "    sweep_mode=c('All', 'All'),\n",
    "    metric=c('selstrength_rsme', 'selstrength_mre'),\n",
    "    value=c(\n",
    "        rmse(selstrength$true_log_selection_coefficient, selstrength$predicted_log_selection_coefficient),\n",
    "        mean_relative_error(selstrength$true_log_selection_coefficient, selstrength$predicted_log_selection_coefficient)\n",
    "    )\n",
    ")\n",
    "\n",
    "metrics <- bind_rows(metrics_sel_by_sm, metrics_all_sel, metrics_sweepmode)"
   ]
  },
  {
   "cell_type": "code",
   "execution_count": 15,
   "id": "d5d6a8f2",
   "metadata": {},
   "outputs": [],
   "source": [
    "write_tsv(metrics, snakemake@output$metrics)"
   ]
  },
  {
   "cell_type": "code",
   "execution_count": null,
   "id": "dd9b8870",
   "metadata": {},
   "outputs": [],
   "source": []
  }
 ],
 "metadata": {
  "kernelspec": {
   "display_name": "R",
   "language": "R",
   "name": "ir"
  },
  "language_info": {
   "codemirror_mode": "r",
   "file_extension": ".r",
   "mimetype": "text/x-r-source",
   "name": "R",
   "pygments_lexer": "r",
   "version": "4.1.0"
  }
 },
 "nbformat": 4,
 "nbformat_minor": 5
}
