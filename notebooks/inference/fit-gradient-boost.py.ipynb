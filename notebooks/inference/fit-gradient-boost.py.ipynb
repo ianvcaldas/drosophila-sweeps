{
 "cells": [
  {
   "cell_type": "code",
   "execution_count": 43,
   "id": "fbef86f2",
   "metadata": {},
   "outputs": [],
   "source": [
    "from pathlib import Path\n",
    "\n",
    "import pandas as pd\n",
    "from sklearn.ensemble import GradientBoostingClassifier, GradientBoostingRegressor\n",
    "\n",
    "from utils.prepare_data import target_columns, read_data\n",
    "from utils.project_parameters import gradient_boosting_params\n",
    "from utils.deeplearning import SweepsDataset"
   ]
  },
  {
   "cell_type": "code",
   "execution_count": 3,
   "id": "2111ecdf-2f70-4842-807e-075313782ad2",
   "metadata": {},
   "outputs": [],
   "source": [
    "target_col = target_columns[snakemake.wildcards[\"target\"]]\n",
    "feature_subset = None"
   ]
  },
  {
   "cell_type": "code",
   "execution_count": 26,
   "id": "4c60deeb",
   "metadata": {
    "scrolled": true
   },
   "outputs": [],
   "source": [
    "datasets = {\n",
    "    \"training\": {\n",
    "        \"loader\": SweepsDataset(\n",
    "            snakemake.input[\"data\"],\n",
    "            read_data(snakemake.input[\"training\"]),\n",
    "            target_col,\n",
    "            feature_subset=feature_subset\n",
    "        ),\n",
    "    },\n",
    "    \"validation\":  {\n",
    "        \"loader\": SweepsDataset(\n",
    "            snakemake.input[\"data\"],\n",
    "            read_data(snakemake.input[\"validation\"]),\n",
    "            target_col,\n",
    "            is_validation=True,\n",
    "            feature_subset=feature_subset\n",
    "        ),\n",
    "    },\n",
    "}"
   ]
  },
  {
   "cell_type": "code",
   "execution_count": 64,
   "id": "b286b19d",
   "metadata": {},
   "outputs": [],
   "source": [
    "for name, contents in datasets.items():\n",
    "    dataset = contents[\"loader\"]\n",
    "    contents[\"X\"] = pd.DataFrame.from_records(\n",
    "        (tens.flatten().numpy() for tens in dataset.data.values()),\n",
    "        index=dataset.data.keys()\n",
    "    )\n",
    "    contents[\"y\"] = dataset.df[dataset.target_column].set_axis(dataset.df.uuid)"
   ]
  },
  {
   "cell_type": "code",
   "execution_count": 65,
   "id": "1138524b",
   "metadata": {},
   "outputs": [],
   "source": [
    "gradient_boosting_params.update({\"n_estimators\": int(snakemake.config[\"num_gradient_boosting_estimators\"])})"
   ]
  },
  {
   "cell_type": "code",
   "execution_count": 66,
   "id": "cae54a2e",
   "metadata": {},
   "outputs": [],
   "source": [
    "task, _ = datasets[\"training\"][\"loader\"].get_task()\n",
    "\n",
    "if task == \"classification\":\n",
    "    model = GradientBoostingClassifier()\n",
    "elif task == \"regression\":\n",
    "    model = GradientBoostingRegressor()\n",
    "    \n",
    "model.set_params(**gradient_boosting_params)"
   ]
  },
  {
   "cell_type": "code",
   "execution_count": 69,
   "id": "5f695a29",
   "metadata": {},
   "outputs": [],
   "source": [
    "model.fit(datasets[\"training\"][\"X\"], datasets[\"training\"][\"y\"])"
   ]
  },
  {
   "cell_type": "markdown",
   "id": "f59b39fc",
   "metadata": {},
   "source": [
    "### Save model fitting outcomes"
   ]
  },
  {
   "cell_type": "code",
   "execution_count": 115,
   "id": "da634eeb",
   "metadata": {},
   "outputs": [],
   "source": [
    "def get_training_inferences(model, datasets):\n",
    "    task, _ = datasets[\"training\"][\"loader\"].get_task()\n",
    "    inferences = dict()\n",
    "    for kind in [\"training\", \"validation\"]:\n",
    "        dataset = datasets[kind]\n",
    "        if task == \"classification\":\n",
    "            labels = model.classes_.tolist()\n",
    "            true_label = dataset[\"y\"]\n",
    "            true_ix = [labels.index(lab) for lab in true_label]\n",
    "            predicted_probas = model.predict_proba(dataset[\"X\"])\n",
    "            predicted_label = model.predict(dataset[\"X\"])\n",
    "            predicted_ix = [labels.index(lab) for lab in predicted_label]\n",
    "            result = (\n",
    "                pd.DataFrame(predicted_probas, columns=labels)\n",
    "                .assign(\n",
    "                    uuid=dataset[\"loader\"].df.uuid,\n",
    "                    true_ix=true_ix,\n",
    "                    predicted_ix=predicted_ix,\n",
    "                    true_label=true_label.values,\n",
    "                    predicted_label=predicted_label,\n",
    "                )\n",
    "                .set_index(\"uuid\")\n",
    "            )\n",
    "        elif task == \"regression\":\n",
    "            label = dataset[\"loader\"].labels\n",
    "            result = (\n",
    "                pd.DataFrame(\n",
    "                    model.predict(dataset[\"X\"]), columns=[\"predicted_\" + label]\n",
    "                )\n",
    "                .assign(\n",
    "                    uuid=dataset[\"loader\"].df.uuid,\n",
    "                    true=dataset[\"y\"].values\n",
    "                )\n",
    "                .set_index(\"uuid\")\n",
    "                .rename({\"true\": \"true_\" + label}, axis=\"columns\")\n",
    "            )\n",
    "        inferences[kind] = result\n",
    "    return inferences"
   ]
  },
  {
   "cell_type": "code",
   "execution_count": 116,
   "id": "d8ee811b",
   "metadata": {},
   "outputs": [],
   "source": [
    "inferences = get_training_inferences(model, datasets)\n",
    "inferences[\"training\"].to_csv(snakemake.output[\"training_inferences\"], sep='\\t', index=True)\n",
    "inferences[\"validation\"].to_csv(snakemake.output[\"validation_inferences\"], sep='\\t', index=True)"
   ]
  },
  {
   "cell_type": "code",
   "execution_count": null,
   "id": "d29266c5",
   "metadata": {},
   "outputs": [],
   "source": []
  }
 ],
 "metadata": {
  "kernelspec": {
   "display_name": "Python 3",
   "language": "python",
   "name": "python3"
  },
  "language_info": {
   "codemirror_mode": {
    "name": "ipython",
    "version": 3
   },
   "file_extension": ".py",
   "mimetype": "text/x-python",
   "name": "python",
   "nbconvert_exporter": "python",
   "pygments_lexer": "ipython3",
   "version": "3.9.5"
  }
 },
 "nbformat": 4,
 "nbformat_minor": 5
}
