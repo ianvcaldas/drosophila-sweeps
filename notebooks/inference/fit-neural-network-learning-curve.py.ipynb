{
 "cells": [
  {
   "cell_type": "code",
   "execution_count": 2,
   "id": "5ab8824b",
   "metadata": {},
   "outputs": [],
   "source": [
    "from pathlib import Path\n",
    "\n",
    "import pandas as pd\n",
    "import fastai\n",
    "import fastai.learner\n",
    "import fastai.metrics\n",
    "import fastai.callback.schedule\n",
    "import fastai.callback.progress\n",
    "\n",
    "from utils.prepare_data import read_data, save_data, target_columns, balancing_functions\n",
    "from utils.project_parameters import data_dimension, summary_statistic_order, neural_network_batch_size\n",
    "import utils.deeplearning"
   ]
  },
  {
   "cell_type": "code",
   "execution_count": 3,
   "id": "be41da51",
   "metadata": {},
   "outputs": [],
   "source": [
    "class SubsetSweepsDataset(utils.deeplearning.SweepsDataset):\n",
    "    def __init__(self, prop_subset, balancing_func, data_tar, df, target_column, is_validation=False, feature_subset=None):\n",
    "        smaller_df = self.subset_df(df, prop_subset, balancing_func)\n",
    "        super().__init__(data_tar, smaller_df, target_column, is_validation=is_validation, feature_subset=feature_subset)\n",
    "        \n",
    "    def subset_df(self, df, proportion, balancing_func):\n",
    "        \"\"\"Subsets dataset to right proportion\"\"\"\n",
    "        result = df.sample(frac=proportion)\n",
    "        if balancing_func is not None:\n",
    "            result = balancing_func(result, seed=None)\n",
    "        return result"
   ]
  },
  {
   "cell_type": "code",
   "execution_count": 4,
   "id": "cab520d0",
   "metadata": {},
   "outputs": [],
   "source": [
    "target_col = target_columns[snakemake.wildcards[\"target\"]]\n",
    "feature_subset = None\n",
    "num_channels = len(summary_statistic_order)\n",
    "balance = balancing_functions[snakemake.wildcards[\"target\"]]"
   ]
  },
  {
   "cell_type": "code",
   "execution_count": 10,
   "id": "485ad359",
   "metadata": {},
   "outputs": [],
   "source": [
    "validation_dset = utils.deeplearning.SweepsDataset(\n",
    "    snakemake.input[\"data\"], read_data(snakemake.input[\"validation\"]),\n",
    "    target_col, is_validation=True, feature_subset=feature_subset\n",
    ")"
   ]
  },
  {
   "cell_type": "code",
   "execution_count": 11,
   "id": "08695bf1",
   "metadata": {},
   "outputs": [],
   "source": [
    "sample_proportions = [0.1, 0.2, 0.3, 0.4, 0.5, 0.6, 0.7, 0.8, 0.9, 1.0]\n",
    "dataset_sizes = dict()\n",
    "for prop in sample_proportions:\n",
    "    train_ds = SubsetSweepsDataset(\n",
    "        prop, balance, snakemake.input[\"data\"], read_data(snakemake.input[\"training\"]),\n",
    "        target_col, feature_subset=feature_subset\n",
    "    )\n",
    "\n",
    "    loader = fastai.data.core.DataLoaders.from_dsets(\n",
    "        train_ds, validation_dset, bs=neural_network_batch_size\n",
    "    )\n",
    "    \n",
    "    dataset_sizes[prop] = loader"
   ]
  },
  {
   "cell_type": "code",
   "execution_count": 17,
   "id": "ef41ab94",
   "metadata": {},
   "outputs": [],
   "source": [
    "loss_functions = {\n",
    "    'classification': fastai.losses.CrossEntropyLossFlat(),\n",
    "    'regression': fastai.losses.MSELossFlat(),\n",
    "}\n",
    "\n",
    "metric_functions = {\n",
    "    'classification': fastai.metrics.accuracy,\n",
    "    'regression': fastai.metrics.rmse,\n",
    "}\n",
    "\n",
    "model_type, output_dim = validation_dset.get_task()\n",
    "metric = metric_functions[model_type]\n",
    "loss = loss_functions[model_type]\n",
    "num_epochs = int(snakemake.params[\"epochs\"])"
   ]
  },
  {
   "cell_type": "code",
   "execution_count": 20,
   "id": "65cf7487",
   "metadata": {},
   "outputs": [],
   "source": [
    "fit_reports = []"
   ]
  },
  {
   "cell_type": "code",
   "execution_count": 21,
   "id": "5b4611b4",
   "metadata": {},
   "outputs": [],
   "source": [
    "for prop, loader in dataset_sizes.items():\n",
    "    neural_network = utils.deeplearning.SimpleCNN2Layer(\n",
    "        input_dim=data_dimension, output_dim=output_dim, in_channels=num_channels\n",
    "    )\n",
    "    model = fastai.learner.Learner(loader, neural_network, loss_func=loss, metrics=metric)\n",
    "    model.fit_one_cycle(num_epochs)\n",
    "    fit_report = (\n",
    "        pd.DataFrame.from_records(\n",
    "            model.recorder.values, columns=model.recorder.metric_names[1:-1]\n",
    "        )\n",
    "        .assign(\n",
    "            epoch=range(1, model.recorder.n_epoch + 1),\n",
    "            sample_prop=prop,\n",
    "            training_samples=len(loader.train_ds)\n",
    "        )\n",
    "    )\n",
    "\n",
    "    fit_reports.append(fit_report)"
   ]
  },
  {
   "cell_type": "code",
   "execution_count": 22,
   "id": "6ea6d6a0",
   "metadata": {
    "scrolled": true
   },
   "outputs": [],
   "source": [
    "all_report = pd.concat(fit_reports)"
   ]
  },
  {
   "cell_type": "code",
   "execution_count": null,
   "id": "f749aa61",
   "metadata": {},
   "outputs": [],
   "source": [
    "save_data(all_report, snakemake.output[\"fit_report\"])"
   ]
  },
  {
   "cell_type": "code",
   "execution_count": null,
   "id": "47905ea2",
   "metadata": {},
   "outputs": [],
   "source": []
  }
 ],
 "metadata": {
  "kernelspec": {
   "display_name": "Python 3",
   "language": "python",
   "name": "python3"
  },
  "language_info": {
   "codemirror_mode": {
    "name": "ipython",
    "version": 3
   },
   "file_extension": ".py",
   "mimetype": "text/x-python",
   "name": "python",
   "nbconvert_exporter": "python",
   "pygments_lexer": "ipython3",
   "version": "3.9.5"
  }
 },
 "nbformat": 4,
 "nbformat_minor": 5
}
